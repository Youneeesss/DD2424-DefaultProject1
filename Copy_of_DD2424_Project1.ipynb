{
  "cells": [
    {
      "cell_type": "code",
      "execution_count": 1,
      "metadata": {
        "colab": {
          "base_uri": "https://localhost:8080/"
        },
        "id": "s_iQue5xsebi",
        "outputId": "95097456-390a-4f10-bd26-3484e07fb954"
      },
      "outputs": [
        {
          "output_type": "stream",
          "name": "stdout",
          "text": [
            "Mounted at /content/drive\n"
          ]
        }
      ],
      "source": [
        "%matplotlib inline\n",
        "from google.colab import drive\n",
        "drive.mount(\"/content/drive\", force_remount=True)"
      ]
    },
    {
      "cell_type": "markdown",
      "metadata": {
        "id": "szS1jrBEsebn"
      },
      "source": [
        "\n",
        "Finetuning Torchvision Models\n",
        "=============================\n",
        "\n",
        "**Author:** `Nathan Inkawhich <https://github.com/inkawhich>`__\n",
        "\n",
        "\n"
      ]
    },
    {
      "cell_type": "markdown",
      "metadata": {
        "id": "glWvT2Wksebr"
      },
      "source": [
        "In this tutorial we will take a deeper look at how to finetune and\n",
        "feature extract the `torchvision\n",
        "models <https://pytorch.org/docs/stable/torchvision/models.html>`__, all\n",
        "of which have been pretrained on the 1000-class Imagenet dataset. This\n",
        "tutorial will give an indepth look at how to work with several modern\n",
        "CNN architectures, and will build an intuition for finetuning any\n",
        "PyTorch model. Since each model architecture is different, there is no\n",
        "boilerplate finetuning code that will work in all scenarios. Rather, the\n",
        "researcher must look at the existing architecture and make custom\n",
        "adjustments for each model.\n",
        "\n",
        "In this document we will perform two types of transfer learning:\n",
        "finetuning and feature extraction. In **finetuning**, we start with a\n",
        "pretrained model and update *all* of the model’s parameters for our new\n",
        "task, in essence retraining the whole model. In **feature extraction**,\n",
        "we start with a pretrained model and only update the final layer weights\n",
        "from which we derive predictions. It is called feature extraction\n",
        "because we use the pretrained CNN as a fixed feature-extractor, and only\n",
        "change the output layer. For more technical information about transfer\n",
        "learning see `here <https://cs231n.github.io/transfer-learning/>`__ and\n",
        "`here <https://ruder.io/transfer-learning/>`__.\n",
        "\n",
        "In general both transfer learning methods follow the same few steps:\n",
        "\n",
        "-  Initialize the pretrained model\n",
        "-  Reshape the final layer(s) to have the same number of outputs as the\n",
        "   number of classes in the new dataset\n",
        "-  Define for the optimization algorithm which parameters we want to\n",
        "   update during training\n",
        "-  Run the training step\n",
        "\n",
        "\n"
      ]
    },
    {
      "cell_type": "code",
      "execution_count": 2,
      "metadata": {
        "colab": {
          "base_uri": "https://localhost:8080/"
        },
        "id": "5W9yYLi1sebs",
        "outputId": "06ebfea3-1f56-4aa0-8fd8-c8083c9541e0"
      },
      "outputs": [
        {
          "output_type": "stream",
          "name": "stdout",
          "text": [
            "PyTorch Version:  2.0.0+cu118\n",
            "Torchvision Version:  0.15.1+cu118\n"
          ]
        }
      ],
      "source": [
        "from __future__ import print_function \n",
        "from __future__ import division\n",
        "from glob import glob\n",
        "import torch\n",
        "import torch.nn as nn\n",
        "import torch.optim as optim\n",
        "import numpy as np\n",
        "import torchvision\n",
        "from torchvision import datasets, models, transforms\n",
        "from torch.utils.data import DataLoader, Dataset\n",
        "import matplotlib.pyplot as plt\n",
        "import time\n",
        "import os\n",
        "import copy\n",
        "from PIL import Image\n",
        "\n",
        "print(\"PyTorch Version: \",torch.__version__)\n",
        "print(\"Torchvision Version: \",torchvision.__version__)"
      ]
    },
    {
      "cell_type": "code",
      "execution_count": 3,
      "metadata": {
        "id": "g88H4A-V1Gns"
      },
      "outputs": [],
      "source": [
        "#PET = torchvision.datasets.OxfordIIITPet(\"/content/PET\",download=False)\n",
        "PET = torchvision.datasets.OxfordIIITPet(\"/content/drive/MyDrive/PET\",download=False)\n",
        "# for i in range(0,100):\n",
        "#   print(PET.__getitem__(i))"
      ]
    },
    {
      "cell_type": "markdown",
      "metadata": {
        "id": "ZU9cswTQsebt"
      },
      "source": [
        "Inputs\n",
        "------\n",
        "\n",
        "Here are all of the parameters to change for the run. We will use the\n",
        "*hymenoptera_data* dataset which can be downloaded\n",
        "`here <https://download.pytorch.org/tutorial/hymenoptera_data.zip>`__.\n",
        "This dataset contains two classes, **bees** and **ants**, and is\n",
        "structured such that we can use the\n",
        "`ImageFolder <https://pytorch.org/docs/stable/torchvision/datasets.html#torchvision.datasets.ImageFolder>`__\n",
        "dataset, rather than writing our own custom dataset. Download the data\n",
        "and set the ``data_dir`` input to the root directory of the dataset. The\n",
        "``model_name`` input is the name of the model you wish to use and must\n",
        "be selected from this list:\n",
        "\n",
        "::\n",
        "\n",
        "   [resnet, alexnet, vgg, squeezenet, densenet, inception]\n",
        "\n",
        "The other inputs are as follows: ``num_classes`` is the number of\n",
        "classes in the dataset, ``batch_size`` is the batch size used for\n",
        "training and may be adjusted according to the capability of your\n",
        "machine, ``num_epochs`` is the number of training epochs we want to run,\n",
        "and ``feature_extract`` is a boolean that defines if we are finetuning\n",
        "or feature extracting. If ``feature_extract = False``, the model is\n",
        "finetuned and all model parameters are updated. If\n",
        "``feature_extract = True``, only the last layer parameters are updated,\n",
        "the others remain fixed.\n",
        "\n",
        "\n"
      ]
    },
    {
      "cell_type": "code",
      "execution_count": 4,
      "metadata": {
        "id": "PM-PlZC7fvox"
      },
      "outputs": [],
      "source": [
        "import pandas as pd\n",
        "  \n",
        "# read text file into pandas DataFrame\n",
        "df = pd.read_csv(\"/content/drive/MyDrive/PET/oxford-iiit-pet/annotations/trainval.txt\",names = [ 'name', 'class_label', 'binary_label', 'useless'],header = None,sep=\" \")\n",
        "  \n",
        "# display DataFrame\n",
        "#df.head()"
      ]
    },
    {
      "cell_type": "code",
      "execution_count": 6,
      "metadata": {
        "id": "3Smpc5R3fw_r"
      },
      "outputs": [],
      "source": [
        "binary_labels_trainval = df['binary_label'].tolist()\n",
        "class_labels_trainval = df['class_label'].tolist()\n",
        "name_trainval = df['name'].tolist()\n",
        "\n",
        "dog_trainval = {}\n",
        "cat_trainval = {}\n",
        "\n",
        "# print(binary_labels)\n",
        "# print(class_labels)"
      ]
    },
    {
      "cell_type": "code",
      "execution_count": 7,
      "metadata": {
        "id": "zZ-v9VjqghKY"
      },
      "outputs": [],
      "source": [
        "for i,bin in enumerate(binary_labels_trainval):\n",
        "  if bin == 1:\n",
        "    cat_trainval[i] = name_trainval[i]\n",
        "  else:\n",
        "    dog_trainval[i] = name_trainval[i]\n",
        "\n",
        "dogs_keys = list(dog_trainval.keys())\n",
        "cats_keys = list(cat_trainval.keys())\n",
        "\n",
        "np.random.seed(42)\n",
        "np.random.shuffle(dogs_keys)\n",
        "np.random.shuffle(cats_keys)\n",
        "\n",
        "cat_trainval = {key: cat_trainval[key] for key in cats_keys}\n",
        "dog_trainval = {key: dog_trainval[key] for key in dogs_keys}\n",
        "i = 0\n",
        "\n",
        "#for ind in cat_trainval:\n",
        "#   img, label = PET[int(ind)]\n",
        "#  display(img)\n",
        "#   if i == 0:\n",
        "#     break\n"
      ]
    },
    {
      "cell_type": "code",
      "execution_count": null,
      "metadata": {
        "colab": {
          "base_uri": "https://localhost:8080/"
        },
        "id": "wxBuQ3nBE1pB",
        "outputId": "5d7457e1-a368-499e-8c11-cb2d2da38f0a"
      },
      "outputs": [
        {
          "output_type": "stream",
          "name": "stdout",
          "text": [
            "[]\n"
          ]
        }
      ],
      "source": [
        "keys = [k for k, v in cat_trainval.items() if v == 'Bombay_105']\n",
        "print(keys)"
      ]
    },
    {
      "cell_type": "code",
      "execution_count": null,
      "metadata": {
        "colab": {
          "base_uri": "https://localhost:8080/",
          "height": 200
        },
        "id": "6fHi59CFE_GB",
        "outputId": "a98b56f8-e1de-4f2a-a661-79aee7b05d1c"
      },
      "outputs": [
        {
          "output_type": "error",
          "ename": "NameError",
          "evalue": "ignored",
          "traceback": [
            "\u001b[0;31m---------------------------------------------------------------------------\u001b[0m",
            "\u001b[0;31mNameError\u001b[0m                                 Traceback (most recent call last)",
            "\u001b[0;32m<ipython-input-6-fcbdf6c4677e>\u001b[0m in \u001b[0;36m<cell line: 1>\u001b[0;34m()\u001b[0m\n\u001b[0;32m----> 1\u001b[0;31m \u001b[0mimg\u001b[0m\u001b[0;34m,\u001b[0m \u001b[0mlabel\u001b[0m \u001b[0;34m=\u001b[0m \u001b[0mPET\u001b[0m\u001b[0;34m[\u001b[0m\u001b[0mint\u001b[0m\u001b[0;34m(\u001b[0m\u001b[0mkeys\u001b[0m\u001b[0;34m[\u001b[0m\u001b[0;36m0\u001b[0m\u001b[0;34m]\u001b[0m\u001b[0;34m)\u001b[0m\u001b[0;34m]\u001b[0m\u001b[0;34m\u001b[0m\u001b[0;34m\u001b[0m\u001b[0m\n\u001b[0m\u001b[1;32m      2\u001b[0m \u001b[0mdisplay\u001b[0m\u001b[0;34m(\u001b[0m\u001b[0mimg\u001b[0m\u001b[0;34m)\u001b[0m\u001b[0;34m\u001b[0m\u001b[0;34m\u001b[0m\u001b[0m\n\u001b[1;32m      3\u001b[0m \u001b[0mprint\u001b[0m\u001b[0;34m(\u001b[0m\u001b[0mcat_trainval\u001b[0m\u001b[0;34m[\u001b[0m\u001b[0mkeys\u001b[0m\u001b[0;34m[\u001b[0m\u001b[0;36m0\u001b[0m\u001b[0;34m]\u001b[0m\u001b[0;34m]\u001b[0m\u001b[0;34m)\u001b[0m\u001b[0;34m\u001b[0m\u001b[0;34m\u001b[0m\u001b[0m\n",
            "\u001b[0;31mNameError\u001b[0m: name 'PET' is not defined"
          ]
        }
      ],
      "source": [
        "img, label = PET[int(keys[0])]\n",
        "display(img)\n",
        "print(cat_trainval[keys[0]])"
      ]
    },
    {
      "cell_type": "code",
      "execution_count": 8,
      "metadata": {
        "id": "iAgKYABBjCEr"
      },
      "outputs": [],
      "source": [
        "train_split = 0.8\n",
        "cat_indexes = list(cat_trainval.items())\n",
        "dog_indexes = list(dog_trainval.items())\n",
        "\n",
        "N_dog = int(train_split * len(dog_indexes))\n",
        "N_cat = int(train_split * len(cat_indexes))\n",
        "\n",
        "dog_train = dict(dog_indexes[:N_dog])\n",
        "cat_train = dict(cat_indexes[:N_cat])\n",
        "\n",
        "dog_val = dict(dog_indexes[N_dog:])\n",
        "\n",
        "cat_val = dict(cat_indexes[N_cat:])\n",
        "\n",
        "\n",
        "training_data = {}\n",
        "training_data.update(cat_train)\n",
        "training_data.update(dog_train)\n",
        "\n",
        "validation_data = {}\n",
        "validation_data.update(cat_val)\n",
        "validation_data.update(dog_val)"
      ]
    },
    {
      "cell_type": "code",
      "execution_count": 10,
      "metadata": {
        "id": "5dVQaxcBslf_"
      },
      "outputs": [],
      "source": [
        "import os\n",
        "import pandas as pd\n",
        "\n",
        "class CustomImageDataset(Dataset):\n",
        "    def __init__(self, annotations_file, img_dir, transform=None, target_transform=None):\n",
        "        self.img_labels = pd.read_csv(annotations_file, names = [ 'name', 'class_label', 'binary_label', 'useless'],header = None,sep=\" \")\n",
        "        self.img_dir = img_dir\n",
        "        self.transform = transform\n",
        "        self.target_transform = target_transform\n",
        "\n",
        "    def __len__(self):\n",
        "        return len(self.img_labels)\n",
        "\n",
        "    def __getitem__(self, idx):\n",
        "        img_path = os.path.join(self.img_dir, self.img_labels.iloc[idx, 0]+\".jpg\")\n",
        "        image = Image.open(img_path).convert('RGB')\n",
        "        class_label = self.img_labels.iloc[idx, 1] - 1\n",
        "        binary_label = self.img_labels.iloc[idx, 2] - 1\n",
        "        if self.transform:\n",
        "            image = self.transform(image)\n",
        "        if self.target_transform:\n",
        "            label = self.target_transform(label)\n",
        "        return image, class_label, binary_label\n",
        "\n",
        "\n",
        "\n",
        "#test = CustomImageDataset(\"/content/drive/MyDrive/oxford-iiit-pet/annotations/trainval.txt\",\n",
        "#                         \"/content/drive/MyDrive/oxford-iiit-pet/images\")\n"
      ]
    },
    {
      "cell_type": "code",
      "execution_count": 11,
      "metadata": {
        "id": "3vNMMDpYsebu"
      },
      "outputs": [],
      "source": [
        "# Top level data directory. Here we assume the format of the directory conforms \n",
        "#   to the ImageFolder structure\n",
        "#data_dir = \"/content/drive/MyDrive/oxford_iiit-pet\"\n",
        "\n",
        "# Models to choose from [resnet, alexnet, vgg, squeezenet, densenet, inception]\n",
        "model_name = \"resnet\"\n",
        "\n",
        "# Number of classes in the dataset\n",
        "num_classes = 37\n",
        "\n",
        "# Batch size for training (change depending on how much memory you have)\n",
        "batch_size = 8\n",
        "\n",
        "# Number of epochs to train for \n",
        "num_epochs = 15\n",
        "\n",
        "# Flag for feature extracting. When False, we finetune the whole model, \n",
        "#   when True we only update the reshaped layer params\n",
        "feature_extract = True"
      ]
    },
    {
      "cell_type": "markdown",
      "metadata": {
        "id": "uDlZ1EjOsebw"
      },
      "source": [
        "Helper Functions\n",
        "----------------\n",
        "\n",
        "Before we write the code for adjusting the models, lets define a few\n",
        "helper functions.\n",
        "\n",
        "Model Training and Validation Code\n",
        "~~~~~~~~~~~~~~~~~~~~~~~~~~~~~~~~~~\n",
        "\n",
        "The ``train_model`` function handles the training and validation of a\n",
        "given model. As input, it takes a PyTorch model, a dictionary of\n",
        "dataloaders, a loss function, an optimizer, a specified number of epochs\n",
        "to train and validate for, and a boolean flag for when the model is an\n",
        "Inception model. The *is_inception* flag is used to accomodate the\n",
        "*Inception v3* model, as that architecture uses an auxiliary output and\n",
        "the overall model loss respects both the auxiliary output and the final\n",
        "output, as described\n",
        "`here <https://discuss.pytorch.org/t/how-to-optimize-inception-model-with-auxiliary-classifiers/7958>`__.\n",
        "The function trains for the specified number of epochs and after each\n",
        "epoch runs a full validation step. It also keeps track of the best\n",
        "performing model (in terms of validation accuracy), and at the end of\n",
        "training returns the best performing model. After each epoch, the\n",
        "training and validation accuracies are printed.\n",
        "\n",
        "\n"
      ]
    },
    {
      "cell_type": "code",
      "execution_count": 19,
      "metadata": {
        "id": "JTaQmQCYsebx"
      },
      "outputs": [],
      "source": [
        "def train_model(model, dataloaders, criterion, optimizer, num_epochs=25, is_inception=False):\n",
        "    since = time.time()\n",
        "\n",
        "    val_acc_history = []\n",
        "    \n",
        "    best_model_wts = copy.deepcopy(model.state_dict())\n",
        "    best_acc = 0.0\n",
        "\n",
        "    for epoch in range(num_epochs):\n",
        "        print('Epoch {}/{}'.format(epoch, num_epochs - 1))\n",
        "        print('-' * 10)\n",
        "\n",
        "        # Each epoch has a training and validation phase\n",
        "        for phase in ['train', 'val']:\n",
        "            if phase == 'train':\n",
        "                model.train()  # Set model to training mode\n",
        "            else:\n",
        "                model.eval()   # Set model to evaluate mode\n",
        "\n",
        "            running_loss = 0.0\n",
        "            running_corrects = 0\n",
        "\n",
        "            # Iterate over data.\n",
        "            for inputs, breed, labels in dataloaders[phase]:\n",
        "                inputs = inputs.to(device)\n",
        "                breed = breed.to(device)\n",
        "\n",
        "                # zero the parameter gradients\n",
        "                optimizer.zero_grad()\n",
        "\n",
        "                # forward\n",
        "                # track history if only in train\n",
        "                with torch.set_grad_enabled(phase == 'train'):\n",
        "                    # Get model outputs and calculate loss\n",
        "                    # Special case for inception because in training it has an auxiliary output. In train\n",
        "                    #   mode we calculate the loss by summing the final output and the auxiliary output\n",
        "                    #   but in testing we only consider the final output.\n",
        "                    if is_inception and phase == 'train':\n",
        "                        # From https://discuss.pytorch.org/t/how-to-optimize-inception-model-with-auxiliary-classifiers/7958\n",
        "                        outputs, aux_outputs = model(inputs)\n",
        "                        # loss1 = criterion(outputs, labels) #\n",
        "                        loss1 = criterion(outputs, breed) #\n",
        "                        # loss2 = criterion(aux_outputs, labels)#/\n",
        "                        loss2 = criterion(aux_outputs, breed)#\n",
        "                        loss = loss1 + 0.4*loss2\n",
        "                    else:\n",
        "                        outputs = model(inputs)\n",
        "                        # loss = criterion(outputs, labels)\n",
        "                        loss = criterion(outputs,breed)\n",
        "\n",
        "                    _, preds = torch.max(outputs, 1)\n",
        "\n",
        "                    # backward + optimize only if in training phase\n",
        "                    if phase == 'train':\n",
        "                        loss.backward()\n",
        "                        optimizer.step()\n",
        "\n",
        "                # statistics\n",
        "                running_loss += loss.item() * inputs.size(0)\n",
        "                # running_corrects += torch.sum(preds == labels.data)\n",
        "                running_corrects += torch.sum(preds == breed.data)\n",
        "\n",
        "            epoch_loss = running_loss / len(dataloaders[phase].dataset)\n",
        "            epoch_acc = running_corrects.double() / len(dataloaders[phase].dataset)\n",
        "\n",
        "            print('{} Loss: {:.4f} Acc: {:.4f}'.format(phase, epoch_loss, epoch_acc))\n",
        "\n",
        "            # deep copy the model\n",
        "            if phase == 'val' and epoch_acc > best_acc:\n",
        "                best_acc = epoch_acc\n",
        "                best_model_wts = copy.deepcopy(model.state_dict())\n",
        "            if phase == 'val':\n",
        "                val_acc_history.append(epoch_acc)\n",
        "\n",
        "        print()\n",
        "\n",
        "    time_elapsed = time.time() - since\n",
        "    print('Training complete in {:.0f}m {:.0f}s'.format(time_elapsed // 60, time_elapsed % 60))\n",
        "    print('Best val Acc: {:4f}'.format(best_acc))\n",
        "\n",
        "    # load best model weights\n",
        "    model.load_state_dict(best_model_wts)\n",
        "    return model, val_acc_history"
      ]
    },
    {
      "cell_type": "markdown",
      "metadata": {
        "id": "QqXC44lvsebz"
      },
      "source": [
        "Set Model Parameters’ .requires_grad attribute\n",
        "~~~~~~~~~~~~~~~~~~~~~~~~~~~~~~~~~~~~~~~~~~~~~~\n",
        "\n",
        "This helper function sets the ``.requires_grad`` attribute of the\n",
        "parameters in the model to False when we are feature extracting. By\n",
        "default, when we load a pretrained model all of the parameters have\n",
        "``.requires_grad=True``, which is fine if we are training from scratch\n",
        "or finetuning. However, if we are feature extracting and only want to\n",
        "compute gradients for the newly initialized layer then we want all of\n",
        "the other parameters to not require gradients. This will make more sense\n",
        "later.\n",
        "\n",
        "\n"
      ]
    },
    {
      "cell_type": "code",
      "execution_count": 13,
      "metadata": {
        "id": "rBjTsOxlsebz"
      },
      "outputs": [],
      "source": [
        "def set_parameter_requires_grad(model, feature_extracting):\n",
        "    if feature_extracting:\n",
        "        for param in model.parameters():\n",
        "            param.requires_grad = False"
      ]
    },
    {
      "cell_type": "markdown",
      "metadata": {
        "id": "JP-6bC_Dseb1"
      },
      "source": [
        "Initialize and Reshape the Networks\n",
        "-----------------------------------\n",
        "\n",
        "Now to the most interesting part. Here is where we handle the reshaping\n",
        "of each network. Note, this is not an automatic procedure and is unique\n",
        "to each model. Recall, the final layer of a CNN model, which is often\n",
        "times an FC layer, has the same number of nodes as the number of output\n",
        "classes in the dataset. Since all of the models have been pretrained on\n",
        "Imagenet, they all have output layers of size 1000, one node for each\n",
        "class. The goal here is to reshape the last layer to have the same\n",
        "number of inputs as before, AND to have the same number of outputs as\n",
        "the number of classes in the dataset. In the following sections we will\n",
        "discuss how to alter the architecture of each model individually. But\n",
        "first, there is one important detail regarding the difference between\n",
        "finetuning and feature-extraction.\n",
        "\n",
        "When feature extracting, we only want to update the parameters of the\n",
        "last layer, or in other words, we only want to update the parameters for\n",
        "the layer(s) we are reshaping. Therefore, we do not need to compute the\n",
        "gradients of the parameters that we are not changing, so for efficiency\n",
        "we set the .requires_grad attribute to False. This is important because\n",
        "by default, this attribute is set to True. Then, when we initialize the\n",
        "new layer and by default the new parameters have ``.requires_grad=True``\n",
        "so only the new layer’s parameters will be updated. When we are\n",
        "finetuning we can leave all of the .required_grad’s set to the default\n",
        "of True.\n",
        "\n",
        "Finally, notice that inception_v3 requires the input size to be\n",
        "(299,299), whereas all of the other models expect (224,224).\n",
        "\n",
        "Resnet\n",
        "~~~~~~\n",
        "\n",
        "Resnet was introduced in the paper `Deep Residual Learning for Image\n",
        "Recognition <https://arxiv.org/abs/1512.03385>`__. There are several\n",
        "variants of different sizes, including Resnet18, Resnet34, Resnet50,\n",
        "Resnet101, and Resnet152, all of which are available from torchvision\n",
        "models. Here we use Resnet18, as our dataset is small and only has two\n",
        "classes. When we print the model, we see that the last layer is a fully\n",
        "connected layer as shown below:\n",
        "\n",
        "::\n",
        "\n",
        "   (fc): Linear(in_features=512, out_features=1000, bias=True) \n",
        "\n",
        "Thus, we must reinitialize ``model.fc`` to be a Linear layer with 512\n",
        "input features and 2 output features with:\n",
        "\n",
        "::\n",
        "\n",
        "   model.fc = nn.Linear(512, num_classes)\n",
        "\n",
        "Alexnet\n",
        "~~~~~~~\n",
        "\n",
        "Alexnet was introduced in the paper `ImageNet Classification with Deep\n",
        "Convolutional Neural\n",
        "Networks <https://papers.nips.cc/paper/4824-imagenet-classification-with-deep-convolutional-neural-networks.pdf>`__\n",
        "and was the first very successful CNN on the ImageNet dataset. When we\n",
        "print the model architecture, we see the model output comes from the 6th\n",
        "layer of the classifier\n",
        "\n",
        "::\n",
        "\n",
        "   (classifier): Sequential(\n",
        "       ...\n",
        "       (6): Linear(in_features=4096, out_features=1000, bias=True)\n",
        "    ) \n",
        "\n",
        "To use the model with our dataset we reinitialize this layer as\n",
        "\n",
        "::\n",
        "\n",
        "   model.classifier[6] = nn.Linear(4096,num_classes)\n",
        "\n",
        "VGG\n",
        "~~~\n",
        "\n",
        "VGG was introduced in the paper `Very Deep Convolutional Networks for\n",
        "Large-Scale Image Recognition <https://arxiv.org/pdf/1409.1556.pdf>`__.\n",
        "Torchvision offers eight versions of VGG with various lengths and some\n",
        "that have batch normalizations layers. Here we use VGG-11 with batch\n",
        "normalization. The output layer is similar to Alexnet, i.e.\n",
        "\n",
        "::\n",
        "\n",
        "   (classifier): Sequential(\n",
        "       ...\n",
        "       (6): Linear(in_features=4096, out_features=1000, bias=True)\n",
        "    )\n",
        "\n",
        "Therefore, we use the same technique to modify the output layer\n",
        "\n",
        "::\n",
        "\n",
        "   model.classifier[6] = nn.Linear(4096,num_classes)\n",
        "\n",
        "Squeezenet\n",
        "~~~~~~~~~~\n",
        "\n",
        "The Squeeznet architecture is described in the paper `SqueezeNet:\n",
        "AlexNet-level accuracy with 50x fewer parameters and <0.5MB model\n",
        "size <https://arxiv.org/abs/1602.07360>`__ and uses a different output\n",
        "structure than any of the other models shown here. Torchvision has two\n",
        "versions of Squeezenet, we use version 1.0. The output comes from a 1x1\n",
        "convolutional layer which is the 1st layer of the classifier:\n",
        "\n",
        "::\n",
        "\n",
        "   (classifier): Sequential(\n",
        "       (0): Dropout(p=0.5)\n",
        "       (1): Conv2d(512, 1000, kernel_size=(1, 1), stride=(1, 1))\n",
        "       (2): ReLU(inplace)\n",
        "       (3): AvgPool2d(kernel_size=13, stride=1, padding=0)\n",
        "    ) \n",
        "\n",
        "To modify the network, we reinitialize the Conv2d layer to have an\n",
        "output feature map of depth 2 as\n",
        "\n",
        "::\n",
        "\n",
        "   model.classifier[1] = nn.Conv2d(512, num_classes, kernel_size=(1,1), stride=(1,1))\n",
        "\n",
        "Densenet\n",
        "~~~~~~~~\n",
        "\n",
        "Densenet was introduced in the paper `Densely Connected Convolutional\n",
        "Networks <https://arxiv.org/abs/1608.06993>`__. Torchvision has four\n",
        "variants of Densenet but here we only use Densenet-121. The output layer\n",
        "is a linear layer with 1024 input features:\n",
        "\n",
        "::\n",
        "\n",
        "   (classifier): Linear(in_features=1024, out_features=1000, bias=True) \n",
        "\n",
        "To reshape the network, we reinitialize the classifier’s linear layer as\n",
        "\n",
        "::\n",
        "\n",
        "   model.classifier = nn.Linear(1024, num_classes)\n",
        "\n",
        "Inception v3\n",
        "~~~~~~~~~~~~\n",
        "\n",
        "Finally, Inception v3 was first described in `Rethinking the Inception\n",
        "Architecture for Computer\n",
        "Vision <https://arxiv.org/pdf/1512.00567v1.pdf>`__. This network is\n",
        "unique because it has two output layers when training. The second output\n",
        "is known as an auxiliary output and is contained in the AuxLogits part\n",
        "of the network. The primary output is a linear layer at the end of the\n",
        "network. Note, when testing we only consider the primary output. The\n",
        "auxiliary output and primary output of the loaded model are printed as:\n",
        "\n",
        "::\n",
        "\n",
        "   (AuxLogits): InceptionAux(\n",
        "       ...\n",
        "       (fc): Linear(in_features=768, out_features=1000, bias=True)\n",
        "    )\n",
        "    ...\n",
        "   (fc): Linear(in_features=2048, out_features=1000, bias=True)\n",
        "\n",
        "To finetune this model we must reshape both layers. This is accomplished\n",
        "with the following\n",
        "\n",
        "::\n",
        "\n",
        "   model.AuxLogits.fc = nn.Linear(768, num_classes)\n",
        "   model.fc = nn.Linear(2048, num_classes)\n",
        "\n",
        "Notice, many of the models have similar output structures, but each must\n",
        "be handled slightly differently. Also, check out the printed model\n",
        "architecture of the reshaped network and make sure the number of output\n",
        "features is the same as the number of classes in the dataset.\n",
        "\n",
        "\n"
      ]
    },
    {
      "cell_type": "code",
      "source": [
        "# folder = '/content/drive/MyDrive/pets_train/images'\n",
        "# for filename in os.listdir(folder):\n",
        "#     file_path = os.path.join(folder, filename)\n",
        "#     try:\n",
        "#         if os.path.isfile(file_path) or os.path.islink(file_path):\n",
        "#             os.unlink(file_path)\n",
        "#         elif os.path.isdir(file_path):\n",
        "#             shutil.rmtree(file_path)\n",
        "#     except Exception as e:\n",
        "#         print('Failed to delete %s. Reason: %s' % (file_path, e))"
      ],
      "metadata": {
        "id": "7G2_6v61N0rg"
      },
      "execution_count": null,
      "outputs": []
    },
    {
      "cell_type": "code",
      "execution_count": null,
      "metadata": {
        "id": "CqPOAsSg7BL5"
      },
      "outputs": [],
      "source": [
        "#Split the annotations into two folders : Train and Validation.\n",
        "\n",
        "with open('/content/drive/MyDrive/PET/oxford-iiit-pet/annotations/trainval.txt', 'r', encoding='utf-8') as f:\n",
        "  images = f.readlines()\n",
        "\n",
        "with open('/content/drive/MyDrive/pets_train/train.txt', 'w', encoding='utf-8') as file:\n",
        "  for elt in training_data:\n",
        "    file.write(images[int(elt)])\n",
        "\n",
        "with open('/content/drive/MyDrive/pets_val/validation.txt', 'w', encoding='utf-8') as file:\n",
        "  for elt in validation_data:\n",
        "    file.write(images[int(elt)])\n"
      ]
    },
    {
      "cell_type": "code",
      "execution_count": null,
      "metadata": {
        "id": "m67RNJOk2GxF"
      },
      "outputs": [],
      "source": [
        "#Split the images into two folders : Train and Validation.\n",
        "\n",
        "import os\n",
        "import shutil\n",
        "# Create new directories\n",
        "src_dir =  '/content/drive/MyDrive/PET/oxford-iiit-pet/images'\n",
        "image_filenames = [f for f in os.listdir(src_dir)]\n",
        "\n",
        "with open('/content/drive/MyDrive/pets_train/train.txt', 'r', encoding='utf-8') as file:\n",
        "  train_values = file.readlines()\n",
        "training = []\n",
        "for elt in train_values:\n",
        "  training += [elt.split(' ')[0]]\n",
        "\n",
        "with open('/content/drive/MyDrive/pets_val/validation.txt', 'r', encoding='utf-8') as file:\n",
        "  valid_values = file.readlines()\n",
        "validation = []\n",
        "for elt in valid_values:\n",
        "  validation += [elt.split(' ')[0]]\n",
        "\n",
        "for image in image_filenames:\n",
        "  if os.path.splitext(image)[0] in training:\n",
        "    src_path = os.path.join(src_dir, image)\n",
        "    dst_path = os.path.join('/content/drive/MyDrive/pets_train/images', image)\n",
        "    shutil.copy2(src_path, dst_path)\n",
        "  else:\n",
        "    src_path = os.path.join(src_dir, image)\n",
        "    dst_path = os.path.join('/content/drive/MyDrive/pets_val/images', image)\n",
        "    shutil.copy2(src_path, dst_path)\n",
        "\n"
      ]
    },
    {
      "cell_type": "code",
      "execution_count": null,
      "metadata": {
        "id": "Sal6dT2D6Y2_"
      },
      "outputs": [],
      "source": [
        "train_test = CustomImageDataset(\"/content/drive/MyDrive/pets_train/train.txt\",\n",
        "                         \"/content/drive/MyDrive/pets_train/images\")\n",
        "val_test = CustomImageDataset(\"/content/drive/MyDrive/pets_val/validation.txt\",\n",
        "                         \"/content/drive/MyDrive/pets_val/images\")"
      ]
    },
    {
      "cell_type": "code",
      "execution_count": 14,
      "metadata": {
        "colab": {
          "base_uri": "https://localhost:8080/"
        },
        "id": "GzfFEWYlseb2",
        "outputId": "6f9898a2-e0c5-49ad-efb1-fbd0f2c2019b"
      },
      "outputs": [
        {
          "output_type": "stream",
          "name": "stderr",
          "text": [
            "/usr/local/lib/python3.10/dist-packages/torchvision/models/_utils.py:208: UserWarning: The parameter 'pretrained' is deprecated since 0.13 and may be removed in the future, please use 'weights' instead.\n",
            "  warnings.warn(\n",
            "/usr/local/lib/python3.10/dist-packages/torchvision/models/_utils.py:223: UserWarning: Arguments other than a weight enum or `None` for 'weights' are deprecated since 0.13 and may be removed in the future. The current behavior is equivalent to passing `weights=ResNet18_Weights.IMAGENET1K_V1`. You can also use `weights=ResNet18_Weights.DEFAULT` to get the most up-to-date weights.\n",
            "  warnings.warn(msg)\n",
            "Downloading: \"https://download.pytorch.org/models/resnet18-f37072fd.pth\" to /root/.cache/torch/hub/checkpoints/resnet18-f37072fd.pth\n",
            "100%|██████████| 44.7M/44.7M [00:00<00:00, 298MB/s]\n"
          ]
        },
        {
          "output_type": "stream",
          "name": "stdout",
          "text": [
            "ResNet(\n",
            "  (conv1): Conv2d(3, 64, kernel_size=(7, 7), stride=(2, 2), padding=(3, 3), bias=False)\n",
            "  (bn1): BatchNorm2d(64, eps=1e-05, momentum=0.1, affine=True, track_running_stats=True)\n",
            "  (relu): ReLU(inplace=True)\n",
            "  (maxpool): MaxPool2d(kernel_size=3, stride=2, padding=1, dilation=1, ceil_mode=False)\n",
            "  (layer1): Sequential(\n",
            "    (0): BasicBlock(\n",
            "      (conv1): Conv2d(64, 64, kernel_size=(3, 3), stride=(1, 1), padding=(1, 1), bias=False)\n",
            "      (bn1): BatchNorm2d(64, eps=1e-05, momentum=0.1, affine=True, track_running_stats=True)\n",
            "      (relu): ReLU(inplace=True)\n",
            "      (conv2): Conv2d(64, 64, kernel_size=(3, 3), stride=(1, 1), padding=(1, 1), bias=False)\n",
            "      (bn2): BatchNorm2d(64, eps=1e-05, momentum=0.1, affine=True, track_running_stats=True)\n",
            "    )\n",
            "    (1): BasicBlock(\n",
            "      (conv1): Conv2d(64, 64, kernel_size=(3, 3), stride=(1, 1), padding=(1, 1), bias=False)\n",
            "      (bn1): BatchNorm2d(64, eps=1e-05, momentum=0.1, affine=True, track_running_stats=True)\n",
            "      (relu): ReLU(inplace=True)\n",
            "      (conv2): Conv2d(64, 64, kernel_size=(3, 3), stride=(1, 1), padding=(1, 1), bias=False)\n",
            "      (bn2): BatchNorm2d(64, eps=1e-05, momentum=0.1, affine=True, track_running_stats=True)\n",
            "    )\n",
            "  )\n",
            "  (layer2): Sequential(\n",
            "    (0): BasicBlock(\n",
            "      (conv1): Conv2d(64, 128, kernel_size=(3, 3), stride=(2, 2), padding=(1, 1), bias=False)\n",
            "      (bn1): BatchNorm2d(128, eps=1e-05, momentum=0.1, affine=True, track_running_stats=True)\n",
            "      (relu): ReLU(inplace=True)\n",
            "      (conv2): Conv2d(128, 128, kernel_size=(3, 3), stride=(1, 1), padding=(1, 1), bias=False)\n",
            "      (bn2): BatchNorm2d(128, eps=1e-05, momentum=0.1, affine=True, track_running_stats=True)\n",
            "      (downsample): Sequential(\n",
            "        (0): Conv2d(64, 128, kernel_size=(1, 1), stride=(2, 2), bias=False)\n",
            "        (1): BatchNorm2d(128, eps=1e-05, momentum=0.1, affine=True, track_running_stats=True)\n",
            "      )\n",
            "    )\n",
            "    (1): BasicBlock(\n",
            "      (conv1): Conv2d(128, 128, kernel_size=(3, 3), stride=(1, 1), padding=(1, 1), bias=False)\n",
            "      (bn1): BatchNorm2d(128, eps=1e-05, momentum=0.1, affine=True, track_running_stats=True)\n",
            "      (relu): ReLU(inplace=True)\n",
            "      (conv2): Conv2d(128, 128, kernel_size=(3, 3), stride=(1, 1), padding=(1, 1), bias=False)\n",
            "      (bn2): BatchNorm2d(128, eps=1e-05, momentum=0.1, affine=True, track_running_stats=True)\n",
            "    )\n",
            "  )\n",
            "  (layer3): Sequential(\n",
            "    (0): BasicBlock(\n",
            "      (conv1): Conv2d(128, 256, kernel_size=(3, 3), stride=(2, 2), padding=(1, 1), bias=False)\n",
            "      (bn1): BatchNorm2d(256, eps=1e-05, momentum=0.1, affine=True, track_running_stats=True)\n",
            "      (relu): ReLU(inplace=True)\n",
            "      (conv2): Conv2d(256, 256, kernel_size=(3, 3), stride=(1, 1), padding=(1, 1), bias=False)\n",
            "      (bn2): BatchNorm2d(256, eps=1e-05, momentum=0.1, affine=True, track_running_stats=True)\n",
            "      (downsample): Sequential(\n",
            "        (0): Conv2d(128, 256, kernel_size=(1, 1), stride=(2, 2), bias=False)\n",
            "        (1): BatchNorm2d(256, eps=1e-05, momentum=0.1, affine=True, track_running_stats=True)\n",
            "      )\n",
            "    )\n",
            "    (1): BasicBlock(\n",
            "      (conv1): Conv2d(256, 256, kernel_size=(3, 3), stride=(1, 1), padding=(1, 1), bias=False)\n",
            "      (bn1): BatchNorm2d(256, eps=1e-05, momentum=0.1, affine=True, track_running_stats=True)\n",
            "      (relu): ReLU(inplace=True)\n",
            "      (conv2): Conv2d(256, 256, kernel_size=(3, 3), stride=(1, 1), padding=(1, 1), bias=False)\n",
            "      (bn2): BatchNorm2d(256, eps=1e-05, momentum=0.1, affine=True, track_running_stats=True)\n",
            "    )\n",
            "  )\n",
            "  (layer4): Sequential(\n",
            "    (0): BasicBlock(\n",
            "      (conv1): Conv2d(256, 512, kernel_size=(3, 3), stride=(2, 2), padding=(1, 1), bias=False)\n",
            "      (bn1): BatchNorm2d(512, eps=1e-05, momentum=0.1, affine=True, track_running_stats=True)\n",
            "      (relu): ReLU(inplace=True)\n",
            "      (conv2): Conv2d(512, 512, kernel_size=(3, 3), stride=(1, 1), padding=(1, 1), bias=False)\n",
            "      (bn2): BatchNorm2d(512, eps=1e-05, momentum=0.1, affine=True, track_running_stats=True)\n",
            "      (downsample): Sequential(\n",
            "        (0): Conv2d(256, 512, kernel_size=(1, 1), stride=(2, 2), bias=False)\n",
            "        (1): BatchNorm2d(512, eps=1e-05, momentum=0.1, affine=True, track_running_stats=True)\n",
            "      )\n",
            "    )\n",
            "    (1): BasicBlock(\n",
            "      (conv1): Conv2d(512, 512, kernel_size=(3, 3), stride=(1, 1), padding=(1, 1), bias=False)\n",
            "      (bn1): BatchNorm2d(512, eps=1e-05, momentum=0.1, affine=True, track_running_stats=True)\n",
            "      (relu): ReLU(inplace=True)\n",
            "      (conv2): Conv2d(512, 512, kernel_size=(3, 3), stride=(1, 1), padding=(1, 1), bias=False)\n",
            "      (bn2): BatchNorm2d(512, eps=1e-05, momentum=0.1, affine=True, track_running_stats=True)\n",
            "    )\n",
            "  )\n",
            "  (avgpool): AdaptiveAvgPool2d(output_size=(1, 1))\n",
            "  (fc): Linear(in_features=512, out_features=37, bias=True)\n",
            ")\n"
          ]
        }
      ],
      "source": [
        "def initialize_model(model_name, num_classes, feature_extract, use_pretrained=True):\n",
        "    # Initialize these variables which will be set in this if statement. Each of these\n",
        "    #   variables is model specific.\n",
        "    model_ft = None\n",
        "    input_size = 0\n",
        "\n",
        "    if model_name == \"resnet\":\n",
        "        \"\"\" Resnet18\n",
        "        \"\"\"\n",
        "        model_ft = models.resnet18(pretrained=use_pretrained)\n",
        "        set_parameter_requires_grad(model_ft, feature_extract)\n",
        "        num_ftrs = model_ft.fc.in_features\n",
        "        model_ft.fc = nn.Linear(num_ftrs, num_classes)\n",
        "        input_size = 224\n",
        "\n",
        "    elif model_name == \"alexnet\":\n",
        "        \"\"\" Alexnet\n",
        "        \"\"\"\n",
        "        model_ft = models.alexnet(pretrained=use_pretrained)\n",
        "        set_parameter_requires_grad(model_ft, feature_extract)\n",
        "        num_ftrs = model_ft.classifier[6].in_features\n",
        "        model_ft.classifier[6] = nn.Linear(num_ftrs,num_classes)\n",
        "        input_size = 224\n",
        "\n",
        "    elif model_name == \"vgg\":\n",
        "        \"\"\" VGG11_bn\n",
        "        \"\"\"\n",
        "        model_ft = models.vgg11_bn(pretrained=use_pretrained)\n",
        "        set_parameter_requires_grad(model_ft, feature_extract)\n",
        "        num_ftrs = model_ft.classifier[6].in_features\n",
        "        model_ft.classifier[6] = nn.Linear(num_ftrs,num_classes)\n",
        "        input_size = 224\n",
        "\n",
        "    elif model_name == \"squeezenet\":\n",
        "        \"\"\" Squeezenet\n",
        "        \"\"\"\n",
        "        model_ft = models.squeezenet1_0(pretrained=use_pretrained)\n",
        "        set_parameter_requires_grad(model_ft, feature_extract)\n",
        "        model_ft.classifier[1] = nn.Conv2d(512, num_classes, kernel_size=(1,1), stride=(1,1))\n",
        "        model_ft.num_classes = num_classes\n",
        "        input_size = 224\n",
        "\n",
        "    elif model_name == \"densenet\":\n",
        "        \"\"\" Densenet\n",
        "        \"\"\"\n",
        "        model_ft = models.densenet121(pretrained=use_pretrained)\n",
        "        set_parameter_requires_grad(model_ft, feature_extract)\n",
        "        num_ftrs = model_ft.classifier.in_features\n",
        "        model_ft.classifier = nn.Linear(num_ftrs, num_classes) \n",
        "        input_size = 224\n",
        "\n",
        "    elif model_name == \"inception\":\n",
        "        \"\"\" Inception v3 \n",
        "        Be careful, expects (299,299) sized images and has auxiliary output\n",
        "        \"\"\"\n",
        "        model_ft = models.inception_v3(pretrained=use_pretrained)\n",
        "        set_parameter_requires_grad(model_ft, feature_extract)\n",
        "        # Handle the auxilary net\n",
        "        num_ftrs = model_ft.AuxLogits.fc.in_features\n",
        "        model_ft.AuxLogits.fc = nn.Linear(num_ftrs, num_classes)\n",
        "        # Handle the primary net\n",
        "        num_ftrs = model_ft.fc.in_features\n",
        "        model_ft.fc = nn.Linear(num_ftrs,num_classes)\n",
        "        input_size = 299\n",
        "\n",
        "    else:\n",
        "        print(\"Invalid model name, exiting...\")\n",
        "        exit()\n",
        "    \n",
        "    return model_ft, input_size\n",
        "\n",
        "# Initialize the model for this run\n",
        "model_ft, input_size = initialize_model(model_name, num_classes, feature_extract, use_pretrained=True)\n",
        "\n",
        "# Print the model we just instantiated\n",
        "print(model_ft)"
      ]
    },
    {
      "cell_type": "markdown",
      "metadata": {
        "id": "iRkQPqqCseb3"
      },
      "source": [
        "Load Data\n",
        "---------\n",
        "\n",
        "Now that we know what the input size must be, we can initialize the data\n",
        "transforms, image datasets, and the dataloaders. Notice, the models were\n",
        "pretrained with the hard-coded normalization values, as described\n",
        "`here <https://pytorch.org/docs/master/torchvision/models.html>`__.\n",
        "\n",
        "\n"
      ]
    },
    {
      "cell_type": "code",
      "execution_count": 26,
      "metadata": {
        "colab": {
          "base_uri": "https://localhost:8080/"
        },
        "id": "8waj7Lufseb3",
        "outputId": "3d2b99e8-92d6-474c-bbdd-a29b3d1c851a"
      },
      "outputs": [
        {
          "output_type": "stream",
          "name": "stdout",
          "text": [
            "Initializing Datasets and Dataloaders...\n",
            "<class 'torch.Tensor'>\n"
          ]
        }
      ],
      "source": [
        "# Data augmentation and normalization for training\n",
        "# Just normalization for validation\n",
        "'''data_transforms = {\n",
        "    'train': transforms.Compose([\n",
        "        transforms.RandomResizedCrop(input_size),\n",
        "        transforms.RandomHorizontalFlip(),\n",
        "        transforms.ToTensor(),\n",
        "        transforms.Normalize([0.485, 0.456, 0.406], [0.229, 0.224, 0.225])\n",
        "    ]),\n",
        "    'val': transforms.Compose([\n",
        "        transforms.Resize(input_size),\n",
        "        transforms.CenterCrop(input_size),\n",
        "        transforms.ToTensor(),\n",
        "        transforms.Normalize([0.485, 0.456, 0.406], [0.229, 0.224, 0.225])\n",
        "    ]),\n",
        "}\n",
        "'''\n",
        "\n",
        "train_transform = transforms.Compose([\n",
        "        transforms.RandomResizedCrop(input_size),\n",
        "        transforms.RandomHorizontalFlip(),\n",
        "        transforms.ToTensor(),\n",
        "        transforms.Normalize([0.485, 0.456, 0.406], [0.229, 0.224, 0.225])\n",
        "        ])\n",
        "\n",
        "val_transform = transforms.Compose([\n",
        "        transforms.Resize(input_size),\n",
        "        transforms.CenterCrop(input_size),\n",
        "        transforms.ToTensor(),\n",
        "        transforms.Normalize([0.485, 0.456, 0.406], [0.229, 0.224, 0.225])\n",
        "        ])\n",
        "\n",
        "print(\"Initializing Datasets and Dataloaders...\")\n",
        "train_dataset_og = CustomImageDataset(\"/content/drive/MyDrive/pets_train/train.txt\",\n",
        "                         \"/content/drive/MyDrive/pets_train/images\",\n",
        "                         transform = val_transform)\n",
        "val_dataset = CustomImageDataset(\"/content/drive/MyDrive/pets_val/validation.txt\",\n",
        "                         \"/content/drive/MyDrive/pets_val/images\",\n",
        "                         transform=val_transform)\n",
        "\n",
        "train_dataset_tr = CustomImageDataset(\"/content/drive/MyDrive/pets_train/train.txt\",\n",
        "                         \"/content/drive/MyDrive/pets_train/images\",\n",
        "                         transform=train_transform)\n",
        "\n",
        "\n",
        "train_dataset = torch.utils.data.ConcatDataset([train_dataset_tr,train_dataset_og])\n",
        "\n",
        "#image_datasets = torchvision.datasets.OxfordIIITPet(\"/content/drive/MyDrive\",transform=data_transforms,download=False);\n",
        "#dataloaders_dict = DataLoader(image_datasets,batch_size=batch_size,shuffle=True)\n",
        "train_dataloader = DataLoader(train_dataset,batch_size=batch_size,shuffle=True)\n",
        "val_dataloader = DataLoader(val_dataset,batch_size=batch_size,shuffle=True)\n",
        "# Create training and validation datasets\n",
        "#image_datasets = {x: datasets.ImageFolder(os.path.join(data_dir, x), data_transforms[x]) for x in ['train', 'val']}\n",
        "# Create training and validation dataloaders\n",
        "#dataloaders_dict = {x: torch.utils.data.DataLoader(image_datasets[x], batch_size=batch_size, shuffle=True, num_workers=4) for x in ['train', 'val']}\n",
        "dataloaders_dict = {'train':train_dataloader, 'val':val_dataloader}\n",
        "\n",
        "\n",
        "print(type(train_dataset[-1][0]))\n",
        "# for elt in train_dataset:\n",
        "#     print(type(elt[500]))\n",
        "#     if 1 == 1:\n",
        "#       break\n",
        "# Detect if we have a GPU available\n",
        "device = torch.device(\"cuda:0\" if torch.cuda.is_available() else \"cpu\")"
      ]
    },
    {
      "cell_type": "markdown",
      "metadata": {
        "id": "wAjwzUMtseb4"
      },
      "source": [
        "Create the Optimizer\n",
        "--------------------\n",
        "\n",
        "Now that the model structure is correct, the final step for finetuning\n",
        "and feature extracting is to create an optimizer that only updates the\n",
        "desired parameters. Recall that after loading the pretrained model, but\n",
        "before reshaping, if ``feature_extract=True`` we manually set all of the\n",
        "parameter’s ``.requires_grad`` attributes to False. Then the\n",
        "reinitialized layer’s parameters have ``.requires_grad=True`` by\n",
        "default. So now we know that *all parameters that have\n",
        ".requires_grad=True should be optimized.* Next, we make a list of such\n",
        "parameters and input this list to the SGD algorithm constructor.\n",
        "\n",
        "To verify this, check out the printed parameters to learn. When\n",
        "finetuning, this list should be long and include all of the model\n",
        "parameters. However, when feature extracting this list should be short\n",
        "and only include the weights and biases of the reshaped layers.\n",
        "\n",
        "\n"
      ]
    },
    {
      "cell_type": "code",
      "execution_count": 16,
      "metadata": {
        "id": "B23uHZ9jseb4",
        "colab": {
          "base_uri": "https://localhost:8080/"
        },
        "outputId": "af071176-c88c-49b6-d686-21310dd2c77f"
      },
      "outputs": [
        {
          "output_type": "stream",
          "name": "stdout",
          "text": [
            "Params to learn:\n",
            "gigi conv1.weight\n",
            "gigi bn1.weight\n",
            "gigi bn1.bias\n",
            "gigi layer1.0.conv1.weight\n",
            "gigi layer1.0.bn1.weight\n",
            "gigi layer1.0.bn1.bias\n",
            "gigi layer1.0.conv2.weight\n",
            "gigi layer1.0.bn2.weight\n",
            "gigi layer1.0.bn2.bias\n",
            "gigi layer1.1.conv1.weight\n",
            "gigi layer1.1.bn1.weight\n",
            "gigi layer1.1.bn1.bias\n",
            "gigi layer1.1.conv2.weight\n",
            "gigi layer1.1.bn2.weight\n",
            "gigi layer1.1.bn2.bias\n",
            "gigi layer2.0.conv1.weight\n",
            "gigi layer2.0.bn1.weight\n",
            "gigi layer2.0.bn1.bias\n",
            "gigi layer2.0.conv2.weight\n",
            "gigi layer2.0.bn2.weight\n",
            "gigi layer2.0.bn2.bias\n",
            "gigi layer2.0.downsample.0.weight\n",
            "gigi layer2.0.downsample.1.weight\n",
            "gigi layer2.0.downsample.1.bias\n",
            "gigi layer2.1.conv1.weight\n",
            "gigi layer2.1.bn1.weight\n",
            "gigi layer2.1.bn1.bias\n",
            "gigi layer2.1.conv2.weight\n",
            "gigi layer2.1.bn2.weight\n",
            "gigi layer2.1.bn2.bias\n",
            "gigi layer3.0.conv1.weight\n",
            "gigi layer3.0.bn1.weight\n",
            "gigi layer3.0.bn1.bias\n",
            "gigi layer3.0.conv2.weight\n",
            "gigi layer3.0.bn2.weight\n",
            "gigi layer3.0.bn2.bias\n",
            "gigi layer3.0.downsample.0.weight\n",
            "gigi layer3.0.downsample.1.weight\n",
            "gigi layer3.0.downsample.1.bias\n",
            "gigi layer3.1.conv1.weight\n",
            "gigi layer3.1.bn1.weight\n",
            "gigi layer3.1.bn1.bias\n",
            "gigi layer3.1.conv2.weight\n",
            "gigi layer3.1.bn2.weight\n",
            "gigi layer3.1.bn2.bias\n",
            "gigi layer4.0.conv1.weight\n",
            "gigi layer4.0.bn1.weight\n",
            "gigi layer4.0.bn1.bias\n",
            "gigi layer4.0.conv2.weight\n",
            "gigi layer4.0.bn2.weight\n",
            "gigi layer4.0.bn2.bias\n",
            "gigi layer4.0.downsample.0.weight\n",
            "gigi layer4.0.downsample.1.weight\n",
            "gigi layer4.0.downsample.1.bias\n",
            "gigi layer4.1.conv1.weight\n",
            "gigi layer4.1.bn1.weight\n",
            "gigi layer4.1.bn1.bias\n",
            "gigi layer4.1.conv2.weight\n",
            "gigi layer4.1.bn2.weight\n",
            "gigi layer4.1.bn2.bias\n",
            "gigi fc.weight\n",
            "\t fc.weight\n",
            "gigi fc.bias\n",
            "\t fc.bias\n"
          ]
        }
      ],
      "source": [
        "# Send the model to GPU\n",
        "model_ft = model_ft.to(device)\n",
        "\n",
        "# Gather the parameters to be optimized/updated in this run. If we are\n",
        "#  finetuning we will be updating all parameters. However, if we are \n",
        "#  doing feature extract method, we will only update the parameters\n",
        "#  that we have just initialized, i.e. the parameters with requires_grad\n",
        "#  is True.\n",
        "params_to_update = model_ft.parameters()\n",
        "print(\"Params to learn:\")\n",
        "if feature_extract:\n",
        "    params_to_update = []\n",
        "    for name,param in model_ft.named_parameters():\n",
        "        print('gigi', name)\n",
        "        if param.requires_grad == True:\n",
        "            params_to_update.append(param)\n",
        "            print(\"\\t\",name)\n",
        "else:\n",
        "    for name,param in model_ft.named_parameters():\n",
        "        if param.requires_grad == True:\n",
        "            print(\"\\t\",name)\n",
        "\n",
        "# Observe that all parameters are being optimized\n",
        "optimizer_ft = optim.SGD(params_to_update, lr=0.001, momentum=0.9)"
      ]
    },
    {
      "cell_type": "markdown",
      "metadata": {
        "id": "cSgWLhSNseb5"
      },
      "source": [
        "Run Training and Validation Step\n",
        "--------------------------------\n",
        "\n",
        "Finally, the last step is to setup the loss for the model, then run the\n",
        "training and validation function for the set number of epochs. Notice,\n",
        "depending on the number of epochs this step may take a while on a CPU.\n",
        "Also, the default learning rate is not optimal for all of the models, so\n",
        "to achieve maximum accuracy it would be necessary to tune for each model\n",
        "separately.\n",
        "\n",
        "\n"
      ]
    },
    {
      "cell_type": "code",
      "execution_count": 27,
      "metadata": {
        "colab": {
          "base_uri": "https://localhost:8080/"
        },
        "id": "8X8mLOfXseb5",
        "outputId": "77a359e5-e80b-40f8-c6b2-b88efabef467"
      },
      "outputs": [
        {
          "output_type": "stream",
          "name": "stdout",
          "text": [
            "Epoch 0/14\n",
            "----------\n",
            "train Loss: 1.7440 Acc: 0.5829\n",
            "val Loss: 0.5583 Acc: 0.8480\n",
            "\n",
            "Epoch 1/14\n",
            "----------\n",
            "train Loss: 0.8415 Acc: 0.7866\n",
            "val Loss: 0.3635 Acc: 0.8942\n",
            "\n",
            "Epoch 2/14\n",
            "----------\n",
            "train Loss: 0.7110 Acc: 0.8075\n",
            "val Loss: 0.3424 Acc: 0.9009\n",
            "\n",
            "Epoch 3/14\n",
            "----------\n",
            "train Loss: 0.6597 Acc: 0.8121\n",
            "val Loss: 0.3359 Acc: 0.8996\n",
            "\n",
            "Epoch 4/14\n",
            "----------\n",
            "train Loss: 0.6091 Acc: 0.8269\n",
            "val Loss: 0.2919 Acc: 0.9104\n",
            "\n",
            "Epoch 5/14\n",
            "----------\n",
            "train Loss: 0.5984 Acc: 0.8281\n",
            "val Loss: 0.2881 Acc: 0.9145\n",
            "\n",
            "Epoch 6/14\n",
            "----------\n",
            "train Loss: 0.5496 Acc: 0.8396\n",
            "val Loss: 0.2921 Acc: 0.9104\n",
            "\n",
            "Epoch 7/14\n",
            "----------\n",
            "train Loss: 0.5356 Acc: 0.8468\n",
            "val Loss: 0.2742 Acc: 0.9199\n",
            "\n",
            "Epoch 8/14\n",
            "----------\n",
            "train Loss: 0.5206 Acc: 0.8462\n",
            "val Loss: 0.2812 Acc: 0.9091\n",
            "\n",
            "Epoch 9/14\n",
            "----------\n",
            "train Loss: 0.5241 Acc: 0.8454\n",
            "val Loss: 0.2799 Acc: 0.9145\n",
            "\n",
            "Epoch 10/14\n",
            "----------\n",
            "train Loss: 0.4858 Acc: 0.8524\n",
            "val Loss: 0.2748 Acc: 0.9213\n",
            "\n",
            "Epoch 11/14\n",
            "----------\n",
            "train Loss: 0.4965 Acc: 0.8513\n",
            "val Loss: 0.2676 Acc: 0.9199\n",
            "\n",
            "Epoch 12/14\n",
            "----------\n",
            "train Loss: 0.4845 Acc: 0.8556\n",
            "val Loss: 0.2805 Acc: 0.9132\n",
            "\n",
            "Epoch 13/14\n",
            "----------\n",
            "train Loss: 0.4729 Acc: 0.8614\n",
            "val Loss: 0.2619 Acc: 0.9132\n",
            "\n",
            "Epoch 14/14\n",
            "----------\n",
            "train Loss: 0.4747 Acc: 0.8581\n",
            "val Loss: 0.2808 Acc: 0.9091\n",
            "\n",
            "Training complete in 63m 13s\n",
            "Best val Acc: 0.921303\n"
          ]
        }
      ],
      "source": [
        "# Setup the loss fxn\n",
        "criterion = nn.CrossEntropyLoss()\n",
        "\n",
        "# Train and evaluate\n",
        "model_ft, hist = train_model(model_ft, dataloaders_dict, criterion, optimizer_ft, num_epochs=num_epochs, is_inception=(model_name==\"inception\"))"
      ]
    },
    {
      "cell_type": "code",
      "source": [
        "# Saving the model and the evaluation accuracy:\n",
        "\n",
        "torch.save(model_ft.state_dict(), 'drive/MyDrive/data_augmented.pth')\n",
        "\n",
        "with open('drive/MyDrive/val_accuracies.txt', 'a', encoding='utf-8') as f:\n",
        "  f.write('For augmented dataset: \\n')\n",
        "  f.write(f'{hist}\\n')"
      ],
      "metadata": {
        "id": "91A7zWkgDW14"
      },
      "execution_count": 28,
      "outputs": []
    },
    {
      "cell_type": "code",
      "source": [
        "# Getting the accuracies for each epoch from the file val_accuracies.txt:\n",
        "hist_ft = [torch.tensor(0.7734, device='cuda:0', dtype=torch.float64), torch.tensor(0.8440, device='cuda:0', dtype=torch.float64), torch.tensor(0.8643, device='cuda:0', dtype=torch.float64), torch.tensor(0.8765, device='cuda:0', dtype=torch.float64), torch.tensor(0.8847, device='cuda:0', dtype=torch.float64), torch.tensor(0.8725, device='cuda:0', dtype=torch.float64), torch.tensor(0.8820, device='cuda:0', dtype=torch.float64), torch.tensor(0.8847, device='cuda:0', dtype=torch.float64), torch.tensor(0.8942, device='cuda:0', dtype=torch.float64), torch.tensor(0.9023, device='cuda:0', dtype=torch.float64), torch.tensor(0.8833, device='cuda:0', dtype=torch.float64), torch.tensor(0.8874, device='cuda:0', dtype=torch.float64), torch.tensor(0.9064, device='cuda:0', dtype=torch.float64), torch.tensor(0.8955, device='cuda:0', dtype=torch.float64), torch.tensor(0.8969, device='cuda:0', dtype=torch.float64)]\n",
        "\n",
        "hist_da = [torch.tensor(0.8480, device='cuda:0', dtype=torch.float64), torch.tensor(0.8942, device='cuda:0', dtype=torch.float64), torch.tensor(0.9009, device='cuda:0', dtype=torch.float64), torch.tensor(0.8996, device='cuda:0', dtype=torch.float64), torch.tensor(0.9104, device='cuda:0', dtype=torch.float64), torch.tensor(0.9145, device='cuda:0', dtype=torch.float64), torch.tensor(0.9104, device='cuda:0', dtype=torch.float64), torch.tensor(0.9199, device='cuda:0', dtype=torch.float64), torch.tensor(0.9091, device='cuda:0', dtype=torch.float64), torch.tensor(0.9145, device='cuda:0', dtype=torch.float64), torch.tensor(0.9213, device='cuda:0', dtype=torch.float64), torch.tensor(0.9199, device='cuda:0', dtype=torch.float64), torch.tensor(0.9132, device='cuda:0', dtype=torch.float64), torch.tensor(0.9132, device='cuda:0', dtype=torch.float64), torch.tensor(0.9091, device='cuda:0', dtype=torch.float64)]\n",
        "\n",
        "ohist = [h.cpu().numpy() for h in hist_ft]\n",
        "shist = [h.cpu().numpy() for h in hist_da]\n",
        "\n",
        "plt.title(\"Validation Accuracy vs. Number of Training Epochs\")\n",
        "plt.xlabel(\"Training Epochs\")\n",
        "plt.ylabel(\"Validation Accuracy\")\n",
        "plt.plot(range(1,num_epochs+1),ohist,label=\"Last layer finetuned\")\n",
        "plt.plot(range(1,num_epochs+1),shist,label=\"Data augmentation\")\n",
        "plt.ylim(0.7, 1)\n",
        "plt.xticks(np.arange(1, num_epochs+1, 1.0))\n",
        "plt.legend()\n",
        "plt.show()"
      ],
      "metadata": {
        "colab": {
          "base_uri": "https://localhost:8080/",
          "height": 472
        },
        "id": "ZNOGx0PZFWfg",
        "outputId": "afb5241d-d8ee-411a-a90c-116ff8b1d9c9"
      },
      "execution_count": 32,
      "outputs": [
        {
          "output_type": "display_data",
          "data": {
            "text/plain": [
              "<Figure size 640x480 with 1 Axes>"
            ],
            "image/png": "[encoded data removed]"
          },
          "metadata": {}
        }
      ]
    },
    {
      "cell_type": "code",
      "source": [
        "# Preprocess the image\n",
        "image = Image.open('/content/drive/MyDrive/PET/oxford-iiit-pet/images/Abyssinian_107.jpg').convert('RGB')\n",
        "transform = transforms.Compose([\n",
        "        transforms.Resize(input_size),\n",
        "        transforms.CenterCrop(input_size),\n",
        "        transforms.ToTensor(),\n",
        "        transforms.Normalize([0.485, 0.456, 0.406], [0.229, 0.224, 0.225])\n",
        "        ])\n",
        "image = transform(image).to(device)\n",
        "\n",
        "# Make predictions\n",
        "model_ft.eval()\n",
        "with torch.no_grad():\n",
        "    output = model_ft(image)\n",
        "    _, predicted = torch.max(output, 1)\n",
        "\n",
        "# Map the predictions to class labels\n",
        "class_labels = class_labels_trainval\n",
        "predicted_label = class_labels[predicted.item()]\n",
        "\n",
        "print('The predicted class is:', predicted_label)\n"
      ],
      "metadata": {
        "colab": {
          "base_uri": "https://localhost:8080/",
          "height": 380
        },
        "id": "dJgCrs1yl1t3",
        "outputId": "a5611fca-8f04-48fa-fb91-f1ffa1b72e71"
      },
      "execution_count": null,
      "outputs": [
        {
          "output_type": "error",
          "ename": "ValueError",
          "evalue": "ignored",
          "traceback": [
            "\u001b[0;31m---------------------------------------------------------------------------\u001b[0m",
            "\u001b[0;31mValueError\u001b[0m                                Traceback (most recent call last)",
            "\u001b[0;32m<ipython-input-21-96ffa7637c49>\u001b[0m in \u001b[0;36m<cell line: 13>\u001b[0;34m()\u001b[0m\n\u001b[1;32m     12\u001b[0m \u001b[0mmodel_ft\u001b[0m\u001b[0;34m.\u001b[0m\u001b[0meval\u001b[0m\u001b[0;34m(\u001b[0m\u001b[0;34m)\u001b[0m\u001b[0;34m\u001b[0m\u001b[0;34m\u001b[0m\u001b[0m\n\u001b[1;32m     13\u001b[0m \u001b[0;32mwith\u001b[0m \u001b[0mtorch\u001b[0m\u001b[0;34m.\u001b[0m\u001b[0mno_grad\u001b[0m\u001b[0;34m(\u001b[0m\u001b[0;34m)\u001b[0m\u001b[0;34m:\u001b[0m\u001b[0;34m\u001b[0m\u001b[0;34m\u001b[0m\u001b[0m\n\u001b[0;32m---> 14\u001b[0;31m     \u001b[0moutput\u001b[0m \u001b[0;34m=\u001b[0m \u001b[0mmodel_ft\u001b[0m\u001b[0;34m(\u001b[0m\u001b[0mimage\u001b[0m\u001b[0;34m)\u001b[0m\u001b[0;34m\u001b[0m\u001b[0;34m\u001b[0m\u001b[0m\n\u001b[0m\u001b[1;32m     15\u001b[0m     \u001b[0m_\u001b[0m\u001b[0;34m,\u001b[0m \u001b[0mpredicted\u001b[0m \u001b[0;34m=\u001b[0m \u001b[0mtorch\u001b[0m\u001b[0;34m.\u001b[0m\u001b[0mmax\u001b[0m\u001b[0;34m(\u001b[0m\u001b[0moutput\u001b[0m\u001b[0;34m,\u001b[0m \u001b[0;36m1\u001b[0m\u001b[0;34m)\u001b[0m\u001b[0;34m\u001b[0m\u001b[0;34m\u001b[0m\u001b[0m\n\u001b[1;32m     16\u001b[0m \u001b[0;34m\u001b[0m\u001b[0m\n",
            "\u001b[0;32m/usr/local/lib/python3.10/dist-packages/torch/nn/modules/module.py\u001b[0m in \u001b[0;36m_call_impl\u001b[0;34m(self, *args, **kwargs)\u001b[0m\n\u001b[1;32m   1499\u001b[0m                 \u001b[0;32mor\u001b[0m \u001b[0m_global_backward_pre_hooks\u001b[0m \u001b[0;32mor\u001b[0m \u001b[0m_global_backward_hooks\u001b[0m\u001b[0;34m\u001b[0m\u001b[0;34m\u001b[0m\u001b[0m\n\u001b[1;32m   1500\u001b[0m                 or _global_forward_hooks or _global_forward_pre_hooks):\n\u001b[0;32m-> 1501\u001b[0;31m             \u001b[0;32mreturn\u001b[0m \u001b[0mforward_call\u001b[0m\u001b[0;34m(\u001b[0m\u001b[0;34m*\u001b[0m\u001b[0margs\u001b[0m\u001b[0;34m,\u001b[0m \u001b[0;34m**\u001b[0m\u001b[0mkwargs\u001b[0m\u001b[0;34m)\u001b[0m\u001b[0;34m\u001b[0m\u001b[0;34m\u001b[0m\u001b[0m\n\u001b[0m\u001b[1;32m   1502\u001b[0m         \u001b[0;31m# Do not call functions when jit is used\u001b[0m\u001b[0;34m\u001b[0m\u001b[0;34m\u001b[0m\u001b[0m\n\u001b[1;32m   1503\u001b[0m         \u001b[0mfull_backward_hooks\u001b[0m\u001b[0;34m,\u001b[0m \u001b[0mnon_full_backward_hooks\u001b[0m \u001b[0;34m=\u001b[0m \u001b[0;34m[\u001b[0m\u001b[0;34m]\u001b[0m\u001b[0;34m,\u001b[0m \u001b[0;34m[\u001b[0m\u001b[0;34m]\u001b[0m\u001b[0;34m\u001b[0m\u001b[0;34m\u001b[0m\u001b[0m\n",
            "\u001b[0;32m/usr/local/lib/python3.10/dist-packages/torchvision/models/resnet.py\u001b[0m in \u001b[0;36mforward\u001b[0;34m(self, x)\u001b[0m\n\u001b[1;32m    283\u001b[0m \u001b[0;34m\u001b[0m\u001b[0m\n\u001b[1;32m    284\u001b[0m     \u001b[0;32mdef\u001b[0m \u001b[0mforward\u001b[0m\u001b[0;34m(\u001b[0m\u001b[0mself\u001b[0m\u001b[0;34m,\u001b[0m \u001b[0mx\u001b[0m\u001b[0;34m:\u001b[0m \u001b[0mTensor\u001b[0m\u001b[0;34m)\u001b[0m \u001b[0;34m->\u001b[0m \u001b[0mTensor\u001b[0m\u001b[0;34m:\u001b[0m\u001b[0;34m\u001b[0m\u001b[0;34m\u001b[0m\u001b[0m\n\u001b[0;32m--> 285\u001b[0;31m         \u001b[0;32mreturn\u001b[0m \u001b[0mself\u001b[0m\u001b[0;34m.\u001b[0m\u001b[0m_forward_impl\u001b[0m\u001b[0;34m(\u001b[0m\u001b[0mx\u001b[0m\u001b[0;34m)\u001b[0m\u001b[0;34m\u001b[0m\u001b[0;34m\u001b[0m\u001b[0m\n\u001b[0m\u001b[1;32m    286\u001b[0m \u001b[0;34m\u001b[0m\u001b[0m\n\u001b[1;32m    287\u001b[0m \u001b[0;34m\u001b[0m\u001b[0m\n",
            "\u001b[0;32m/usr/local/lib/python3.10/dist-packages/torchvision/models/resnet.py\u001b[0m in \u001b[0;36m_forward_impl\u001b[0;34m(self, x)\u001b[0m\n\u001b[1;32m    267\u001b[0m         \u001b[0;31m# See note [TorchScript super()]\u001b[0m\u001b[0;34m\u001b[0m\u001b[0;34m\u001b[0m\u001b[0m\n\u001b[1;32m    268\u001b[0m         \u001b[0mx\u001b[0m \u001b[0;34m=\u001b[0m \u001b[0mself\u001b[0m\u001b[0;34m.\u001b[0m\u001b[0mconv1\u001b[0m\u001b[0;34m(\u001b[0m\u001b[0mx\u001b[0m\u001b[0;34m)\u001b[0m\u001b[0;34m\u001b[0m\u001b[0;34m\u001b[0m\u001b[0m\n\u001b[0;32m--> 269\u001b[0;31m         \u001b[0mx\u001b[0m \u001b[0;34m=\u001b[0m \u001b[0mself\u001b[0m\u001b[0;34m.\u001b[0m\u001b[0mbn1\u001b[0m\u001b[0;34m(\u001b[0m\u001b[0mx\u001b[0m\u001b[0;34m)\u001b[0m\u001b[0;34m\u001b[0m\u001b[0;34m\u001b[0m\u001b[0m\n\u001b[0m\u001b[1;32m    270\u001b[0m         \u001b[0mx\u001b[0m \u001b[0;34m=\u001b[0m \u001b[0mself\u001b[0m\u001b[0;34m.\u001b[0m\u001b[0mrelu\u001b[0m\u001b[0;34m(\u001b[0m\u001b[0mx\u001b[0m\u001b[0;34m)\u001b[0m\u001b[0;34m\u001b[0m\u001b[0;34m\u001b[0m\u001b[0m\n\u001b[1;32m    271\u001b[0m         \u001b[0mx\u001b[0m \u001b[0;34m=\u001b[0m \u001b[0mself\u001b[0m\u001b[0;34m.\u001b[0m\u001b[0mmaxpool\u001b[0m\u001b[0;34m(\u001b[0m\u001b[0mx\u001b[0m\u001b[0;34m)\u001b[0m\u001b[0;34m\u001b[0m\u001b[0;34m\u001b[0m\u001b[0m\n",
            "\u001b[0;32m/usr/local/lib/python3.10/dist-packages/torch/nn/modules/module.py\u001b[0m in \u001b[0;36m_call_impl\u001b[0;34m(self, *args, **kwargs)\u001b[0m\n\u001b[1;32m   1499\u001b[0m                 \u001b[0;32mor\u001b[0m \u001b[0m_global_backward_pre_hooks\u001b[0m \u001b[0;32mor\u001b[0m \u001b[0m_global_backward_hooks\u001b[0m\u001b[0;34m\u001b[0m\u001b[0;34m\u001b[0m\u001b[0m\n\u001b[1;32m   1500\u001b[0m                 or _global_forward_hooks or _global_forward_pre_hooks):\n\u001b[0;32m-> 1501\u001b[0;31m             \u001b[0;32mreturn\u001b[0m \u001b[0mforward_call\u001b[0m\u001b[0;34m(\u001b[0m\u001b[0;34m*\u001b[0m\u001b[0margs\u001b[0m\u001b[0;34m,\u001b[0m \u001b[0;34m**\u001b[0m\u001b[0mkwargs\u001b[0m\u001b[0;34m)\u001b[0m\u001b[0;34m\u001b[0m\u001b[0;34m\u001b[0m\u001b[0m\n\u001b[0m\u001b[1;32m   1502\u001b[0m         \u001b[0;31m# Do not call functions when jit is used\u001b[0m\u001b[0;34m\u001b[0m\u001b[0;34m\u001b[0m\u001b[0m\n\u001b[1;32m   1503\u001b[0m         \u001b[0mfull_backward_hooks\u001b[0m\u001b[0;34m,\u001b[0m \u001b[0mnon_full_backward_hooks\u001b[0m \u001b[0;34m=\u001b[0m \u001b[0;34m[\u001b[0m\u001b[0;34m]\u001b[0m\u001b[0;34m,\u001b[0m \u001b[0;34m[\u001b[0m\u001b[0;34m]\u001b[0m\u001b[0;34m\u001b[0m\u001b[0;34m\u001b[0m\u001b[0m\n",
            "\u001b[0;32m/usr/local/lib/python3.10/dist-packages/torch/nn/modules/batchnorm.py\u001b[0m in \u001b[0;36mforward\u001b[0;34m(self, input)\u001b[0m\n\u001b[1;32m    136\u001b[0m \u001b[0;34m\u001b[0m\u001b[0m\n\u001b[1;32m    137\u001b[0m     \u001b[0;32mdef\u001b[0m \u001b[0mforward\u001b[0m\u001b[0;34m(\u001b[0m\u001b[0mself\u001b[0m\u001b[0;34m,\u001b[0m \u001b[0minput\u001b[0m\u001b[0;34m:\u001b[0m \u001b[0mTensor\u001b[0m\u001b[0;34m)\u001b[0m \u001b[0;34m->\u001b[0m \u001b[0mTensor\u001b[0m\u001b[0;34m:\u001b[0m\u001b[0;34m\u001b[0m\u001b[0;34m\u001b[0m\u001b[0m\n\u001b[0;32m--> 138\u001b[0;31m         \u001b[0mself\u001b[0m\u001b[0;34m.\u001b[0m\u001b[0m_check_input_dim\u001b[0m\u001b[0;34m(\u001b[0m\u001b[0minput\u001b[0m\u001b[0;34m)\u001b[0m\u001b[0;34m\u001b[0m\u001b[0;34m\u001b[0m\u001b[0m\n\u001b[0m\u001b[1;32m    139\u001b[0m \u001b[0;34m\u001b[0m\u001b[0m\n\u001b[1;32m    140\u001b[0m         \u001b[0;31m# exponential_average_factor is set to self.momentum\u001b[0m\u001b[0;34m\u001b[0m\u001b[0;34m\u001b[0m\u001b[0m\n",
            "\u001b[0;32m/usr/local/lib/python3.10/dist-packages/torch/nn/modules/batchnorm.py\u001b[0m in \u001b[0;36m_check_input_dim\u001b[0;34m(self, input)\u001b[0m\n\u001b[1;32m    408\u001b[0m     \u001b[0;32mdef\u001b[0m \u001b[0m_check_input_dim\u001b[0m\u001b[0;34m(\u001b[0m\u001b[0mself\u001b[0m\u001b[0;34m,\u001b[0m \u001b[0minput\u001b[0m\u001b[0;34m)\u001b[0m\u001b[0;34m:\u001b[0m\u001b[0;34m\u001b[0m\u001b[0;34m\u001b[0m\u001b[0m\n\u001b[1;32m    409\u001b[0m         \u001b[0;32mif\u001b[0m \u001b[0minput\u001b[0m\u001b[0;34m.\u001b[0m\u001b[0mdim\u001b[0m\u001b[0;34m(\u001b[0m\u001b[0;34m)\u001b[0m \u001b[0;34m!=\u001b[0m \u001b[0;36m4\u001b[0m\u001b[0;34m:\u001b[0m\u001b[0;34m\u001b[0m\u001b[0;34m\u001b[0m\u001b[0m\n\u001b[0;32m--> 410\u001b[0;31m             \u001b[0;32mraise\u001b[0m \u001b[0mValueError\u001b[0m\u001b[0;34m(\u001b[0m\u001b[0;34m\"expected 4D input (got {}D input)\"\u001b[0m\u001b[0;34m.\u001b[0m\u001b[0mformat\u001b[0m\u001b[0;34m(\u001b[0m\u001b[0minput\u001b[0m\u001b[0;34m.\u001b[0m\u001b[0mdim\u001b[0m\u001b[0;34m(\u001b[0m\u001b[0;34m)\u001b[0m\u001b[0;34m)\u001b[0m\u001b[0;34m)\u001b[0m\u001b[0;34m\u001b[0m\u001b[0;34m\u001b[0m\u001b[0m\n\u001b[0m\u001b[1;32m    411\u001b[0m \u001b[0;34m\u001b[0m\u001b[0m\n\u001b[1;32m    412\u001b[0m \u001b[0;34m\u001b[0m\u001b[0m\n",
            "\u001b[0;31mValueError\u001b[0m: expected 4D input (got 3D input)"
          ]
        }
      ]
    },
    {
      "cell_type": "markdown",
      "metadata": {
        "id": "b53pLo0Tseb5"
      },
      "source": [
        "Comparison with Model Trained from Scratch\n",
        "------------------------------------------\n",
        "\n",
        "Just for fun, lets see how the model learns if we do not use transfer\n",
        "learning. The performance of finetuning vs. feature extracting depends\n",
        "largely on the dataset but in general both transfer learning methods\n",
        "produce favorable results in terms of training time and overall accuracy\n",
        "versus a model trained from scratch.\n",
        "\n",
        "\n"
      ]
    },
    {
      "cell_type": "code",
      "source": [],
      "metadata": {
        "id": "K4l5OIWPjtlK"
      },
      "execution_count": null,
      "outputs": []
    },
    {
      "cell_type": "code",
      "execution_count": 29,
      "metadata": {
        "id": "ettfGUI0seb6",
        "colab": {
          "base_uri": "https://localhost:8080/",
          "height": 490
        },
        "outputId": "57b16cba-5902-42bd-8ee1-12b303d3452a"
      },
      "outputs": [
        {
          "output_type": "stream",
          "name": "stderr",
          "text": [
            "/usr/local/lib/python3.10/dist-packages/torchvision/models/_utils.py:208: UserWarning: The parameter 'pretrained' is deprecated since 0.13 and may be removed in the future, please use 'weights' instead.\n",
            "  warnings.warn(\n",
            "/usr/local/lib/python3.10/dist-packages/torchvision/models/_utils.py:223: UserWarning: Arguments other than a weight enum or `None` for 'weights' are deprecated since 0.13 and may be removed in the future. The current behavior is equivalent to passing `weights=None`.\n",
            "  warnings.warn(msg)\n"
          ]
        },
        {
          "output_type": "stream",
          "name": "stdout",
          "text": [
            "Epoch 0/14\n",
            "----------\n"
          ]
        },
        {
          "output_type": "error",
          "ename": "KeyboardInterrupt",
          "evalue": "ignored",
          "traceback": [
            "\u001b[0;31m---------------------------------------------------------------------------\u001b[0m",
            "\u001b[0;31mKeyboardInterrupt\u001b[0m                         Traceback (most recent call last)",
            "\u001b[0;32m<ipython-input-29-83f043c69b5e>\u001b[0m in \u001b[0;36m<cell line: 6>\u001b[0;34m()\u001b[0m\n\u001b[1;32m      4\u001b[0m \u001b[0mscratch_optimizer\u001b[0m \u001b[0;34m=\u001b[0m \u001b[0moptim\u001b[0m\u001b[0;34m.\u001b[0m\u001b[0mSGD\u001b[0m\u001b[0;34m(\u001b[0m\u001b[0mscratch_model\u001b[0m\u001b[0;34m.\u001b[0m\u001b[0mparameters\u001b[0m\u001b[0;34m(\u001b[0m\u001b[0;34m)\u001b[0m\u001b[0;34m,\u001b[0m \u001b[0mlr\u001b[0m\u001b[0;34m=\u001b[0m\u001b[0;36m0.001\u001b[0m\u001b[0;34m,\u001b[0m \u001b[0mmomentum\u001b[0m\u001b[0;34m=\u001b[0m\u001b[0;36m0.9\u001b[0m\u001b[0;34m)\u001b[0m\u001b[0;34m\u001b[0m\u001b[0;34m\u001b[0m\u001b[0m\n\u001b[1;32m      5\u001b[0m \u001b[0mscratch_criterion\u001b[0m \u001b[0;34m=\u001b[0m \u001b[0mnn\u001b[0m\u001b[0;34m.\u001b[0m\u001b[0mCrossEntropyLoss\u001b[0m\u001b[0;34m(\u001b[0m\u001b[0;34m)\u001b[0m\u001b[0;34m\u001b[0m\u001b[0;34m\u001b[0m\u001b[0m\n\u001b[0;32m----> 6\u001b[0;31m \u001b[0m_\u001b[0m\u001b[0;34m,\u001b[0m\u001b[0mscratch_hist\u001b[0m \u001b[0;34m=\u001b[0m \u001b[0mtrain_model\u001b[0m\u001b[0;34m(\u001b[0m\u001b[0mscratch_model\u001b[0m\u001b[0;34m,\u001b[0m \u001b[0mdataloaders_dict\u001b[0m\u001b[0;34m,\u001b[0m \u001b[0mscratch_criterion\u001b[0m\u001b[0;34m,\u001b[0m \u001b[0mscratch_optimizer\u001b[0m\u001b[0;34m,\u001b[0m \u001b[0mnum_epochs\u001b[0m\u001b[0;34m=\u001b[0m\u001b[0mnum_epochs\u001b[0m\u001b[0;34m,\u001b[0m \u001b[0mis_inception\u001b[0m\u001b[0;34m=\u001b[0m\u001b[0;34m(\u001b[0m\u001b[0mmodel_name\u001b[0m\u001b[0;34m==\u001b[0m\u001b[0;34m\"inception\"\u001b[0m\u001b[0;34m)\u001b[0m\u001b[0;34m)\u001b[0m\u001b[0;34m\u001b[0m\u001b[0;34m\u001b[0m\u001b[0m\n\u001b[0m\u001b[1;32m      7\u001b[0m \u001b[0;34m\u001b[0m\u001b[0m\n\u001b[1;32m      8\u001b[0m \u001b[0;31m# Plot the training curves of validation accuracy vs. number\u001b[0m\u001b[0;34m\u001b[0m\u001b[0;34m\u001b[0m\u001b[0m\n",
            "\u001b[0;32m<ipython-input-19-022f9b6f9131>\u001b[0m in \u001b[0;36mtrain_model\u001b[0;34m(model, dataloaders, criterion, optimizer, num_epochs, is_inception)\u001b[0m\n\u001b[1;32m     57\u001b[0m \u001b[0;34m\u001b[0m\u001b[0m\n\u001b[1;32m     58\u001b[0m                 \u001b[0;31m# statistics\u001b[0m\u001b[0;34m\u001b[0m\u001b[0;34m\u001b[0m\u001b[0m\n\u001b[0;32m---> 59\u001b[0;31m                 \u001b[0mrunning_loss\u001b[0m \u001b[0;34m+=\u001b[0m \u001b[0mloss\u001b[0m\u001b[0;34m.\u001b[0m\u001b[0mitem\u001b[0m\u001b[0;34m(\u001b[0m\u001b[0;34m)\u001b[0m \u001b[0;34m*\u001b[0m \u001b[0minputs\u001b[0m\u001b[0;34m.\u001b[0m\u001b[0msize\u001b[0m\u001b[0;34m(\u001b[0m\u001b[0;36m0\u001b[0m\u001b[0;34m)\u001b[0m\u001b[0;34m\u001b[0m\u001b[0;34m\u001b[0m\u001b[0m\n\u001b[0m\u001b[1;32m     60\u001b[0m                 \u001b[0;31m# running_corrects += torch.sum(preds == labels.data)\u001b[0m\u001b[0;34m\u001b[0m\u001b[0;34m\u001b[0m\u001b[0m\n\u001b[1;32m     61\u001b[0m                 \u001b[0mrunning_corrects\u001b[0m \u001b[0;34m+=\u001b[0m \u001b[0mtorch\u001b[0m\u001b[0;34m.\u001b[0m\u001b[0msum\u001b[0m\u001b[0;34m(\u001b[0m\u001b[0mpreds\u001b[0m \u001b[0;34m==\u001b[0m \u001b[0mbreed\u001b[0m\u001b[0;34m.\u001b[0m\u001b[0mdata\u001b[0m\u001b[0;34m)\u001b[0m\u001b[0;34m\u001b[0m\u001b[0;34m\u001b[0m\u001b[0m\n",
            "\u001b[0;31mKeyboardInterrupt\u001b[0m: "
          ]
        }
      ],
      "source": [
        "# Initialize the non-pretrained version of the model used for this run\n",
        "scratch_model,_ = initialize_model(model_name, num_classes, feature_extract=False, use_pretrained=False)\n",
        "scratch_model = scratch_model.to(device)\n",
        "scratch_optimizer = optim.SGD(scratch_model.parameters(), lr=0.001, momentum=0.9)\n",
        "scratch_criterion = nn.CrossEntropyLoss()\n",
        "_,scratch_hist = train_model(scratch_model, dataloaders_dict, scratch_criterion, scratch_optimizer, num_epochs=num_epochs, is_inception=(model_name==\"inception\"))\n",
        "\n",
        "# Plot the training curves of validation accuracy vs. number \n",
        "#  of training epochs for the transfer learning method and\n",
        "#  the model trained from scratch\n",
        "ohist = []\n",
        "shist = []\n",
        "\n",
        "ohist = [h.cpu().numpy() for h in hist]\n",
        "shist = [h.cpu().numpy() for h in scratch_hist]\n",
        "\n",
        "plt.title(\"Validation Accuracy vs. Number of Training Epochs\")\n",
        "plt.xlabel(\"Training Epochs\")\n",
        "plt.ylabel(\"Validation Accuracy\")\n",
        "plt.plot(range(1,num_epochs+1),ohist,label=\"Pretrained\")\n",
        "plt.plot(range(1,num_epochs+1),shist,label=\"Scratch\")\n",
        "plt.ylim((0,1.))\n",
        "plt.xticks(np.arange(1, num_epochs+1, 1.0))\n",
        "plt.legend()\n",
        "plt.show()"
      ]
    },
    {
      "cell_type": "code",
      "source": [],
      "metadata": {
        "id": "RgtPPKFrFUBa"
      },
      "execution_count": null,
      "outputs": []
    },
    {
      "cell_type": "markdown",
      "metadata": {
        "id": "bmseSOgjseb6"
      },
      "source": [
        "Final Thoughts and Where to Go Next\n",
        "-----------------------------------\n",
        "\n",
        "Try running some of the other models and see how good the accuracy gets.\n",
        "Also, notice that feature extracting takes less time because in the\n",
        "backward pass we do not have to calculate most of the gradients. There\n",
        "are many places to go from here. You could:\n",
        "\n",
        "-  Run this code with a harder dataset and see some more benefits of\n",
        "   transfer learning\n",
        "-  Using the methods described here, use transfer learning to update a\n",
        "   different model, perhaps in a new domain (i.e. NLP, audio, etc.)\n",
        "-  Once you are happy with a model, you can export it as an ONNX model,\n",
        "   or trace it using the hybrid frontend for more speed and optimization\n",
        "   opportunities.\n",
        "\n",
        "\n"
      ]
    }
  ],
  "metadata": {
    "colab": {
      "provenance": [],
      "gpuType": "T4",
      "toc_visible": true
    },
    "kernelspec": {
      "display_name": "Python 3",
      "language": "python",
      "name": "python3"
    },
    "language_info": {
      "codemirror_mode": {
        "name": "ipython",
        "version": 3
      },
      "file_extension": ".py",
      "mimetype": "text/x-python",
      "name": "python",
      "nbconvert_exporter": "python",
      "pygments_lexer": "ipython3",
      "version": "3.6.8"
    },
    "accelerator": "GPU",
    "gpuClass": "standard"
  },
  "nbformat": 4,
  "nbformat_minor": 0
}