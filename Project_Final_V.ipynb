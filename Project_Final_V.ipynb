{
  "cells": [
    {
      "cell_type": "code",
      "execution_count": null,
      "metadata": {
        "id": "s_iQue5xsebi",
        "colab": {
          "base_uri": "https://localhost:8080/"
        },
        "outputId": "a046171a-1199-4421-88ce-8d393368ed13"
      },
      "outputs": [
        {
          "output_type": "stream",
          "name": "stdout",
          "text": [
            "Mounted at /content/drive\n"
          ]
        }
      ],
      "source": [
        "%matplotlib inline\n",
        "from google.colab import drive\n",
        "drive.mount(\"/content/drive\", force_remount=True)"
      ]
    },
    {
      "cell_type": "markdown",
      "metadata": {
        "id": "szS1jrBEsebn"
      },
      "source": [
        "\n",
        "Finetuning Torchvision Models\n",
        "=============================\n",
        "\n",
        "**Author:** `Nathan Inkawhich <https://github.com/inkawhich>`__\n",
        "\n",
        "\n"
      ]
    },
    {
      "cell_type": "markdown",
      "metadata": {
        "id": "glWvT2Wksebr"
      },
      "source": [
        "In this tutorial we will take a deeper look at how to finetune and\n",
        "feature extract the `torchvision\n",
        "models <https://pytorch.org/docs/stable/torchvision/models.html>`__, all\n",
        "of which have been pretrained on the 1000-class Imagenet dataset. This\n",
        "tutorial will give an indepth look at how to work with several modern\n",
        "CNN architectures, and will build an intuition for finetuning any\n",
        "PyTorch model. Since each model architecture is different, there is no\n",
        "boilerplate finetuning code that will work in all scenarios. Rather, the\n",
        "researcher must look at the existing architecture and make custom\n",
        "adjustments for each model.\n",
        "\n",
        "In this document we will perform two types of transfer learning:\n",
        "finetuning and feature extraction. In **finetuning**, we start with a\n",
        "pretrained model and update *all* of the model’s parameters for our new\n",
        "task, in essence retraining the whole model. In **feature extraction**,\n",
        "we start with a pretrained model and only update the final layer weights\n",
        "from which we derive predictions. It is called feature extraction\n",
        "because we use the pretrained CNN as a fixed feature-extractor, and only\n",
        "change the output layer. For more technical information about transfer\n",
        "learning see `here <https://cs231n.github.io/transfer-learning/>`__ and\n",
        "`here <https://ruder.io/transfer-learning/>`__.\n",
        "\n",
        "In general both transfer learning methods follow the same few steps:\n",
        "\n",
        "-  Initialize the pretrained model\n",
        "-  Reshape the final layer(s) to have the same number of outputs as the\n",
        "   number of classes in the new dataset\n",
        "-  Define for the optimization algorithm which parameters we want to\n",
        "   update during training\n",
        "-  Run the training step\n",
        "\n",
        "\n"
      ]
    },
    {
      "cell_type": "code",
      "execution_count": null,
      "metadata": {
        "colab": {
          "base_uri": "https://localhost:8080/"
        },
        "id": "5W9yYLi1sebs",
        "outputId": "f9bdf884-d972-406a-bad6-4a7e61c28dfb"
      },
      "outputs": [
        {
          "output_type": "stream",
          "name": "stdout",
          "text": [
            "PyTorch Version:  2.0.0+cu118\n",
            "Torchvision Version:  0.15.1+cu118\n"
          ]
        }
      ],
      "source": [
        "from __future__ import print_function \n",
        "from __future__ import division\n",
        "from glob import glob\n",
        "import torch\n",
        "import torch.nn as nn\n",
        "import torch.optim as optim\n",
        "import numpy as np\n",
        "import torchvision\n",
        "from torchvision import datasets, models, transforms\n",
        "from torch.utils.data import DataLoader, Dataset\n",
        "import torch.optim.lr_scheduler as lr_scheduler\n",
        "import matplotlib.pyplot as plt\n",
        "import time\n",
        "import os\n",
        "import copy\n",
        "from PIL import Image\n",
        "\n",
        "print(\"PyTorch Version: \",torch.__version__)\n",
        "print(\"Torchvision Version: \",torchvision.__version__)"
      ]
    },
    {
      "cell_type": "markdown",
      "metadata": {
        "id": "ZU9cswTQsebt"
      },
      "source": [
        "Inputs\n",
        "------\n",
        "\n",
        "Here are all of the parameters to change for the run. We will use the\n",
        "*hymenoptera_data* dataset which can be downloaded\n",
        "`here <https://download.pytorch.org/tutorial/hymenoptera_data.zip>`__.\n",
        "This dataset contains two classes, **bees** and **ants**, and is\n",
        "structured such that we can use the\n",
        "`ImageFolder <https://pytorch.org/docs/stable/torchvision/datasets.html#torchvision.datasets.ImageFolder>`__\n",
        "dataset, rather than writing our own custom dataset. Download the data\n",
        "and set the ``data_dir`` input to the root directory of the dataset. The\n",
        "``model_name`` input is the name of the model you wish to use and must\n",
        "be selected from this list:\n",
        "\n",
        "::\n",
        "\n",
        "   [resnet, alexnet, vgg, squeezenet, densenet, inception]\n",
        "\n",
        "The other inputs are as follows: ``num_classes`` is the number of\n",
        "classes in the dataset, ``batch_size`` is the batch size used for\n",
        "training and may be adjusted according to the capability of your\n",
        "machine, ``num_epochs`` is the number of training epochs we want to run,\n",
        "and ``feature_extract`` is a boolean that defines if we are finetuning\n",
        "or feature extracting. If ``feature_extract = False``, the model is\n",
        "finetuned and all model parameters are updated. If\n",
        "``feature_extract = True``, only the last layer parameters are updated,\n",
        "the others remain fixed.\n",
        "\n",
        "\n"
      ]
    },
    {
      "cell_type": "markdown",
      "source": [
        "## Splitting into training and validation sets\n",
        "The initial PET dataset is not homogeneous between cats and dogs, so if just do a 80/20 split at random, the datasets will be biased.\n",
        "\n",
        "Instead, we first separate the cats and dogs, then we put 80% of each into the training set, and 20% into the validation set.\n",
        "\n",
        "We do not need to do this to separate the different breeds, for this an even distribution of all the pictures in that case.\n"
      ],
      "metadata": {
        "id": "8G_n6n-T5JJA"
      }
    },
    {
      "cell_type": "code",
      "execution_count": null,
      "metadata": {
        "id": "PM-PlZC7fvox"
      },
      "outputs": [],
      "source": [
        "#import pandas as pd\n",
        "  \n",
        "# read text file into pandas DataFrame\n",
        "#df = pd.read_csv(\"/content/drive/MyDrive/PET/oxford-iiit-pet/annotations/trainval.txt\",names = [ 'name', 'class_label', 'binary_label', 'useless'],header = None,sep=\" \")\n",
        "  \n",
        "# display DataFrame\n",
        "#df.head()"
      ]
    },
    {
      "cell_type": "code",
      "execution_count": null,
      "metadata": {
        "id": "3Smpc5R3fw_r"
      },
      "outputs": [],
      "source": [
        "# binary_labels_trainval = df['binary_label'].tolist()\n",
        "# class_labels_trainval = df['class_label'].tolist()\n",
        "# name_trainval = df['name'].tolist()\n",
        "\n",
        "# dog_trainval = {}\n",
        "# cat_trainval = {}\n",
        "\n",
        "# print(binary_labels)\n",
        "# print(class_labels)"
      ]
    },
    {
      "cell_type": "code",
      "execution_count": null,
      "metadata": {
        "id": "zZ-v9VjqghKY"
      },
      "outputs": [],
      "source": [
        "# for i,bin in enumerate(binary_labels_trainval):\n",
        "#   if bin == 1:\n",
        "#     cat_trainval[i] = name_trainval[i]\n",
        "#   else:\n",
        "#     dog_trainval[i] = name_trainval[i]\n",
        "\n",
        "# dogs_keys = list(dog_trainval.keys())\n",
        "# cats_keys = list(cat_trainval.keys())\n",
        "\n",
        "# np.random.seed(42)\n",
        "# np.random.shuffle(dogs_keys)\n",
        "# np.random.shuffle(cats_keys)\n",
        "\n",
        "# cat_trainval = {key: cat_trainval[key] for key in cats_keys}\n",
        "# dog_trainval = {key: dog_trainval[key] for key in dogs_keys}\n",
        "# i = 0"
      ]
    },
    {
      "cell_type": "code",
      "execution_count": null,
      "metadata": {
        "id": "iAgKYABBjCEr"
      },
      "outputs": [],
      "source": [
        "# train_split = 0.8\n",
        "# cat_indexes = list(cat_trainval.items())\n",
        "# dog_indexes = list(dog_trainval.items())\n",
        "\n",
        "# N_dog = int(train_split * len(dog_indexes))\n",
        "# N_cat = int(train_split * len(cat_indexes))\n",
        "\n",
        "# dog_train = dict(dog_indexes[:N_dog])\n",
        "# cat_train = dict(cat_indexes[:N_cat])\n",
        "\n",
        "# dog_val = dict(dog_indexes[N_dog:])\n",
        "\n",
        "# cat_val = dict(cat_indexes[N_cat:])\n",
        "\n",
        "\n",
        "# training_data = {}\n",
        "# training_data.update(cat_train)\n",
        "# training_data.update(dog_train)\n",
        "\n",
        "# validation_data = {}\n",
        "# validation_data.update(cat_val)\n",
        "# validation_data.update(dog_val)"
      ]
    },
    {
      "cell_type": "code",
      "execution_count": null,
      "metadata": {
        "id": "5dVQaxcBslf_"
      },
      "outputs": [],
      "source": [
        "import os\n",
        "import pandas as pd\n",
        "\n",
        "class CustomImageDataset(Dataset):\n",
        "    def __init__(self, annotations_file, img_dir, transform=None, target_transform=None):\n",
        "        self.img_labels = pd.read_csv(annotations_file, names = [ 'name', 'class_label', 'binary_label', 'useless'],header = None,sep=\" \")\n",
        "        self.img_dir = img_dir\n",
        "        self.transform = transform\n",
        "        self.target_transform = target_transform\n",
        "\n",
        "    def __len__(self):\n",
        "        return len(self.img_labels)\n",
        "\n",
        "    def __getitem__(self, idx):\n",
        "        img_path = os.path.join(self.img_dir, self.img_labels.iloc[idx, 0]+\".jpg\")\n",
        "        image = Image.open(img_path).convert('RGB')\n",
        "        class_label = self.img_labels.iloc[idx, 1] - 1\n",
        "        binary_label = self.img_labels.iloc[idx, 2] - 1\n",
        "        if self.transform:\n",
        "            image = self.transform(image)\n",
        "        if self.target_transform:\n",
        "            label = self.target_transform(label)\n",
        "        return image, class_label, binary_label\n"
      ]
    },
    {
      "cell_type": "code",
      "execution_count": null,
      "metadata": {
        "id": "3vNMMDpYsebu"
      },
      "outputs": [],
      "source": [
        "# Top level data directory. Here we assume the format of the directory conforms \n",
        "#   to the ImageFolder structure\n",
        "#data_dir = \"/content/drive/MyDrive/oxford_iiit-pet\"\n",
        "\n",
        "# Models to choose from [resnet, alexnet, vgg, squeezenet, densenet, inception]\n",
        "model_name = \"resnet\"\n",
        "\n",
        "# Number of classes in the dataset\n",
        "num_classes = 37\n",
        "\n",
        "# Batch size for training (change depending on how much memory you have)\n",
        "batch_size = 16\n",
        "\n",
        "# Number of epochs to train for \n",
        "num_epochs = 15\n",
        "\n",
        "# Flag for feature extracting. When False, we finetune the whole model, \n",
        "#   when True we only update the reshaped layer params\n",
        "feature_extract = True"
      ]
    },
    {
      "cell_type": "markdown",
      "metadata": {
        "id": "uDlZ1EjOsebw"
      },
      "source": [
        "Helper Functions\n",
        "----------------\n",
        "\n",
        "Before we write the code for adjusting the models, lets define a few\n",
        "helper functions.\n",
        "\n",
        "Model Training and Validation Code\n",
        "~~~~~~~~~~~~~~~~~~~~~~~~~~~~~~~~~~\n",
        "\n",
        "The ``train_model`` function handles the training and validation of a\n",
        "given model. As input, it takes a PyTorch model, a dictionary of\n",
        "dataloaders, a loss function, an optimizer, a specified number of epochs\n",
        "to train and validate for, and a boolean flag for when the model is an\n",
        "Inception model. The *is_inception* flag is used to accomodate the\n",
        "*Inception v3* model, as that architecture uses an auxiliary output and\n",
        "the overall model loss respects both the auxiliary output and the final\n",
        "output, as described\n",
        "`here <https://discuss.pytorch.org/t/how-to-optimize-inception-model-with-auxiliary-classifiers/7958>`__.\n",
        "The function trains for the specified number of epochs and after each\n",
        "epoch runs a full validation step. It also keeps track of the best\n",
        "performing model (in terms of validation accuracy), and at the end of\n",
        "training returns the best performing model. After each epoch, the\n",
        "training and validation accuracies are printed.\n",
        "\n",
        "\n"
      ]
    },
    {
      "cell_type": "markdown",
      "source": [
        "#Training function for the basic assignment"
      ],
      "metadata": {
        "id": "S7CZhIeAr11N"
      }
    },
    {
      "cell_type": "code",
      "execution_count": null,
      "metadata": {
        "id": "JTaQmQCYsebx"
      },
      "outputs": [],
      "source": [
        "def train_model(model, dataloaders, criterion, optimizer, num_epochs=25, is_inception=False):\n",
        "    since = time.time()\n",
        "\n",
        "    val_acc_history = []\n",
        "    \n",
        "    best_model_wts = copy.deepcopy(model.state_dict())\n",
        "    best_acc = 0.0\n",
        "\n",
        "    for epoch in range(num_epochs):\n",
        "        print('Epoch {}/{}'.format(epoch, num_epochs - 1))\n",
        "        print('-' * 10)\n",
        "\n",
        "        # Each epoch has a training and validation phase\n",
        "        for phase in ['train', 'val']:\n",
        "            if phase == 'train':\n",
        "                model.train()  # Set model to training mode\n",
        "            else:\n",
        "                model.eval()   # Set model to evaluate mode\n",
        "\n",
        "            running_loss = 0.0\n",
        "            running_corrects = 0\n",
        "\n",
        "            # Iterate over data.\n",
        "            for inputs, breed, labels in dataloaders[phase]:\n",
        "                inputs = inputs.to(device)\n",
        "                breed = breed.to(device)\n",
        "\n",
        "                # zero the parameter gradients\n",
        "                optimizer.zero_grad()\n",
        "\n",
        "                # forward\n",
        "                # track history if only in train\n",
        "                with torch.set_grad_enabled(phase == 'train'):\n",
        "                    # Get model outputs and calculate loss\n",
        "                    # Special case for inception because in training it has an auxiliary output. In train\n",
        "                    #   mode we calculate the loss by summing the final output and the auxiliary output\n",
        "                    #   but in testing we only consider the final output.\n",
        "                    if is_inception and phase == 'train':\n",
        "                        # From https://discuss.pytorch.org/t/how-to-optimize-inception-model-with-auxiliary-classifiers/7958\n",
        "                        outputs, aux_outputs = model(inputs)\n",
        "                        # loss1 = criterion(outputs, labels) #\n",
        "                        loss1 = criterion(outputs, breed) #\n",
        "                        # loss2 = criterion(aux_outputs, labels)#/\n",
        "                        loss2 = criterion(aux_outputs, breed)#\n",
        "                        loss = loss1 + 0.4*loss2\n",
        "                    else:\n",
        "                        outputs = model(inputs)\n",
        "                        # loss = criterion(outputs, labels)\n",
        "                        loss = criterion(outputs,breed)\n",
        "\n",
        "                    _, preds = torch.max(outputs, 1)\n",
        "\n",
        "                    # backward + optimize only if in training phase\n",
        "                    if phase == 'train':\n",
        "                        loss.backward()\n",
        "                        optimizer.step()\n",
        "\n",
        "                # statistics\n",
        "                running_loss += loss.item() * inputs.size(0)\n",
        "                # running_corrects += torch.sum(preds == labels.data)\n",
        "                running_corrects += torch.sum(preds == breed.data)\n",
        "\n",
        "            epoch_loss = running_loss / len(dataloaders[phase].dataset)\n",
        "            epoch_acc = running_corrects.double() / len(dataloaders[phase].dataset)\n",
        "            scheduler.step(epoch_loss)\n",
        "\n",
        "            print('{} Loss: {:.4f} Acc: {:.4f}'.format(phase, epoch_loss, epoch_acc))\n",
        "            print('lr1=',optimizer.param_groups[0][\"lr\"])\n",
        "            print('lr2=',optimizer.param_groups[1][\"lr\"])\n",
        "\n",
        "            # deep copy the model\n",
        "            if phase == 'val' and epoch_acc > best_acc:\n",
        "                best_acc = epoch_acc\n",
        "                best_model_wts = copy.deepcopy(model.state_dict())\n",
        "            if phase == 'val':\n",
        "                val_acc_history.append(epoch_acc)\n",
        "\n",
        "        print()\n",
        "\n",
        "    time_elapsed = time.time() - since\n",
        "    print('Training complete in {:.0f}m {:.0f}s'.format(time_elapsed // 60, time_elapsed % 60))\n",
        "    print('Best val Acc: {:4f}'.format(best_acc))\n",
        "\n",
        "    # load best model weights\n",
        "    model.load_state_dict(best_model_wts)\n",
        "    return model, val_acc_history"
      ]
    },
    {
      "cell_type": "markdown",
      "metadata": {
        "id": "BrycZtTwxhHa"
      },
      "source": [
        "#Training function for Pseudo-labeling"
      ]
    },
    {
      "cell_type": "markdown",
      "metadata": {
        "id": "iKOQ8qhb-sUr"
      },
      "source": [
        "Let's define the weights for pseudo labels from the Paper"
      ]
    },
    {
      "cell_type": "code",
      "source": [
        "def evaluate(model, test_loader, criterion, optimizer):\n",
        "    model.eval()\n",
        "    running_correct = 0 \n",
        "    running_loss = 0\n",
        "    with torch.no_grad():\n",
        "        for inputs, breed, labels in test_loader:\n",
        "            inputs = inputs.to(device)\n",
        "            breed = breed.to(device)\n",
        "\n",
        "            # zero the parameter gradients\n",
        "            optimizer.zero_grad()\n",
        "            output = model(inputs)\n",
        "\n",
        "            loss = criterion(output,breed)\n",
        "            preds = torch.max(output,1)[1]\n",
        "\n",
        "            running_correct += torch.sum(preds == breed.data)\n",
        "            running_loss += loss.item() * inputs.size(0)\n",
        "\n",
        "    return (float(running_correct)/len(test_loader.dataset)), (running_loss/len(test_loader.dataset))"
      ],
      "metadata": {
        "id": "IE4wT0jUo60p"
      },
      "execution_count": null,
      "outputs": []
    },
    {
      "cell_type": "code",
      "execution_count": null,
      "metadata": {
        "id": "O-Jf0yCm-kj_"
      },
      "outputs": [],
      "source": [
        "T1 = 100\n",
        "T2 = 600\n",
        "af = 3\n",
        "\n",
        "def alpha_weight(epoch):\n",
        "    if epoch < T1:\n",
        "        return 0.0\n",
        "    elif epoch > T2:\n",
        "        return af\n",
        "    else:\n",
        "         return ((epoch-T1) / (T2-T1))*af"
      ]
    },
    {
      "cell_type": "code",
      "execution_count": null,
      "metadata": {
        "id": "KPlK9y-ZxmQP"
      },
      "outputs": [],
      "source": [
        "alpha_history = []\n",
        "\n",
        "def train_semi_supervised(model, unlabeled_dataloaders, labeled_dataloaders, criterion, optimizer, num_epochs=15, is_inception=False):\n",
        "    since = time.time()\n",
        "\n",
        "    val_acc_history = []\n",
        "    \n",
        "    best_model_wts = copy.deepcopy(model.state_dict())\n",
        "    best_acc = 0.0\n",
        "    step = 100\n",
        "    model.train()  # Set model to training mode\n",
        "    for epoch in range(num_epochs):\n",
        "        print('Epoch {}/{}'.format(epoch, num_epochs - 1))\n",
        "        print('-' * 10)\n",
        "\n",
        "        # Iterate over data.\n",
        "        i = 0\n",
        "        for inputs, breed, labels in unlabeled_dataloaders['train']:\n",
        "            inputs = inputs.to(device)\n",
        "            breed = breed.to(device)\n",
        "            # zero the parameter gradients\n",
        "            # forward\n",
        "            model.eval()\n",
        "            if is_inception:\n",
        "                # From https://discuss.pytorch.org/t/how-to-optimize-inception-model-with-auxiliary-classifiers/7958\n",
        "                unlabeled_outputs, aux_unlabeled_outputs = model(inputs)\n",
        "            else:\n",
        "                unlabeled_outputs = model(inputs)\n",
        "\n",
        "            _, pseudo_labels = torch.max(unlabeled_outputs, 1)\n",
        "            model.train()\n",
        "\n",
        "            if is_inception :\n",
        "                # From https://discuss.pytorch.org/t/how-to-optimize-inception-model-with-auxiliary-classifiers/7958\n",
        "                outputs, aux_outputs = model(inputs)\n",
        "                loss1 = criterion(outputs, pseudo_labels) \n",
        "                loss2 = criterion(aux_outputs, pseudo_labels)\n",
        "                loss = loss1 + 0.4*loss2\n",
        "            else:\n",
        "                outputs = model(inputs)\n",
        "                loss = criterion(outputs,pseudo_labels) \n",
        "\n",
        "            _, preds = torch.max(outputs, 1)\n",
        "\n",
        "            loss *= alpha_weight(step)\n",
        "            optimizer.zero_grad()\n",
        "            loss.backward()\n",
        "            optimizer.step()\n",
        "\n",
        "            if i%70 == 0:\n",
        "              print(alpha_weight(step))\n",
        "              alpha_history.append(alpha_weight(step))\n",
        "              for tr_inputs, tr_breed, labels in labeled_dataloaders['train']:\n",
        "                tr_inputs = tr_inputs.to(device)\n",
        "                tr_breed = tr_breed.to(device)\n",
        "                # forward\n",
        "                # track history if only in train\n",
        "                with torch.set_grad_enabled(True):\n",
        "                    # Get model outputs and calculate loss\n",
        "                    # Special case for inception because in training it has an auxiliary output. In train\n",
        "                    #   mode we calculate the loss by summing the final output and the auxiliary output\n",
        "                    #   but in testing we only consider the final output.\n",
        "                    if is_inception:\n",
        "                        # From https://discuss.pytorch.org/t/how-to-optimize-inception-model-with-auxiliary-classifiers/7958\n",
        "                        tr_outputs, aux_tr_outputs = model(tr_inputs)\n",
        "                        labeled_loss1 = criterion(tr_outputs, tr_breed) \n",
        "                        labeled_loss2 = criterion(aux_tr_outputs, tr_breed)\n",
        "                        labeled_loss = labeled_loss1 + 0.4*labeled_loss2\n",
        "                    else:\n",
        "                        tr_outputs = model(tr_inputs)\n",
        "                        labeled_loss = criterion(tr_outputs,tr_breed)\n",
        "                    # zero the parameter gradients\n",
        "                    optimizer.zero_grad()\n",
        "                    labeled_loss.backward()\n",
        "                    optimizer.step()\n",
        "              step += 5\n",
        "            i += 1\n",
        "        epoch_acc, epoch_loss = evaluate(model, unlabeled_dataloaders['val'], criterion, optimizer)\n",
        "        scheduler.step(epoch_loss)\n",
        "\n",
        "        print('{} Loss: {:.4f} Acc: {:.4f}'.format('Test', epoch_loss, epoch_acc))\n",
        "\n",
        "        # deep copy the model\n",
        "        if epoch_acc > best_acc:\n",
        "            best_acc = epoch_acc\n",
        "            best_model_wts = copy.deepcopy(model.state_dict())\n",
        "        val_acc_history.append(epoch_acc)\n",
        "\n",
        "        print()\n",
        "\n",
        "    time_elapsed = time.time() - since\n",
        "    print('Training complete in {:.0f}m {:.0f}s'.format(time_elapsed // 60, time_elapsed % 60))\n",
        "    print('Pseudo Labeling : Best val Acc: {:4f}'.format(best_acc))\n",
        "\n",
        "    # load best model weights\n",
        "    model.load_state_dict(best_model_wts)\n",
        "    return model, val_acc_history"
      ]
    },
    {
      "cell_type": "markdown",
      "metadata": {
        "id": "p_V5a09OLU_y"
      },
      "source": [
        "Spliting the training dataset into labeled and unlabeled datasets:"
      ]
    },
    {
      "cell_type": "code",
      "execution_count": null,
      "metadata": {
        "id": "84QTBCuPLeh7"
      },
      "outputs": [],
      "source": [
        "from torch.utils.data import Subset\n",
        "\n",
        "# Define the ratio of labeled and unlabeled data (e.g., 50% labeled, 50% unlabeled)\n",
        "labeled_ratio = 0.5\n",
        "#labeled_ratio = 0.1\n",
        "#labeled_ratio = 0.01\n",
        "\n",
        "# Calculate the number of samples for labeled data\n",
        "num_samples = len(train_dataset)\n",
        "num_labeled_samples = int(num_samples * labeled_ratio)\n",
        "\n",
        "# Split the training dataset into labeled and unlabeled subsets\n",
        "labeled_dataset = Subset(train_dataset, np.arange(num_labeled_samples))\n",
        "unlabeled_dataset = Subset(train_dataset, np.arange(num_labeled_samples, num_samples))\n",
        "\n",
        "# Create dataloaders for labeled and unlabeled data\n",
        "labeled_dataloader = DataLoader(labeled_dataset, batch_size=batch_size, shuffle=True)\n",
        "unlabeled_dataloader = DataLoader(unlabeled_dataset, batch_size=batch_size, shuffle=True)\n",
        "\n",
        "# Create training and validation dataloaders\n",
        "dataloaders_dict = {'train': labeled_dataloader, 'val': val_dataloader}\n",
        "unlabeled_dataloaders_dict = {'train': unlabeled_dataloader, 'val': val_dataloader}"
      ]
    },
    {
      "cell_type": "code",
      "source": [
        "len(unlabeled_dataloader.dataset) / 8"
      ],
      "metadata": {
        "colab": {
          "base_uri": "https://localhost:8080/"
        },
        "id": "tMZAWTJgOR1a",
        "outputId": "b1442fda-b880-4218-f58c-3f0c6edaac87"
      },
      "execution_count": null,
      "outputs": [
        {
          "output_type": "execute_result",
          "data": {
            "text/plain": [
              "735.75"
            ]
          },
          "metadata": {},
          "execution_count": 32
        }
      ]
    },
    {
      "cell_type": "markdown",
      "source": [
        "### 50% Labeled Data"
      ],
      "metadata": {
        "id": "e24eTFV5I2V1"
      }
    },
    {
      "cell_type": "code",
      "execution_count": null,
      "metadata": {
        "colab": {
          "base_uri": "https://localhost:8080/"
        },
        "id": "59YynE_zL7En",
        "outputId": "a70d4c17-2360-4160-d2ef-2b5a69e8e7f8"
      },
      "outputs": [
        {
          "output_type": "stream",
          "name": "stdout",
          "text": [
            "Epoch 0/14\n",
            "----------\n"
          ]
        },
        {
          "output_type": "stream",
          "name": "stderr",
          "text": [
            "/usr/local/lib/python3.10/dist-packages/torch/optim/lr_scheduler.py:152: UserWarning: The epoch parameter in `scheduler.step()` was not necessary and is being deprecated where possible. Please use `scheduler.step()` to step the scheduler. During the deprecation, if epoch is different from None, the closed form is used instead of the new chainable form, where available. Please open an issue if you are unable to replicate your use case: https://github.com/pytorch/pytorch/issues/new/choose.\n",
            "  warnings.warn(EPOCH_DEPRECATION_WARNING, UserWarning)\n"
          ]
        },
        {
          "output_type": "stream",
          "name": "stdout",
          "text": [
            "train Loss: 1.0296 Acc: 0.7112\n",
            "lr1= 0.0009519542704685815\n",
            "lr2= 0.001903908540937163\n",
            "val Loss: 0.3440 Acc: 0.8901\n",
            "lr1= 0.0009839480982017916\n",
            "lr2= 0.0019678961964035833\n",
            "\n",
            "Epoch 1/14\n",
            "----------\n",
            "train Loss: 0.4353 Acc: 0.8661\n",
            "lr1= 0.0009796841874271495\n",
            "lr2= 0.001959368374854299\n",
            "val Loss: 0.2569 Acc: 0.9294\n",
            "lr1= 0.0009880093287302292\n",
            "lr2= 0.0019760186574604584\n",
            "\n",
            "Epoch 2/14\n",
            "----------\n",
            "train Loss: 0.3346 Acc: 0.9015\n",
            "lr1= 0.0009843847826113954\n",
            "lr2= 0.001968769565222791\n",
            "val Loss: 0.2410 Acc: 0.9349\n",
            "lr1= 0.000988755665292641\n",
            "lr2= 0.001977511330585282\n",
            "\n",
            "Epoch 3/14\n",
            "----------\n",
            "train Loss: 0.2839 Acc: 0.9142\n",
            "lr1= 0.0009867525250842513\n",
            "lr2= 0.0019735050501685026\n",
            "val Loss: 0.3535 Acc: 0.9091\n",
            "lr1= 0.0009835045800935932\n",
            "lr2= 0.0019670091601871865\n",
            "\n",
            "Epoch 4/14\n",
            "----------\n",
            "train Loss: 0.2765 Acc: 0.9186\n",
            "lr1= 0.0009870975201074653\n",
            "lr2= 0.0019741950402149305\n",
            "val Loss: 0.2788 Acc: 0.9308\n",
            "lr1= 0.0009869873473898583\n",
            "lr2= 0.0019739746947797167\n",
            "\n",
            "Epoch 5/14\n",
            "----------\n",
            "train Loss: 0.2464 Acc: 0.9268\n",
            "lr1= 0.000988501977311697\n",
            "lr2= 0.001977003954623394\n",
            "val Loss: 0.2972 Acc: 0.9335\n",
            "lr1= 0.0009861320400981323\n",
            "lr2= 0.0019722640801962646\n",
            "\n",
            "Epoch 6/14\n",
            "----------\n",
            "train Loss: 0.2166 Acc: 0.9365\n",
            "lr1= 0.0009898941274643445\n",
            "lr2= 0.001979788254928689\n",
            "val Loss: 0.3116 Acc: 0.9132\n",
            "lr1= 0.0009854608909758541\n",
            "lr2= 0.0019709217819517083\n",
            "\n",
            "Epoch 7/14\n",
            "----------\n",
            "train Loss: 0.2172 Acc: 0.9331\n",
            "lr1= 0.0009898638499949417\n",
            "lr2= 0.0019797276999898835\n",
            "val Loss: 0.2772 Acc: 0.9322\n",
            "lr1= 0.0009870628421425806\n",
            "lr2= 0.0019741256842851613\n",
            "\n",
            "Epoch 8/14\n",
            "----------\n",
            "train Loss: 0.1776 Acc: 0.9455\n",
            "lr1= 0.0009917106318534216\n",
            "lr2= 0.0019834212637068432\n",
            "val Loss: 0.3173 Acc: 0.9199\n",
            "lr1= 0.0009851930588971173\n",
            "lr2= 0.0019703861177942346\n",
            "\n",
            "Epoch 9/14\n",
            "----------\n",
            "train Loss: 0.2010 Acc: 0.9422\n",
            "lr1= 0.0009906222118599472\n",
            "lr2= 0.0019812444237198943\n",
            "val Loss: 0.3384 Acc: 0.9118\n",
            "lr1= 0.0009842072570683926\n",
            "lr2= 0.001968414514136785\n",
            "\n",
            "Epoch 10/14\n",
            "----------\n",
            "train Loss: 0.1681 Acc: 0.9509\n",
            "lr1= 0.0009921550211979592\n",
            "lr2= 0.0019843100423959184\n",
            "val Loss: 0.3282 Acc: 0.9199\n",
            "lr1= 0.00098468202178875\n",
            "lr2= 0.0019693640435775\n",
            "\n",
            "Epoch 11/14\n",
            "----------\n",
            "train Loss: 0.1789 Acc: 0.9473\n",
            "lr1= 0.0009916500151092504\n",
            "lr2= 0.001983300030218501\n",
            "val Loss: 0.3321 Acc: 0.9254\n",
            "lr1= 0.0009845025423014034\n",
            "lr2= 0.0019690050846028068\n",
            "\n",
            "Epoch 12/14\n",
            "----------\n",
            "train Loss: 0.1655 Acc: 0.9511\n",
            "lr1= 0.0009922780546097374\n",
            "lr2= 0.0019845561092194748\n",
            "val Loss: 0.4176 Acc: 0.9064\n",
            "lr1= 0.0009805134393207605\n",
            "lr2= 0.001961026878641521\n",
            "\n",
            "Epoch 13/14\n",
            "----------\n",
            "train Loss: 0.1690 Acc: 0.9504\n",
            "lr1= 0.000992114822413429\n",
            "lr2= 0.001984229644826858\n",
            "val Loss: 0.3281 Acc: 0.9199\n",
            "lr1= 0.0009846865108151992\n",
            "lr2= 0.0019693730216303984\n",
            "\n",
            "Epoch 14/14\n",
            "----------\n",
            "train Loss: 0.1519 Acc: 0.9562\n",
            "lr1= 0.000992912050817802\n",
            "lr2= 0.001985824101635604\n",
            "val Loss: 0.3552 Acc: 0.9213\n",
            "lr1= 0.000983422519849708\n",
            "lr2= 0.001966845039699416\n",
            "\n",
            "Training complete in 28m 58s\n",
            "Best val Acc: 0.934871\n"
          ]
        }
      ],
      "source": [
        "criterion = nn.CrossEntropyLoss()\n",
        "\n",
        "model_ft, hist = train_model(model_ft, dataloaders_dict, criterion, optimizer_ft, num_epochs=num_epochs, is_inception=(model_name==\"inception\"))"
      ]
    },
    {
      "cell_type": "code",
      "source": [
        "torch.save(model_ft.state_dict(), '/content/drive/MyDrive/resnet50_FT_0.5_labels.pt')"
      ],
      "metadata": {
        "id": "WH8RqBzJNJhf"
      },
      "execution_count": null,
      "outputs": []
    },
    {
      "cell_type": "code",
      "source": [
        "with open('/content/drive/MyDrive/PL_best_accuracie.txt', 'a', encoding='utf-8') as f:\n",
        "  f.write('Best Val accuracies for 50% of dataset before PL 3: \\n')\n",
        "  f.write(f'{hist}\\n')"
      ],
      "metadata": {
        "id": "WYUvtrIVNXJW"
      },
      "execution_count": null,
      "outputs": []
    },
    {
      "cell_type": "code",
      "execution_count": null,
      "metadata": {
        "colab": {
          "base_uri": "https://localhost:8080/"
        },
        "id": "osIyFDO-Mh1B",
        "outputId": "43c5c591-86ec-4e1a-e098-b1872f4fe5c7"
      },
      "outputs": [
        {
          "output_type": "stream",
          "name": "stdout",
          "text": [
            "Epoch 0/14\n",
            "----------\n",
            "0.0\n",
            "0.125\n"
          ]
        },
        {
          "output_type": "stream",
          "name": "stderr",
          "text": [
            "/usr/local/lib/python3.10/dist-packages/torch/optim/lr_scheduler.py:152: UserWarning: The epoch parameter in `scheduler.step()` was not necessary and is being deprecated where possible. Please use `scheduler.step()` to step the scheduler. During the deprecation, if epoch is different from None, the closed form is used instead of the new chainable form, where available. Please open an issue if you are unable to replicate your use case: https://github.com/pytorch/pytorch/issues/new/choose.\n",
            "  warnings.warn(EPOCH_DEPRECATION_WARNING, UserWarning)\n"
          ]
        },
        {
          "output_type": "stream",
          "name": "stdout",
          "text": [
            "Test Loss: 0.3179 Acc: 0.9186\n",
            "\n",
            "Epoch 1/14\n",
            "----------\n",
            "0.25\n",
            "0.375\n",
            "Test Loss: 0.3182 Acc: 0.9199\n",
            "\n",
            "Epoch 2/14\n",
            "----------\n",
            "0.5\n",
            "0.625\n",
            "Test Loss: 0.3967 Acc: 0.8942\n",
            "\n",
            "Epoch 3/14\n",
            "----------\n",
            "0.75\n",
            "0.875\n",
            "Test Loss: 0.5891 Acc: 0.8643\n",
            "\n",
            "Epoch 4/14\n",
            "----------\n",
            "1.0\n",
            "1.125\n",
            "Test Loss: 0.4460 Acc: 0.8982\n",
            "\n",
            "Epoch 5/14\n",
            "----------\n",
            "1.25\n",
            "1.375\n",
            "Test Loss: 0.5921 Acc: 0.8860\n",
            "\n",
            "Epoch 6/14\n",
            "----------\n",
            "1.5\n",
            "1.625\n",
            "Test Loss: 0.7929 Acc: 0.8670\n",
            "\n",
            "Epoch 7/14\n",
            "----------\n",
            "1.75\n",
            "1.875\n",
            "Test Loss: 0.7000 Acc: 0.8657\n",
            "\n",
            "Epoch 8/14\n",
            "----------\n",
            "2.0\n",
            "2.125\n",
            "Test Loss: 0.6392 Acc: 0.8779\n",
            "\n",
            "Epoch 9/14\n",
            "----------\n",
            "2.25\n",
            "2.375\n",
            "Test Loss: 1.1630 Acc: 0.7761\n",
            "\n",
            "Epoch 10/14\n",
            "----------\n",
            "2.5\n",
            "2.625\n",
            "Test Loss: 0.9242 Acc: 0.8046\n",
            "\n",
            "Epoch 11/14\n",
            "----------\n",
            "2.75\n",
            "2.875\n",
            "Test Loss: 1.0810 Acc: 0.7788\n",
            "\n",
            "Epoch 12/14\n",
            "----------\n",
            "3.0\n",
            "3\n",
            "Test Loss: 0.7493 Acc: 0.8507\n",
            "\n",
            "Epoch 13/14\n",
            "----------\n",
            "3\n",
            "3\n",
            "Test Loss: 2.2455 Acc: 0.6649\n",
            "\n",
            "Epoch 14/14\n",
            "----------\n",
            "3\n",
            "3\n",
            "Test Loss: 0.6522 Acc: 0.8602\n",
            "\n",
            "Training complete in 60m 5s\n",
            "Pseudo Labeling : Best val Acc: 0.919946\n"
          ]
        }
      ],
      "source": [
        "model_ft, histt = train_semi_supervised(model_ft, unlabeled_dataloaders_dict, dataloaders_dict, criterion, optimizer_ft, num_epochs=15, is_inception=(model_name==\"inception\"))"
      ]
    },
    {
      "cell_type": "code",
      "source": [
        "model_ft.load_state_dict(torch.load(\"/content/drive/MyDrive/resnet50_FT_0.5_labels.pt\"))"
      ],
      "metadata": {
        "colab": {
          "base_uri": "https://localhost:8080/"
        },
        "id": "WJMKrFKyc1EV",
        "outputId": "2b25b486-aa12-41f8-f854-0e29f39b5d33"
      },
      "execution_count": null,
      "outputs": [
        {
          "output_type": "execute_result",
          "data": {
            "text/plain": [
              "<All keys matched successfully>"
            ]
          },
          "metadata": {},
          "execution_count": 45
        }
      ]
    },
    {
      "cell_type": "code",
      "source": [
        "model_ft, histt = train_semi_supervised(model_ft, unlabeled_dataloaders_dict, dataloaders_dict, criterion, optimizer_ft, num_epochs=15, is_inception=(model_name==\"inception\"))"
      ],
      "metadata": {
        "colab": {
          "base_uri": "https://localhost:8080/"
        },
        "id": "W0x0z-Rcc9Zj",
        "outputId": "eb463b1d-7370-4347-dc5b-0966cd339610"
      },
      "execution_count": null,
      "outputs": [
        {
          "output_type": "stream",
          "name": "stdout",
          "text": [
            "Epoch 0/14\n",
            "----------\n",
            "0.0\n",
            "0.025\n",
            "0.05\n",
            "0.07500000000000001\n",
            "0.1\n",
            "0.125\n",
            "0.15000000000000002\n",
            "0.175\n",
            "0.2\n",
            "0.22499999999999998\n",
            "0.25\n"
          ]
        },
        {
          "output_type": "stream",
          "name": "stderr",
          "text": [
            "/usr/local/lib/python3.10/dist-packages/torch/optim/lr_scheduler.py:152: UserWarning: The epoch parameter in `scheduler.step()` was not necessary and is being deprecated where possible. Please use `scheduler.step()` to step the scheduler. During the deprecation, if epoch is different from None, the closed form is used instead of the new chainable form, where available. Please open an issue if you are unable to replicate your use case: https://github.com/pytorch/pytorch/issues/new/choose.\n",
            "  warnings.warn(EPOCH_DEPRECATION_WARNING, UserWarning)\n"
          ]
        },
        {
          "output_type": "stream",
          "name": "stdout",
          "text": [
            "Test Loss: 0.3267 Acc: 0.9172\n",
            "\n",
            "Epoch 1/14\n",
            "----------\n",
            "0.27499999999999997\n",
            "0.30000000000000004\n",
            "0.325\n",
            "0.35\n",
            "0.375\n",
            "0.4\n",
            "0.425\n",
            "0.44999999999999996\n",
            "0.475\n",
            "0.5\n",
            "0.5249999999999999\n",
            "Test Loss: 0.4090 Acc: 0.9037\n",
            "\n",
            "Epoch 2/14\n",
            "----------\n",
            "0.5499999999999999\n",
            "0.5750000000000001\n",
            "0.6000000000000001\n",
            "0.625\n",
            "0.65\n",
            "0.675\n",
            "0.7\n",
            "0.725\n",
            "0.75\n",
            "0.7750000000000001\n",
            "0.8\n",
            "Test Loss: 0.4654 Acc: 0.9118\n",
            "\n",
            "Epoch 3/14\n",
            "----------\n",
            "0.8250000000000001\n",
            "0.85\n",
            "0.875\n",
            "0.8999999999999999\n",
            "0.925\n",
            "0.95\n",
            "0.9750000000000001\n",
            "1.0\n",
            "1.025\n",
            "1.0499999999999998\n",
            "1.075\n",
            "Test Loss: 0.4872 Acc: 0.9023\n",
            "\n",
            "Epoch 4/14\n",
            "----------\n",
            "1.0999999999999999\n",
            "1.125\n"
          ]
        }
      ]
    },
    {
      "cell_type": "code",
      "source": [
        "with open('/content/drive/MyDrive/PL_best_accuracie.txt', 'a', encoding='utf-8') as f:\n",
        "  f.write('Best Val accuracies for 50% of dataset with PL : \\n')\n",
        "  f.write(f'{histt}\\n')"
      ],
      "metadata": {
        "id": "uQs89zyxbHcC"
      },
      "execution_count": null,
      "outputs": []
    },
    {
      "cell_type": "code",
      "source": [
        "print(alpha_history)"
      ],
      "metadata": {
        "id": "KbtZjgdsbdST"
      },
      "execution_count": null,
      "outputs": []
    },
    {
      "cell_type": "code",
      "source": [
        "hist_ft = [torch.tensor(0.8901, device='cuda:0', dtype=torch.float64), torch.tensor(0.9294, device='cuda:0', dtype=torch.float64), torch.tensor(0.9349, device='cuda:0', dtype=torch.float64), torch.tensor(0.9091, device='cuda:0', dtype=torch.float64), torch.tensor(0.9308, device='cuda:0', dtype=torch.float64), torch.tensor(0.9335, device='cuda:0', dtype=torch.float64), torch.tensor(0.9132, device='cuda:0', dtype=torch.float64), torch.tensor(0.9322, device='cuda:0', dtype=torch.float64), torch.tensor(0.9199, device='cuda:0', dtype=torch.float64), torch.tensor(0.9118, device='cuda:0', dtype=torch.float64), torch.tensor(0.9199, device='cuda:0', dtype=torch.float64), torch.tensor(0.9254, device='cuda:0', dtype=torch.float64), torch.tensor(0.9064, device='cuda:0', dtype=torch.float64), torch.tensor(0.9199, device='cuda:0', dtype=torch.float64), torch.tensor(0.9213, device='cuda:0', dtype=torch.float64)]\n",
        "hist_ft_bn = histt\n",
        "ohist = [h.cpu().numpy() for h in hist_ft]\n",
        "shist = hist_ft_bn\n",
        "alphas_0_01 = [0.0, 0.125, 0.25, 0.375, 0.5, 0.625, 0.75, 0.875, 1.0, 1.125, 1.25, 1.375, 1.5, 1.625, 1.75, 1.875, 2.0, 2.125, 2.25, 2.375, 2.5, 2.625, 2.75, 2.875, 3.0, 3, 3, 3, 3, 3]\n",
        "x_axis_third = np.linspace(1, num_epochs, len(alphas_0_01))\n",
        "\n",
        "fig, ax1 = plt.subplots()\n",
        "\n",
        "ax1.set_title(\"Validation Accuracy vs. Number of Training Epochs for 1% labeled data\")\n",
        "ax1.set_xlabel(\"Training Epochs\")\n",
        "ax1.set_ylabel(\"Test Accuracy\")\n",
        "ax1.plot(range(1,num_epochs+1),ohist,label=\"Without Pseudo Labeling\")\n",
        "ax1.plot(range(1,num_epochs+1),shist,label=\"With Pseudo Labeling\")\n",
        "\n",
        "# Create a second y-axis\n",
        "ax2 = ax1.twinx()\n",
        "\n",
        "# Third plot\n",
        "ax2.set_ylabel(\"Alpha\")  # Set a label for the third plot's y-axis\n",
        "ax2.plot(x_axis_third,alphas_0_01,label=\"Weights\", color='Black')\n",
        "ax1.set_ylim(0.6, 1)\n",
        "ohist_max = max(ohist)\n",
        "shist_max = max(shist)\n",
        "ax1.annotate(f\"Max: {ohist_max:.4f}\", xy=(ohist.index(ohist_max)+1, ohist_max), xytext=(ohist.index(ohist_max)+1.5, ohist_max-0.05), color='blue')\n",
        "ax1.annotate(f\"Max: {shist_max:.4f}\", xy=(shist.index(shist_max)+1, shist_max), xytext=(shist.index(shist_max)+1.5, shist_max+0.01), color='orange')\n",
        "ax1.set_xticks(np.arange(1, num_epochs+1, 1.0))\n",
        "ax1.legend(loc='lower right')\n",
        "ax2.legend(loc='lower left')\n",
        "plt.show()"
      ],
      "metadata": {
        "colab": {
          "base_uri": "https://localhost:8080/",
          "height": 472
        },
        "id": "TSHgKEapbOpz",
        "outputId": "d2ad3f9f-666e-4f4d-ec31-f167f0a0ee0a"
      },
      "execution_count": null,
      "outputs": [
        {
          "output_type": "display_data",
          "data": {
            "text/plain": [
              "<Figure size 640x480 with 2 Axes>"
            ],
            "image/png": "[encoded data removed]"
          },
          "metadata": {}
        }
      ]
    },
    {
      "cell_type": "markdown",
      "metadata": {
        "id": "f6Gth4xNufz6"
      },
      "source": [
        "### 10% Labeled data:"
      ]
    },
    {
      "cell_type": "code",
      "execution_count": null,
      "metadata": {
        "colab": {
          "base_uri": "https://localhost:8080/"
        },
        "id": "wGzcGACJuj-_",
        "outputId": "8ff5f44f-9593-4971-abf3-88c8a192a3f1"
      },
      "outputs": [
        {
          "output_type": "stream",
          "name": "stdout",
          "text": [
            "Epoch 0/14\n",
            "----------\n",
            "train Loss: 2.4489 Acc: 0.3543\n",
            "lr1= 0.0008857184332526463\n",
            "lr2= 0.0017714368665052926\n",
            "val Loss: 2.8344 Acc: 0.2510\n",
            "lr1= 0.0008677276608071571\n",
            "lr2= 0.0017354553216143143\n",
            "\n",
            "Epoch 1/14\n",
            "----------\n",
            "train Loss: 1.4085 Acc: 0.5862\n",
            "lr1= 0.0009342700968562493\n",
            "lr2= 0.0018685401937124986\n",
            "val Loss: 1.1484 Acc: 0.6649\n",
            "lr1= 0.0009464067859148538\n",
            "lr2= 0.0018928135718297076\n",
            "\n",
            "Epoch 2/14\n",
            "----------\n",
            "train Loss: 0.9103 Acc: 0.7154\n",
            "lr1= 0.0009575176837112774\n",
            "lr2= 0.0019150353674225549\n",
            "val Loss: 0.8597 Acc: 0.7476\n",
            "lr1= 0.0009598807887096031\n",
            "lr2= 0.0019197615774192063\n",
            "\n",
            "Epoch 3/14\n",
            "----------\n",
            "train Loss: 0.7188 Acc: 0.7749\n",
            "lr1= 0.0009664572974836073\n",
            "lr2= 0.0019329145949672146\n",
            "val Loss: 0.8470 Acc: 0.7626\n",
            "lr1= 0.0009604741744644525\n",
            "lr2= 0.001920948348928905\n",
            "\n",
            "Epoch 4/14\n",
            "----------\n",
            "train Loss: 0.5828 Acc: 0.8182\n",
            "lr1= 0.0009728034589265974\n",
            "lr2= 0.0019456069178531948\n",
            "val Loss: 0.8019 Acc: 0.7856\n",
            "lr1= 0.00096257878529803\n",
            "lr2= 0.00192515757059606\n",
            "\n",
            "Epoch 5/14\n",
            "----------\n",
            "train Loss: 0.5224 Acc: 0.8343\n",
            "lr1= 0.0009756202171599011\n",
            "lr2= 0.0019512404343198023\n",
            "val Loss: 0.6599 Acc: 0.8005\n",
            "lr1= 0.0009692041357615075\n",
            "lr2= 0.001938408271523015\n",
            "\n",
            "Epoch 6/14\n",
            "----------\n",
            "train Loss: 0.5076 Acc: 0.8386\n",
            "lr1= 0.0009763100189846657\n",
            "lr2= 0.0019526200379693314\n",
            "val Loss: 0.6488 Acc: 0.8290\n",
            "lr1= 0.0009697236279118343\n",
            "lr2= 0.0019394472558236686\n",
            "\n",
            "Epoch 7/14\n",
            "----------\n",
            "train Loss: 0.4357 Acc: 0.8556\n",
            "lr1= 0.00097966883326988\n",
            "lr2= 0.00195933766653976\n",
            "val Loss: 0.7511 Acc: 0.8100\n",
            "lr1= 0.0009649466183456795\n",
            "lr2= 0.001929893236691359\n",
            "\n",
            "Epoch 8/14\n",
            "----------\n",
            "train Loss: 0.4626 Acc: 0.8615\n",
            "lr1= 0.0009784111760514497\n",
            "lr2= 0.0019568223521028993\n",
            "val Loss: 0.6110 Acc: 0.8372\n",
            "lr1= 0.0009714869244459406\n",
            "lr2= 0.0019429738488918812\n",
            "\n",
            "Epoch 9/14\n",
            "----------\n",
            "train Loss: 0.3926 Acc: 0.8743\n",
            "lr1= 0.0009816807679068145\n",
            "lr2= 0.001963361535813629\n",
            "val Loss: 0.6606 Acc: 0.8358\n",
            "lr1= 0.0009691729370042959\n",
            "lr2= 0.0019383458740085918\n",
            "\n",
            "Epoch 10/14\n",
            "----------\n",
            "train Loss: 0.3431 Acc: 0.8921\n",
            "lr1= 0.0009839896847314857\n",
            "lr2= 0.0019679793694629714\n",
            "val Loss: 0.6138 Acc: 0.8480\n",
            "lr1= 0.0009713559944935107\n",
            "lr2= 0.0019427119889870214\n",
            "\n",
            "Epoch 11/14\n",
            "----------\n",
            "train Loss: 0.3363 Acc: 0.8904\n",
            "lr1= 0.000984303740546027\n",
            "lr2= 0.001968607481092054\n",
            "val Loss: 0.6395 Acc: 0.8385\n",
            "lr1= 0.0009701545273917009\n",
            "lr2= 0.0019403090547834019\n",
            "\n",
            "Epoch 12/14\n",
            "----------\n",
            "train Loss: 0.3622 Acc: 0.8895\n",
            "lr1= 0.00098309916353703\n",
            "lr2= 0.00196619832707406\n",
            "val Loss: 0.6716 Acc: 0.8358\n",
            "lr1= 0.0009686588155860878\n",
            "lr2= 0.0019373176311721755\n",
            "\n",
            "Epoch 13/14\n",
            "----------\n",
            "train Loss: 0.3717 Acc: 0.8785\n",
            "lr1= 0.0009826535792907484\n",
            "lr2= 0.001965307158581497\n",
            "val Loss: 0.6189 Acc: 0.8480\n",
            "lr1= 0.0009711186918767003\n",
            "lr2= 0.0019422373837534007\n",
            "\n",
            "Epoch 14/14\n",
            "----------\n",
            "train Loss: 0.3156 Acc: 0.8980\n",
            "lr1= 0.0009852717690130776\n",
            "lr2= 0.0019705435380261553\n",
            "val Loss: 0.6583 Acc: 0.8426\n",
            "lr1= 0.0009692807909478999\n",
            "lr2= 0.0019385615818957999\n",
            "\n",
            "Training complete in 7m 40s\n",
            "Best val Acc: 0.848033\n"
          ]
        }
      ],
      "source": [
        "criterion = nn.CrossEntropyLoss()\n",
        "\n",
        "model_ft1, hist1 = train_model(model_ft, dataloaders_dict, criterion, optimizer_ft, num_epochs=num_epochs, is_inception=(model_name==\"inception\"))"
      ]
    },
    {
      "cell_type": "code",
      "source": [
        "with open('/content/drive/MyDrive/PL_best_accuracie.txt', 'a', encoding='utf-8') as f:\n",
        "  f.write('Best Val accuracies for 10% of dataset before PL 2: \\n')\n",
        "  f.write(f'{hist1}\\n')"
      ],
      "metadata": {
        "id": "y2sKJzkW5L8r"
      },
      "execution_count": null,
      "outputs": []
    },
    {
      "cell_type": "code",
      "source": [
        "torch.save(model_ft1.state_dict(), '/content/drive/MyDrive/resnet50_FT_0.1_labels.pt')"
      ],
      "metadata": {
        "id": "2IYiO-ibVt4x"
      },
      "execution_count": null,
      "outputs": []
    },
    {
      "cell_type": "code",
      "source": [
        "model_ft1 = model_ft\n",
        "model_ft1.load_state_dict(torch.load(\"/content/drive/MyDrive/resnet50_FT_0.1_labels.pt\"))"
      ],
      "metadata": {
        "colab": {
          "base_uri": "https://localhost:8080/"
        },
        "id": "HRdqD6Bri5bS",
        "outputId": "25135a4d-2279-4336-a1e9-eb9a3c59d5a1"
      },
      "execution_count": null,
      "outputs": [
        {
          "output_type": "execute_result",
          "data": {
            "text/plain": [
              "<All keys matched successfully>"
            ]
          },
          "metadata": {},
          "execution_count": 18
        }
      ]
    },
    {
      "cell_type": "code",
      "execution_count": null,
      "metadata": {
        "colab": {
          "base_uri": "https://localhost:8080/"
        },
        "id": "JamHRI1wup_3",
        "outputId": "594ee964-eb4a-4dea-801f-36a07ba5fa49"
      },
      "outputs": [
        {
          "output_type": "stream",
          "name": "stdout",
          "text": [
            "Epoch 0/14\n",
            "----------\n",
            "Test Loss: 0.5085 Acc: 0.8752\n",
            "\n",
            "Epoch 1/14\n",
            "----------\n",
            "Test Loss: 0.8447 Acc: 0.7815\n",
            "\n",
            "Epoch 2/14\n",
            "----------\n",
            "Test Loss: 0.7369 Acc: 0.8263\n",
            "\n",
            "Epoch 3/14\n",
            "----------\n",
            "Test Loss: 0.5941 Acc: 0.8507\n",
            "\n",
            "Epoch 4/14\n",
            "----------\n",
            "Test Loss: 0.7854 Acc: 0.8304\n",
            "\n",
            "Epoch 5/14\n",
            "----------\n",
            "Test Loss: 0.6385 Acc: 0.8453\n",
            "\n",
            "Epoch 6/14\n",
            "----------\n"
          ]
        }
      ],
      "source": [
        "criterion = nn.CrossEntropyLoss()\n",
        "\n",
        "model_ft1, histt1 = train_semi_supervised(model_ft1, unlabeled_dataloaders_dict, dataloaders_dict, criterion, optimizer_ft, num_epochs=15, is_inception=(model_name==\"inception\"))"
      ]
    },
    {
      "cell_type": "code",
      "source": [
        "criterion = nn.CrossEntropyLoss()\n",
        "\n",
        "model_ft1, histt1 = train_semi_supervised(model_ft1, unlabeled_dataloaders_dict, dataloaders_dict, criterion, optimizer_ft, num_epochs=15, is_inception=(model_name==\"inception\"))"
      ],
      "metadata": {
        "colab": {
          "base_uri": "https://localhost:8080/"
        },
        "id": "3bii1taidj0h",
        "outputId": "b943bae5-7642-4b68-9d7f-a5681994a80d"
      },
      "execution_count": null,
      "outputs": [
        {
          "output_type": "stream",
          "name": "stdout",
          "text": [
            "Epoch 0/14\n",
            "----------\n"
          ]
        },
        {
          "output_type": "stream",
          "name": "stderr",
          "text": [
            "/usr/local/lib/python3.10/dist-packages/torch/optim/lr_scheduler.py:152: UserWarning: The epoch parameter in `scheduler.step()` was not necessary and is being deprecated where possible. Please use `scheduler.step()` to step the scheduler. During the deprecation, if epoch is different from None, the closed form is used instead of the new chainable form, where available. Please open an issue if you are unable to replicate your use case: https://github.com/pytorch/pytorch/issues/new/choose.\n",
            "  warnings.warn(EPOCH_DEPRECATION_WARNING, UserWarning)\n"
          ]
        },
        {
          "output_type": "stream",
          "name": "stdout",
          "text": [
            "Test Loss: 0.6441 Acc: 0.8467\n",
            "\n",
            "Epoch 1/14\n",
            "----------\n",
            "Test Loss: 0.4707 Acc: 0.8833\n",
            "\n",
            "Epoch 2/14\n",
            "----------\n",
            "Test Loss: 0.5611 Acc: 0.8806\n",
            "\n",
            "Epoch 3/14\n",
            "----------\n",
            "Test Loss: 0.6957 Acc: 0.8535\n",
            "\n",
            "Epoch 4/14\n",
            "----------\n",
            "Test Loss: 0.8255 Acc: 0.8250\n",
            "\n",
            "Epoch 5/14\n",
            "----------\n",
            "Test Loss: 1.0697 Acc: 0.8060\n",
            "\n",
            "Epoch 6/14\n",
            "----------\n",
            "Test Loss: 1.0763 Acc: 0.7870\n",
            "\n",
            "Epoch 7/14\n",
            "----------\n",
            "Test Loss: 0.8440 Acc: 0.8399\n",
            "\n",
            "Epoch 8/14\n",
            "----------\n",
            "Test Loss: 1.2714 Acc: 0.7924\n",
            "\n",
            "Epoch 9/14\n",
            "----------\n",
            "Test Loss: 1.1307 Acc: 0.7761\n",
            "\n",
            "Epoch 10/14\n",
            "----------\n",
            "Test Loss: 1.2210 Acc: 0.7490\n",
            "\n",
            "Epoch 11/14\n",
            "----------\n",
            "Test Loss: 1.2036 Acc: 0.7815\n",
            "\n",
            "Epoch 12/14\n",
            "----------\n",
            "Test Loss: 1.2368 Acc: 0.7992\n",
            "\n",
            "Epoch 13/14\n",
            "----------\n",
            "Test Loss: 1.2113 Acc: 0.7883\n",
            "\n",
            "Epoch 14/14\n",
            "----------\n",
            "Test Loss: 1.1649 Acc: 0.7938\n",
            "\n",
            "Training complete in 164m 1s\n",
            "Pseudo Labeling : Best val Acc: 0.883311\n"
          ]
        }
      ]
    },
    {
      "cell_type": "code",
      "source": [
        "print(alpha_history)"
      ],
      "metadata": {
        "colab": {
          "base_uri": "https://localhost:8080/"
        },
        "id": "U6GrFg-0DWt4",
        "outputId": "1f686993-2809-4e62-f819-241c7964c3f4"
      },
      "execution_count": null,
      "outputs": [
        {
          "output_type": "stream",
          "name": "stdout",
          "text": [
            "[0.0, 0.01, 0.02, 0.03, 0.04, 0.05, 0.06, 0.07, 0.08, 0.09, 0.1, 0.11, 0.12, 0.13, 0.14, 0.15000000000000002, 0.16, 0.16999999999999998, 0.18, 0.19, 0.2, 0.21000000000000002, 0.22, 0.22999999999999998, 0.24, 0.25, 0.26, 0.27, 0.28, 0.29, 0.30000000000000004, 0.31, 0.32, 0.33, 0.33999999999999997, 0.35, 0.36, 0.37, 0.38, 0.39, 0.4, 0.41, 0.42000000000000004, 0.43000000000000005, 0.44, 0.44999999999999996, 0.45999999999999996, 0.47000000000000003, 0.48, 0.49, 0.5, 0.51, 0.52, 0.53, 0.54, 0.5499999999999999, 0.56, 0.5700000000000001, 0.58, 0.59, 0.6000000000000001, 0.61, 0.62, 0.63, 0.64, 0.65, 0.66, 0.6699999999999999, 0.6799999999999999, 0.6900000000000001, 0.7, 0.71, 0.72, 0.73, 0.74, 0.75, 0.76, 0.77, 0.78, 0.7899999999999999, 0.8, 0.81, 0.82, 0.8300000000000001, 0.8400000000000001, 0.85, 0.8600000000000001, 0.8699999999999999, 0.88, 0.8900000000000001, 0.8999999999999999, 0.91, 0.9199999999999999, 0.9299999999999999, 0.9400000000000001, 0.95, 0.96, 0.97, 0.98, 0.99, 1.0, 1.01, 1.02, 1.03, 1.04, 1.0499999999999998, 1.06, 1.07, 1.08, 1.09, 1.0999999999999999, 1.1099999999999999, 1.12, 1.13, 1.1400000000000001, 1.1500000000000001, 1.16, 1.17, 1.18, 1.19, 1.2000000000000002, 1.21, 1.22, 1.23, 1.24, 1.25, 1.26, 1.27, 1.28, 1.29, 1.3, 1.31, 1.32, 1.33, 1.3399999999999999, 1.35, 1.3599999999999999, 1.37, 1.3800000000000001, 1.39, 1.4, 1.41, 1.42, 1.4300000000000002, 1.44, 1.45, 1.46, 1.47, 1.48, 1.49, 1.5, 1.5099999999999998, 1.52, 1.53, 1.54, 1.5500000000000003, 1.56, 1.5699999999999998, 1.5799999999999998, 1.59, 1.6, 1.6099999999999999, 1.62, 1.63, 1.64, 1.6500000000000001, 1.6600000000000001, 1.67, 1.6800000000000002, 1.69, 1.7, 1.71, 1.7200000000000002, 1.73, 1.7399999999999998, 1.75, 1.76, 1.77, 1.7800000000000002, 1.79, 1.7999999999999998, 1.81, 1.82, 1.83, 1.8399999999999999, 1.85, 1.8599999999999999, 1.8699999999999999, 1.8800000000000001, 1.8900000000000001, 1.9, 1.9100000000000001, 1.92, 1.93, 1.94, 1.9500000000000002, 1.96, 1.9699999999999998, 1.98, 1.99, 2.0, 2.0100000000000002, 2.02, 2.03, 2.04, 2.05, 2.06, 2.07, 2.08, 2.09, 2.0999999999999996, 2.1100000000000003, 2.12, 2.13, 2.14, 2.15, 2.16, 2.17, 2.18, 2.19, 2.1999999999999997, 2.21, 2.2199999999999998, 2.23, 2.24, 2.25, 2.26, 2.27, 2.2800000000000002, 2.29, 2.3000000000000003, 2.31, 2.32, 2.33, 2.34, 2.35, 2.36, 2.37, 2.38, 2.3899999999999997, 2.4000000000000004, 2.41, 2.42, 2.43, 2.44, 2.45, 2.46, 2.47, 2.48, 2.4899999999999998, 2.5, 2.51, 2.52, 2.5300000000000002, 2.54, 2.55, 2.56, 2.5700000000000003, 2.58, 2.59, 2.6, 2.61, 2.62, 2.63, 2.64, 2.65, 2.66, 2.67, 2.6799999999999997, 2.69, 2.7, 2.71, 2.7199999999999998, 2.73, 2.74, 2.75, 2.7600000000000002, 2.77, 2.78, 2.79, 2.8, 2.81, 2.82, 2.83, 2.84, 2.8499999999999996, 2.8600000000000003, 2.87, 2.88, 2.89, 2.9, 2.91, 2.92, 2.93, 2.94, 2.9499999999999997, 2.96, 2.9699999999999998, 2.98, 2.99, 3.0, 3, 3, 3, 3, 3, 3, 3, 3, 3, 3, 3, 3, 3, 3, 3, 3, 3, 3, 3, 3, 3, 3, 3, 3, 3, 3, 3, 3, 3, 3, 3, 3, 3, 3, 3, 3, 3, 3, 3, 3, 3, 3, 3, 3, 3, 3, 3, 3, 3, 3, 3, 3, 3, 3, 3, 3, 3, 3, 3, 3, 3, 3, 3, 3, 3, 3, 3, 3, 3, 3, 3, 3, 3, 3, 3, 3, 3, 3, 3, 3, 3, 3, 3, 3, 3, 3, 3, 3, 3, 3, 3, 3, 3, 3, 3, 3, 3, 3, 3, 3, 3, 3, 3, 3]\n"
          ]
        }
      ]
    },
    {
      "cell_type": "code",
      "source": [
        "torch.save(model_ft1.state_dict(), '/content/drive/MyDrive/resnet50_FT_0.1_labels_PL.pt')"
      ],
      "metadata": {
        "id": "Lq6X5_CSDHb3"
      },
      "execution_count": null,
      "outputs": []
    },
    {
      "cell_type": "code",
      "source": [
        "with open('/content/drive/MyDrive/PL_best_accuracie.txt', 'a', encoding='utf-8') as f:\n",
        "  f.write('Best Val accuracies for 10% of dataset with PL: \\n')\n",
        "  f.write(f'{histt1}\\n')"
      ],
      "metadata": {
        "id": "YmXldiUsYXGZ"
      },
      "execution_count": null,
      "outputs": []
    },
    {
      "cell_type": "code",
      "source": [
        "hist_ft = [torch.tensor(0.2510, device='cuda:0', dtype=torch.float64), torch.tensor(0.6649, device='cuda:0', dtype=torch.float64), torch.tensor(0.7476, device='cuda:0', dtype=torch.float64), torch.tensor(0.7626, device='cuda:0', dtype=torch.float64), torch.tensor(0.7856, device='cuda:0', dtype=torch.float64), torch.tensor(0.8005, device='cuda:0', dtype=torch.float64), torch.tensor(0.8290, device='cuda:0', dtype=torch.float64), torch.tensor(0.8100, device='cuda:0', dtype=torch.float64), torch.tensor(0.8372, device='cuda:0', dtype=torch.float64), torch.tensor(0.8358, device='cuda:0', dtype=torch.float64), torch.tensor(0.8480, device='cuda:0', dtype=torch.float64), torch.tensor(0.8385, device='cuda:0', dtype=torch.float64), torch.tensor(0.8358, device='cuda:0', dtype=torch.float64), torch.tensor(0.8480, device='cuda:0', dtype=torch.float64), torch.tensor(0.8426, device='cuda:0', dtype=torch.float64)]\n",
        "hist_ft_bn = [0.8724559023066486, 0.8236092265943012, 0.824966078697422, 0.830393487109905, 0.8371777476255088, 0.8168249660786974, 0.7951153324287653, 0.8005427408412483, 0.7991858887381276, 0.7883310719131614, 0.7842605156037992, 0.7991858887381276, 0.7774762550881954, 0.7856173677069199, 0.7584803256445047]\n",
        "ohist = [h.cpu().numpy() for h in hist_ft]\n",
        "shist = histt1\n",
        "alphas_0_1 = [0.0, 0.01, 0.02, 0.03, 0.04, 0.05, 0.06, 0.07, 0.08, 0.09, 0.1, 0.11, 0.12, 0.13, 0.14, 0.15000000000000002, 0.16, 0.16999999999999998, 0.18, 0.19, 0.2, 0.21000000000000002, 0.22, 0.22999999999999998, 0.24, 0.25, 0.26, 0.27, 0.28, 0.29, 0.30000000000000004, 0.31, 0.32, 0.33, 0.33999999999999997, 0.35, 0.36, 0.37, 0.38, 0.39, 0.4, 0.41, 0.42000000000000004, 0.43000000000000005, 0.44, 0.44999999999999996, 0.45999999999999996, 0.47000000000000003, 0.48, 0.49, 0.5, 0.51, 0.52, 0.53, 0.54, 0.5499999999999999, 0.56, 0.5700000000000001, 0.58, 0.59, 0.6000000000000001, 0.61, 0.62, 0.63, 0.64, 0.65, 0.66, 0.6699999999999999, 0.6799999999999999, 0.6900000000000001, 0.7, 0.71, 0.72, 0.73, 0.74, 0.75, 0.76, 0.77, 0.78, 0.7899999999999999, 0.8, 0.81, 0.82, 0.8300000000000001, 0.8400000000000001, 0.85, 0.8600000000000001, 0.8699999999999999, 0.88, 0.8900000000000001, 0.8999999999999999, 0.91, 0.9199999999999999, 0.9299999999999999, 0.9400000000000001, 0.95, 0.96, 0.97, 0.98, 0.99, 1.0, 1.01, 1.02, 1.03, 1.04, 1.0499999999999998, 1.06, 1.07, 1.08, 1.09, 1.0999999999999999, 1.1099999999999999, 1.12, 1.13, 1.1400000000000001, 1.1500000000000001, 1.16, 1.17, 1.18, 1.19, 1.2000000000000002, 1.21, 1.22, 1.23, 1.24, 1.25, 1.26, 1.27, 1.28, 1.29, 1.3, 1.31, 1.32, 1.33, 1.3399999999999999, 1.35, 1.3599999999999999, 1.37, 1.3800000000000001, 1.39, 1.4, 1.41, 1.42, 1.4300000000000002, 1.44, 1.45, 1.46, 1.47, 1.48, 1.49, 1.5, 1.5099999999999998, 1.52, 1.53, 1.54, 1.5500000000000003, 1.56, 1.5699999999999998, 1.5799999999999998, 1.59, 1.6, 1.6099999999999999, 1.62, 1.63, 1.64, 1.6500000000000001, 1.6600000000000001, 1.67, 1.6800000000000002, 1.69, 1.7, 1.71, 1.7200000000000002, 1.73, 1.7399999999999998, 1.75, 1.76, 1.77, 1.7800000000000002, 1.79, 1.7999999999999998, 1.81, 1.82, 1.83, 1.8399999999999999, 1.85, 1.8599999999999999, 1.8699999999999999, 1.8800000000000001, 1.8900000000000001, 1.9, 1.9100000000000001, 1.92, 1.93, 1.94, 1.9500000000000002, 1.96, 1.9699999999999998, 1.98, 1.99, 2.0, 2.0100000000000002, 2.02, 2.03, 2.04, 2.05, 2.06, 2.07, 2.08, 2.09, 2.0999999999999996, 2.1100000000000003, 2.12, 2.13, 2.14, 2.15, 2.16, 2.17, 2.18, 2.19, 2.1999999999999997, 2.21, 2.2199999999999998, 2.23, 2.24, 2.25, 2.26, 2.27, 2.2800000000000002, 2.29, 2.3000000000000003, 2.31, 2.32, 2.33, 2.34, 2.35, 2.36, 2.37, 2.38, 2.3899999999999997, 2.4000000000000004, 2.41, 2.42, 2.43, 2.44, 2.45, 2.46, 2.47, 2.48, 2.4899999999999998, 2.5, 2.51, 2.52, 2.5300000000000002, 2.54, 2.55, 2.56, 2.5700000000000003, 2.58, 2.59, 2.6, 2.61, 2.62, 2.63, 2.64, 2.65, 2.66, 2.67, 2.6799999999999997, 2.69, 2.7, 2.71, 2.7199999999999998, 2.73, 2.74, 2.75, 2.7600000000000002, 2.77, 2.78, 2.79, 2.8, 2.81, 2.82, 2.83, 2.84, 2.8499999999999996, 2.8600000000000003, 2.87, 2.88, 2.89, 2.9, 2.91, 2.92, 2.93, 2.94, 2.9499999999999997, 2.96, 2.9699999999999998, 2.98, 2.99, 3.0, 3, 3, 3, 3, 3, 3, 3, 3, 3, 3, 3, 3, 3, 3, 3, 3, 3, 3, 3, 3, 3, 3, 3, 3, 3, 3, 3, 3, 3, 3, 3, 3, 3, 3, 3, 3, 3, 3, 3, 3, 3, 3, 3, 3, 3, 3, 3, 3, 3, 3, 3, 3, 3, 3, 3, 3, 3, 3, 3, 3, 3, 3, 3, 3, 3, 3, 3, 3, 3, 3, 3, 3, 3, 3, 3, 3, 3, 3, 3, 3, 3, 3, 3, 3, 3, 3, 3, 3, 3, 3, 3, 3, 3, 3, 3, 3, 3, 3, 3, 3, 3, 3, 3, 3]\n",
        "x_axis_third = np.linspace(1, num_epochs, len(alphas_0_1))\n",
        "\n",
        "fig, ax1 = plt.subplots()\n",
        "\n",
        "ax1.set_title(\"Validation Accuracy vs. Number of Training Epochs for 10% labeled data\")\n",
        "ax1.set_xlabel(\"Training Epochs\")\n",
        "ax1.set_ylabel(\"Test Accuracy\")\n",
        "ax1.plot(range(1,num_epochs+1),ohist,label=\"Without Pseudo Labeling\")\n",
        "ax1.plot(range(1,num_epochs+1),shist,label=\"With Pseudo Labeling\")\n",
        "\n",
        "# Create a second y-axis\n",
        "ax2 = ax1.twinx()\n",
        "\n",
        "# Third plot\n",
        "ax2.set_ylabel(\"Alpha\")  # Set a label for the third plot's y-axis\n",
        "ax2.plot(x_axis_third,alphas_0_1,label=\"Weights\", color='Black')\n",
        "ax1.set_ylim(0.2, 1)\n",
        "ohist_max = max(ohist)\n",
        "shist_max = max(shist)\n",
        "ax1.annotate(f\"Max: {ohist_max:.4f}\", xy=(ohist.index(ohist_max)+1, ohist_max), xytext=(ohist.index(ohist_max)+1.5, ohist_max-0.05), color='blue')\n",
        "ax1.annotate(f\"Max: {shist_max:.4f}\", xy=(shist.index(shist_max)+1, shist_max), xytext=(shist.index(shist_max)+1.5, shist_max+0.01), color='orange')\n",
        "ax1.set_xticks(np.arange(1, num_epochs+1, 1.0))\n",
        "ax1.legend(loc='lower right')\n",
        "ax2.legend(loc='lower left')\n",
        "plt.show()"
      ],
      "metadata": {
        "colab": {
          "base_uri": "https://localhost:8080/",
          "height": 472
        },
        "id": "ShjJaQP8DSdT",
        "outputId": "eb11b25d-6d1c-4cb9-8973-ae2141afda3f"
      },
      "execution_count": null,
      "outputs": [
        {
          "output_type": "display_data",
          "data": {
            "text/plain": [
              "<Figure size 640x480 with 2 Axes>"
            ],
            "image/png": "[encoded data removed]"
          },
          "metadata": {}
        }
      ]
    },
    {
      "cell_type": "code",
      "source": [
        "len(alphas_0_1)"
      ],
      "metadata": {
        "colab": {
          "base_uri": "https://localhost:8080/"
        },
        "id": "s48Cz2-xIRVc",
        "outputId": "c1cb248c-048c-4220-8de2-d6fdc2a97aa1"
      },
      "execution_count": null,
      "outputs": [
        {
          "output_type": "execute_result",
          "data": {
            "text/plain": [
              "510"
            ]
          },
          "metadata": {},
          "execution_count": 74
        }
      ]
    },
    {
      "cell_type": "markdown",
      "source": [
        "### 1% Labeled"
      ],
      "metadata": {
        "id": "j12mYuy5YFRM"
      }
    },
    {
      "cell_type": "code",
      "source": [
        "criterion = nn.CrossEntropyLoss()\n",
        "\n",
        "model_ft2, hist2 = train_model(model_ft, dataloaders_dict, criterion, optimizer_ft, num_epochs=num_epochs, is_inception=(model_name==\"inception\"))"
      ],
      "metadata": {
        "id": "DAq3Dtb2YHgv",
        "colab": {
          "base_uri": "https://localhost:8080/"
        },
        "outputId": "b64f96ee-81d7-4e39-9f4b-437aa31ccf9c"
      },
      "execution_count": null,
      "outputs": [
        {
          "output_type": "stream",
          "name": "stdout",
          "text": [
            "Epoch 0/14\n",
            "----------\n"
          ]
        },
        {
          "output_type": "stream",
          "name": "stderr",
          "text": [
            "/usr/local/lib/python3.10/dist-packages/torch/optim/lr_scheduler.py:152: UserWarning: The epoch parameter in `scheduler.step()` was not necessary and is being deprecated where possible. Please use `scheduler.step()` to step the scheduler. During the deprecation, if epoch is different from None, the closed form is used instead of the new chainable form, where available. Please open an issue if you are unable to replicate your use case: https://github.com/pytorch/pytorch/issues/new/choose.\n",
            "  warnings.warn(EPOCH_DEPRECATION_WARNING, UserWarning)\n"
          ]
        },
        {
          "output_type": "stream",
          "name": "stdout",
          "text": [
            "train Loss: 3.0569 Acc: 0.0940\n",
            "lr1= 0.0008573447083204221\n",
            "lr2= 0.0017146894166408441\n",
            "val Loss: 4.9163 Acc: 0.0570\n",
            "lr1= 0.0007705723759751685\n",
            "lr2= 0.001541144751950337\n",
            "\n",
            "Epoch 1/14\n",
            "----------\n",
            "train Loss: 2.1302 Acc: 0.2991\n",
            "lr1= 0.0009005927171734324\n",
            "lr2= 0.0018011854343468648\n",
            "val Loss: 5.4450 Acc: 0.1818\n",
            "lr1= 0.0007458984479986129\n",
            "lr2= 0.0014917968959972257\n",
            "\n",
            "Epoch 2/14\n",
            "----------\n",
            "train Loss: 1.5544 Acc: 0.5299\n",
            "lr1= 0.0009274607093245895\n",
            "lr2= 0.001854921418649179\n",
            "val Loss: 5.7485 Acc: 0.2103\n",
            "lr1= 0.000731735927792277\n",
            "lr2= 0.001463471855584554\n",
            "\n",
            "Epoch 3/14\n",
            "----------\n",
            "train Loss: 1.2020 Acc: 0.7009\n",
            "lr1= 0.0009439047385280968\n",
            "lr2= 0.0018878094770561937\n",
            "val Loss: 5.7926 Acc: 0.2374\n",
            "lr1= 0.0007296781763174263\n",
            "lr2= 0.0014593563526348525\n",
            "\n",
            "Epoch 4/14\n",
            "----------\n",
            "train Loss: 0.9140 Acc: 0.8120\n",
            "lr1= 0.0009573467742343913\n",
            "lr2= 0.0019146935484687826\n",
            "val Loss: 5.8853 Acc: 0.2605\n",
            "lr1= 0.0007253516141476538\n",
            "lr2= 0.0014507032282953076\n",
            "\n",
            "Epoch 5/14\n",
            "----------\n",
            "train Loss: 0.9062 Acc: 0.7692\n",
            "lr1= 0.0009577099052657428\n",
            "lr2= 0.0019154198105314857\n",
            "val Loss: 5.9988 Acc: 0.2578\n",
            "lr1= 0.0007200551007485185\n",
            "lr2= 0.001440110201497037\n",
            "\n",
            "Epoch 6/14\n",
            "----------\n",
            "train Loss: 0.6687 Acc: 0.8462\n",
            "lr1= 0.0009687947366040656\n",
            "lr2= 0.0019375894732081313\n",
            "val Loss: 6.1812 Acc: 0.2673\n",
            "lr1= 0.0007115421296939868\n",
            "lr2= 0.0014230842593879736\n",
            "\n",
            "Epoch 7/14\n",
            "----------\n",
            "train Loss: 0.5187 Acc: 0.8889\n",
            "lr1= 0.000975795311676471\n",
            "lr2= 0.001951590623352942\n",
            "val Loss: 6.2020 Acc: 0.2619\n",
            "lr1= 0.0007105751543861408\n",
            "lr2= 0.0014211503087722815\n",
            "\n",
            "Epoch 8/14\n",
            "----------\n",
            "train Loss: 0.4675 Acc: 0.8718\n",
            "lr1= 0.0009781817900047683\n",
            "lr2= 0.0019563635800095365\n",
            "val Loss: 6.1887 Acc: 0.2632\n",
            "lr1= 0.0007111926975923122\n",
            "lr2= 0.0014223853951846244\n",
            "\n",
            "Epoch 9/14\n",
            "----------\n",
            "train Loss: 0.3929 Acc: 0.9231\n",
            "lr1= 0.0009816656950668052\n",
            "lr2= 0.0019633313901336103\n",
            "val Loss: 6.3033 Acc: 0.2727\n",
            "lr1= 0.0007058455850419174\n",
            "lr2= 0.001411691170083835\n",
            "\n",
            "Epoch 10/14\n",
            "----------\n",
            "train Loss: 0.3593 Acc: 0.9231\n",
            "lr1= 0.0009832338686274669\n",
            "lr2= 0.0019664677372549337\n",
            "val Loss: 6.3230 Acc: 0.2646\n",
            "lr1= 0.0007049266520154687\n",
            "lr2= 0.0014098533040309373\n",
            "\n",
            "Epoch 11/14\n",
            "----------\n",
            "train Loss: 0.5271 Acc: 0.8547\n",
            "lr1= 0.0009754026518995606\n",
            "lr2= 0.0019508053037991212\n",
            "val Loss: 6.3944 Acc: 0.2714\n",
            "lr1= 0.0007015969608941806\n",
            "lr2= 0.0014031939217883612\n",
            "\n",
            "Epoch 12/14\n",
            "----------\n",
            "train Loss: 0.4299 Acc: 0.9060\n",
            "lr1= 0.0009799362220791331\n",
            "lr2= 0.0019598724441582662\n",
            "val Loss: 6.5654 Acc: 0.2659\n",
            "lr1= 0.0006936154118645305\n",
            "lr2= 0.001387230823729061\n",
            "\n",
            "Epoch 13/14\n",
            "----------\n",
            "train Loss: 0.4153 Acc: 0.8803\n",
            "lr1= 0.000980617937807344\n",
            "lr2= 0.001961235875614688\n",
            "val Loss: 6.6537 Acc: 0.2700\n",
            "lr1= 0.0006894941083072592\n",
            "lr2= 0.0013789882166145185\n",
            "\n",
            "Epoch 14/14\n",
            "----------\n",
            "train Loss: 0.2972 Acc: 0.9402\n",
            "lr1= 0.0009861297846481501\n",
            "lr2= 0.0019722595692963003\n",
            "val Loss: 6.5823 Acc: 0.2727\n",
            "lr1= 0.0006928281304416804\n",
            "lr2= 0.0013856562608833608\n",
            "\n",
            "Training complete in 3m 6s\n",
            "Best val Acc: 0.272727\n"
          ]
        }
      ]
    },
    {
      "cell_type": "code",
      "source": [
        "torch.save(model_ft2.state_dict(), '/content/drive/MyDrive/resnet50_FT_0.01_labels.pt')"
      ],
      "metadata": {
        "id": "xmJNUmKYIykw"
      },
      "execution_count": null,
      "outputs": []
    },
    {
      "cell_type": "code",
      "source": [
        "model_ft2 = model_ft\n",
        "\n",
        "model_ft2.load_state_dict(torch.load(\"/content/drive/MyDrive/resnet50_FT_0.01_labels.pt\"))"
      ],
      "metadata": {
        "colab": {
          "base_uri": "https://localhost:8080/"
        },
        "id": "2VJbuZKwYM6b",
        "outputId": "202cf5d4-d526-40d1-ab75-091cd13c7775"
      },
      "execution_count": null,
      "outputs": [
        {
          "output_type": "execute_result",
          "data": {
            "text/plain": [
              "<All keys matched successfully>"
            ]
          },
          "metadata": {},
          "execution_count": 21
        }
      ]
    },
    {
      "cell_type": "code",
      "source": [
        "with open('/content/drive/MyDrive/PL_best_accuracie.txt', 'a', encoding='utf-8') as f:\n",
        "  f.write('Best Val accuracies for 1% of dataset before PL 3: \\n')\n",
        "  f.write(f'{hist2}\\n')"
      ],
      "metadata": {
        "id": "FuUgOqfyJEfg"
      },
      "execution_count": null,
      "outputs": []
    },
    {
      "cell_type": "markdown",
      "source": [
        "**First try**"
      ],
      "metadata": {
        "id": "3Oqu3JGmNkPY"
      }
    },
    {
      "cell_type": "code",
      "source": [
        "model_ft2, histt2 = train_semi_supervised(model_ft2, unlabeled_dataloaders_dict, dataloaders_dict, criterion, optimizer_ft, num_epochs=15, is_inception=(model_name==\"inception\"))"
      ],
      "metadata": {
        "id": "ShQsin4EZe3z",
        "colab": {
          "base_uri": "https://localhost:8080/"
        },
        "outputId": "5d971730-1e0a-4a62-bc2c-1ac93d8cfafd"
      },
      "execution_count": null,
      "outputs": [
        {
          "output_type": "stream",
          "name": "stdout",
          "text": [
            "Epoch 0/14\n",
            "----------\n"
          ]
        },
        {
          "output_type": "stream",
          "name": "stderr",
          "text": [
            "/usr/local/lib/python3.10/dist-packages/torch/optim/lr_scheduler.py:152: UserWarning: The epoch parameter in `scheduler.step()` was not necessary and is being deprecated where possible. Please use `scheduler.step()` to step the scheduler. During the deprecation, if epoch is different from None, the closed form is used instead of the new chainable form, where available. Please open an issue if you are unable to replicate your use case: https://github.com/pytorch/pytorch/issues/new/choose.\n",
            "  warnings.warn(EPOCH_DEPRECATION_WARNING, UserWarning)\n"
          ]
        },
        {
          "output_type": "stream",
          "name": "stdout",
          "text": [
            "Test Loss: 11.6834 Acc: 0.2076\n",
            "\n",
            "Epoch 1/14\n",
            "----------\n",
            "Test Loss: 17.2125 Acc: 0.1995\n",
            "\n",
            "Epoch 2/14\n",
            "----------\n",
            "Test Loss: 12.7652 Acc: 0.2388\n",
            "\n",
            "Epoch 3/14\n",
            "----------\n",
            "Test Loss: 16.4684 Acc: 0.2252\n",
            "\n",
            "Epoch 4/14\n",
            "----------\n",
            "Test Loss: 13.4287 Acc: 0.2347\n",
            "\n",
            "Epoch 5/14\n",
            "----------\n",
            "Test Loss: 11.7415 Acc: 0.2442\n",
            "\n",
            "Epoch 6/14\n",
            "----------\n",
            "Test Loss: 13.0025 Acc: 0.2388\n",
            "\n",
            "Epoch 7/14\n",
            "----------\n",
            "Test Loss: 12.6966 Acc: 0.2225\n",
            "\n",
            "Epoch 8/14\n",
            "----------\n",
            "Test Loss: 13.9348 Acc: 0.2456\n",
            "\n",
            "Epoch 9/14\n",
            "----------\n",
            "Test Loss: 13.6818 Acc: 0.2429\n",
            "\n",
            "Epoch 10/14\n",
            "----------\n",
            "Test Loss: 11.9690 Acc: 0.2307\n",
            "\n",
            "Epoch 11/14\n",
            "----------\n",
            "Test Loss: 12.3331 Acc: 0.2347\n",
            "\n",
            "Epoch 12/14\n",
            "----------\n",
            "Test Loss: 11.4072 Acc: 0.2225\n",
            "\n",
            "Epoch 13/14\n",
            "----------\n",
            "Test Loss: 11.1592 Acc: 0.2157\n",
            "\n",
            "Epoch 14/14\n",
            "----------\n",
            "Test Loss: 11.3619 Acc: 0.2130\n",
            "\n",
            "Training complete in 57m 40s\n",
            "Pseudo Labeling : Best val Acc: 0.245590\n"
          ]
        }
      ]
    },
    {
      "cell_type": "code",
      "source": [
        "torch.save(model_ft2.state_dict(), '/content/drive/MyDrive/resnet50_FT_0.01_labels_PL.pt')"
      ],
      "metadata": {
        "id": "m_a84kdyV-Ye"
      },
      "execution_count": null,
      "outputs": []
    },
    {
      "cell_type": "markdown",
      "source": [
        "**Second try**"
      ],
      "metadata": {
        "id": "z_-Rub-8NsYy"
      }
    },
    {
      "cell_type": "code",
      "source": [
        "criterion = nn.CrossEntropyLoss()\n",
        "\n",
        "model_ft2, histt2 = train_semi_supervised(model_ft2, unlabeled_dataloaders_dict, dataloaders_dict, criterion, optimizer_ft, num_epochs=15, is_inception=(model_name==\"inception\"))"
      ],
      "metadata": {
        "colab": {
          "base_uri": "https://localhost:8080/"
        },
        "id": "-iNAYMNnNjUE",
        "outputId": "4387e8bd-37e3-4644-af7c-7fa49618f451"
      },
      "execution_count": null,
      "outputs": [
        {
          "output_type": "stream",
          "name": "stdout",
          "text": [
            "Epoch 0/14\n",
            "----------\n"
          ]
        },
        {
          "output_type": "stream",
          "name": "stderr",
          "text": [
            "/usr/local/lib/python3.10/dist-packages/torch/optim/lr_scheduler.py:152: UserWarning: The epoch parameter in `scheduler.step()` was not necessary and is being deprecated where possible. Please use `scheduler.step()` to step the scheduler. During the deprecation, if epoch is different from None, the closed form is used instead of the new chainable form, where available. Please open an issue if you are unable to replicate your use case: https://github.com/pytorch/pytorch/issues/new/choose.\n",
            "  warnings.warn(EPOCH_DEPRECATION_WARNING, UserWarning)\n"
          ]
        },
        {
          "output_type": "stream",
          "name": "stdout",
          "text": [
            "Test Loss: 10.0373 Acc: 0.2727\n",
            "\n",
            "Epoch 1/14\n",
            "----------\n",
            "Test Loss: 11.3145 Acc: 0.2782\n",
            "\n",
            "Epoch 2/14\n",
            "----------\n",
            "Test Loss: 12.0037 Acc: 0.2714\n",
            "\n",
            "Epoch 3/14\n",
            "----------\n",
            "Test Loss: 13.1514 Acc: 0.2578\n",
            "\n",
            "Epoch 4/14\n",
            "----------\n",
            "Test Loss: 13.1113 Acc: 0.2673\n",
            "\n",
            "Epoch 5/14\n",
            "----------\n",
            "Test Loss: 14.3268 Acc: 0.2551\n",
            "\n",
            "Epoch 6/14\n",
            "----------\n",
            "Test Loss: 12.0875 Acc: 0.2456\n",
            "\n",
            "Epoch 7/14\n",
            "----------\n",
            "Test Loss: 9.9948 Acc: 0.2307\n",
            "\n",
            "Epoch 8/14\n",
            "----------\n",
            "Test Loss: 13.5566 Acc: 0.2239\n",
            "\n",
            "Epoch 9/14\n",
            "----------\n",
            "Test Loss: 11.6195 Acc: 0.2157\n",
            "\n",
            "Epoch 10/14\n",
            "----------\n",
            "Test Loss: 12.7078 Acc: 0.2198\n",
            "\n",
            "Epoch 11/14\n",
            "----------\n",
            "Test Loss: 13.5978 Acc: 0.2429\n",
            "\n",
            "Epoch 12/14\n",
            "----------\n",
            "Test Loss: 13.2103 Acc: 0.2402\n",
            "\n",
            "Epoch 13/14\n",
            "----------\n",
            "Test Loss: 11.9155 Acc: 0.2225\n",
            "\n",
            "Epoch 14/14\n",
            "----------\n",
            "Test Loss: 12.8253 Acc: 0.2388\n",
            "\n",
            "Training complete in 96m 9s\n",
            "Pseudo Labeling : Best val Acc: 0.278155\n"
          ]
        }
      ]
    },
    {
      "cell_type": "code",
      "source": [
        "with open('/content/drive/MyDrive/PL_best_accuracie.txt', 'a', encoding='utf-8') as f:\n",
        "  f.write('Best Val accuracies for 1% of dataset with PL 2: \\n')\n",
        "  f.write(f'{histt2}\\n')"
      ],
      "metadata": {
        "id": "RXYG3kaHJH9r"
      },
      "execution_count": null,
      "outputs": []
    },
    {
      "cell_type": "code",
      "source": [
        "hist_ft = [torch.tensor(0.0570, device='cuda:0', dtype=torch.float64), torch.tensor(0.1818, device='cuda:0', dtype=torch.float64), torch.tensor(0.2103, device='cuda:0', dtype=torch.float64), torch.tensor(0.2374, device='cuda:0', dtype=torch.float64), torch.tensor(0.2605, device='cuda:0', dtype=torch.float64), torch.tensor(0.2578, device='cuda:0', dtype=torch.float64), torch.tensor(0.2673, device='cuda:0', dtype=torch.float64), torch.tensor(0.2619, device='cuda:0', dtype=torch.float64), torch.tensor(0.2632, device='cuda:0', dtype=torch.float64), torch.tensor(0.2727, device='cuda:0', dtype=torch.float64), torch.tensor(0.2646, device='cuda:0', dtype=torch.float64), torch.tensor(0.2714, device='cuda:0', dtype=torch.float64), torch.tensor(0.2659, device='cuda:0', dtype=torch.float64), torch.tensor(0.2700, device='cuda:0', dtype=torch.float64), torch.tensor(0.2727, device='cuda:0', dtype=torch.float64)]\n",
        "hist_ft_bn = histt2\n",
        "ohist = [h.cpu().numpy() for h in hist_ft]\n",
        "shist = hist_ft_bn\n",
        "alphas_0_01 = [0.0, 0.01, 0.02, 0.03, 0.04, 0.05, 0.06, 0.07, 0.08, 0.09, 0.1, 0.11, 0.12, 0.13, 0.14, 0.15000000000000002, 0.16, 0.16999999999999998, 0.18, 0.19, 0.2, 0.21000000000000002, 0.22, 0.22999999999999998, 0.24, 0.25, 0.26, 0.27, 0.28, 0.29, 0.30000000000000004, 0.31, 0.32, 0.33, 0.33999999999999997, 0.35, 0.36, 0.37, 0.38, 0.39, 0.4, 0.41, 0.42000000000000004, 0.43000000000000005, 0.44, 0.44999999999999996, 0.45999999999999996, 0.47000000000000003, 0.48, 0.49, 0.5, 0.51, 0.52, 0.53, 0.54, 0.5499999999999999, 0.56, 0.5700000000000001, 0.58, 0.59, 0.6000000000000001, 0.61, 0.62, 0.63, 0.64, 0.65, 0.66, 0.6699999999999999, 0.6799999999999999, 0.6900000000000001, 0.7, 0.71, 0.72, 0.73, 0.74, 0.75, 0.76, 0.77, 0.78, 0.7899999999999999, 0.8, 0.81, 0.82, 0.8300000000000001, 0.8400000000000001, 0.85, 0.8600000000000001, 0.8699999999999999, 0.88, 0.8900000000000001, 0.8999999999999999, 0.91, 0.9199999999999999, 0.9299999999999999, 0.9400000000000001, 0.95, 0.96, 0.97, 0.98, 0.99, 1.0, 1.01, 1.02, 1.03, 1.04, 1.0499999999999998, 1.06, 1.07, 1.08, 1.09, 1.0999999999999999, 1.1099999999999999, 1.12, 1.13, 1.1400000000000001, 1.1500000000000001, 1.16, 1.17, 1.18, 1.19, 1.2000000000000002, 1.21, 1.22, 1.23, 1.24, 1.25, 1.26, 1.27, 1.28, 1.29, 1.3, 1.31, 1.32, 1.33, 1.3399999999999999, 1.35, 1.3599999999999999, 1.37, 1.3800000000000001, 1.39, 1.4, 1.41, 1.42, 1.4300000000000002, 1.44, 1.45, 1.46, 1.47, 1.48, 1.49, 1.5, 1.5099999999999998, 1.52, 1.53, 1.54, 1.5500000000000003, 1.56, 1.5699999999999998, 1.5799999999999998, 1.59, 1.6, 1.6099999999999999, 1.62, 1.63, 1.64, 1.6500000000000001, 1.6600000000000001, 1.67, 1.6800000000000002, 1.69, 1.7, 1.71, 1.7200000000000002, 1.73, 1.7399999999999998, 1.75, 1.76, 1.77, 1.7800000000000002, 1.79, 1.7999999999999998, 1.81, 1.82, 1.83, 1.8399999999999999, 1.85, 1.8599999999999999, 1.8699999999999999, 1.8800000000000001, 1.8900000000000001, 1.9, 1.9100000000000001, 1.92, 1.93, 1.94, 1.9500000000000002, 1.96, 1.9699999999999998, 1.98, 1.99, 2.0, 2.0100000000000002, 2.02, 2.03, 2.04, 2.05, 2.06, 2.07, 2.08, 2.09, 2.0999999999999996, 2.1100000000000003, 2.12, 2.13, 2.14, 2.15, 2.16, 2.17, 2.18, 2.19, 2.1999999999999997, 2.21, 2.2199999999999998, 2.23, 2.24, 2.25, 2.26, 2.27, 2.2800000000000002, 2.29, 2.3000000000000003, 2.31, 2.32, 2.33, 2.34, 2.35, 2.36, 2.37, 2.38, 2.3899999999999997, 2.4000000000000004, 2.41, 2.42, 2.43, 2.44, 2.45, 2.46, 2.47, 2.48, 2.4899999999999998, 2.5, 2.51, 2.52, 2.5300000000000002, 2.54, 2.55, 2.56, 2.5700000000000003, 2.58, 2.59, 2.6, 2.61, 2.62, 2.63, 2.64, 2.65, 2.66, 2.67, 2.6799999999999997, 2.69, 2.7, 2.71, 2.7199999999999998, 2.73, 2.74, 2.75, 2.7600000000000002, 2.77, 2.78, 2.79, 2.8, 2.81, 2.82, 2.83, 2.84, 2.8499999999999996, 2.8600000000000003, 2.87, 2.88, 2.89, 2.9, 2.91, 2.92, 2.93, 2.94, 2.9499999999999997, 2.96, 2.9699999999999998, 2.98, 2.99, 3.0, 3, 3, 3, 3, 3, 3, 3, 3, 3, 3, 3, 3, 3, 3, 3, 3, 3, 3, 3, 3, 3, 3, 3, 3, 3, 3, 3, 3, 3, 3, 3, 3, 3, 3, 3, 3, 3, 3, 3, 3, 3, 3, 3, 3, 3, 3, 3, 3, 3, 3, 3, 3, 3, 3, 3, 3, 3, 3, 3, 3, 3, 3, 3, 3, 3, 3, 3, 3, 3, 3, 3, 3, 3, 3, 3, 3, 3, 3, 3, 3, 3, 3, 3, 3, 3, 3, 3, 3, 3, 3, 3, 3, 3, 3, 3, 3, 3, 3, 3, 3, 3, 3, 3, 3, 3, 3, 3, 3, 3, 3, 3, 3, 3, 3, 3, 3, 3, 3, 3, 3, 3, 3, 3, 3, 3, 3, 3, 3, 3, 3, 3, 3, 3, 3, 3, 3, 3, 3, 3, 3, 3, 3, 3, 3, 3, 3, 3, 3, 3]\n",
        "x_axis_third = np.linspace(1, num_epochs, len(alphas_0_01))\n",
        "\n",
        "fig, ax1 = plt.subplots()\n",
        "\n",
        "ax1.set_title(\"Validation Accuracy vs. Number of Training Epochs for 1% labeled data\")\n",
        "ax1.set_xlabel(\"Training Epochs\")\n",
        "ax1.set_ylabel(\"Test Accuracy\")\n",
        "ax1.plot(range(1,num_epochs+1),ohist,label=\"Without Pseudo Labeling\")\n",
        "ax1.plot(range(1,num_epochs+1),shist,label=\"With Pseudo Labeling\")\n",
        "\n",
        "# Create a second y-axis\n",
        "ax2 = ax1.twinx()\n",
        "\n",
        "# Third plot\n",
        "ax2.set_ylabel(\"Alpha\")  # Set a label for the third plot's y-axis\n",
        "ax2.plot(x_axis_third,alphas_0_01,label=\"Weights\", color='Black')\n",
        "ax1.set_ylim(0, 0.3)\n",
        "ohist_max = max(ohist)\n",
        "shist_max = max(shist)\n",
        "ax1.annotate(f\"Max: {ohist_max:.4f}\", xy=(ohist.index(ohist_max)+1, ohist_max), xytext=(ohist.index(ohist_max)+1.5, ohist_max-0.05), color='blue')\n",
        "ax1.annotate(f\"Max: {shist_max:.4f}\", xy=(shist.index(shist_max)+1, shist_max), xytext=(shist.index(shist_max)+1.5, shist_max+0.01), color='orange')\n",
        "ax1.set_xticks(np.arange(1, num_epochs+1, 1.0))\n",
        "ax1.legend(loc='lower right')\n",
        "ax2.legend(loc='lower left')\n",
        "plt.show()"
      ],
      "metadata": {
        "colab": {
          "base_uri": "https://localhost:8080/",
          "height": 472
        },
        "id": "ihPdU3kwX_B1",
        "outputId": "e15f3212-dc7c-4183-f379-b3aae730b5fb"
      },
      "execution_count": null,
      "outputs": [
        {
          "output_type": "display_data",
          "data": {
            "text/plain": [
              "<Figure size 640x480 with 2 Axes>"
            ],
            "image/png": "[encoded data removed]"
          },
          "metadata": {}
        }
      ]
    },
    {
      "cell_type": "code",
      "source": [
        "len(alphas_0_01)"
      ],
      "metadata": {
        "colab": {
          "base_uri": "https://localhost:8080/"
        },
        "id": "oKTZ-XvBIn8Z",
        "outputId": "76e62140-69e6-479a-ec95-c578d465e16d"
      },
      "execution_count": null,
      "outputs": [
        {
          "output_type": "execute_result",
          "data": {
            "text/plain": [
              "555"
            ]
          },
          "metadata": {},
          "execution_count": 75
        }
      ]
    },
    {
      "cell_type": "markdown",
      "source": [
        "#Training function for Mean Teacher"
      ],
      "metadata": {
        "id": "c6A8t0T3r9CB"
      }
    },
    {
      "cell_type": "code",
      "execution_count": null,
      "metadata": {
        "id": "lM4pE8S8sP1b"
      },
      "outputs": [],
      "source": [
        "def train_model(model, ema_model,p,dataloaders, criterion, optimizer, num_epochs=25, is_inception=False):\n",
        "    since = time.time()\n",
        "\n",
        "    val_acc_history = []\n",
        "    \n",
        "    best_model_wts = copy.deepcopy(model.state_dict())\n",
        "    best_acc = 0.0\n",
        "\n",
        "    MSELoss = nn.MSELoss()\n",
        "    total_iterations = num_epochs*(len(dataloaders['train']))\n",
        "    iteration=0\n",
        "    beta = 0.99\n",
        "\n",
        "    for epoch in range(num_epochs):\n",
        "        print('Epoch {}/{}'.format(epoch, num_epochs - 1))\n",
        "        print('-' * 10)\n",
        "        if epoch == 10:\n",
        "          beta=0.999\n",
        "\n",
        "        # Each epoch has a training and validation phase\n",
        "        for phase in ['train', 'val']:\n",
        "            if phase == 'train':\n",
        "                model.train()  # Set model to training mode\n",
        "                ema_model.train()\n",
        "            else:\n",
        "                model.eval()   # Set model to evaluate mode\n",
        "                ema_model.eval()\n",
        "\n",
        "            running_loss = 0.0\n",
        "            running_corrects = 0\n",
        "\n",
        "            # Iterate over data.\n",
        "            for inputs, breed, labels in dataloaders[phase]:\n",
        "                inputs = inputs.to(device)\n",
        "                breed = breed.to(device)\n",
        "\n",
        "                # zero the parameter gradients\n",
        "                optimizer.zero_grad()\n",
        "\n",
        "                # forward\n",
        "                # track history if only in train\n",
        "                with torch.set_grad_enabled(phase == 'train'):\n",
        "                    # Get model outputs and calculate loss\n",
        "                    # Special case for inception because in training it has an auxiliary output. In train\n",
        "                    #   mode we calculate the loss by summing the final output and the auxiliary output\n",
        "                    #   but in testing we only consider the final output.\n",
        "                    if is_inception and phase == 'train':\n",
        "                        # From https://discuss.pytorch.org/t/how-to-optimize-inception-model-with-auxiliary-classifiers/7958\n",
        "                        outputs, aux_outputs = model(inputs)\n",
        "                        # loss1 = criterion(outputs, labels) #\n",
        "                        loss1 = criterion(outputs, breed) #\n",
        "                        # loss2 = criterion(aux_outputs, labels)#/\n",
        "                        loss2 = criterion(aux_outputs, breed)#\n",
        "                        loss = loss1 + 0.4*loss2\n",
        "                    else:\n",
        "                        student_noise = torchvision.transforms.GaussianBlur((7,13))\n",
        "                        student_inputs = student_noise(inputs)\n",
        "                        student_inputs = student_inputs.to(device)\n",
        "                        teacher_noise = torchvision.transforms.GaussianBlur((7,13))\n",
        "                        teacher_inputs = teacher_noise(inputs)\n",
        "                        teacher_inputs = teacher_inputs.to(device)\n",
        "\n",
        "                        outputs = model(student_inputs)\n",
        "                        ema_outputs = ema_model(teacher_inputs)\n",
        "                        \n",
        "                        # loss = criterion(outputs, labels)\n",
        "                        #supervised_loss = criterion(outputs,breed)\n",
        "                        consistency_coeff = sigmoid_rampup(iteration,total_iterations)\n",
        "                        iteration+=1\n",
        "                        unsupervised_loss = MSELoss(outputs,ema_outputs)\n",
        "                        loss = consistency_coeff*unsupervised_loss\n",
        "\n",
        "                        #if the batch contains labels\n",
        "                        rand = random.uniform(0,1)\n",
        "                        if rand>p:\n",
        "                          supervised_loss = criterion(outputs,breed)\n",
        "                          loss += supervised_loss\n",
        "                        \n",
        "                        _, preds = torch.max(outputs, 1)\n",
        "\n",
        "                        if phase == 'train':\n",
        "                          loss.backward()\n",
        "                          optimizer.step()\n",
        "                          update_moving_average(model,ema_model,beta)\n",
        "\n",
        "                # statistics\n",
        "                running_loss += loss.item() * inputs.size(0)\n",
        "                # running_corrects += torch.sum(preds == labels.data)\n",
        "                running_corrects += torch.sum(preds == breed.data)\n",
        "\n",
        "            epoch_loss = running_loss / len(dataloaders[phase].dataset)\n",
        "            epoch_acc = running_corrects.double() / len(dataloaders[phase].dataset)\n",
        "            scheduler.step(epoch_loss)\n",
        "\n",
        "            print('{} Loss: {:.4f} Acc: {:.4f}'.format(phase, epoch_loss, epoch_acc))\n",
        "            print('lr1=',optimizer.param_groups[0][\"lr\"])\n",
        "            print('lr2=',optimizer.param_groups[1][\"lr\"])\n",
        "\n",
        "            # deep copy the model\n",
        "            if phase == 'val' and epoch_acc > best_acc:\n",
        "                best_acc = epoch_acc\n",
        "                best_model_wts = copy.deepcopy(model.state_dict())\n",
        "            if phase == 'val':\n",
        "                val_acc_history.append(epoch_acc)\n",
        "\n",
        "        print()\n",
        "\n",
        "    time_elapsed = time.time() - since\n",
        "    print('Training complete in {:.0f}m {:.0f}s'.format(time_elapsed // 60, time_elapsed % 60))\n",
        "    print('Best val Acc: {:4f}'.format(best_acc))\n",
        "\n",
        "    # load best model weights\n",
        "    model.load_state_dict(best_model_wts)\n",
        "    return model, val_acc_history\n",
        "\n",
        "def update_moving_average(model,ema_model,beta):\n",
        "  for ema_param, param in zip(ema_model.parameters(), model.parameters()):\n",
        "        ema_param.data.mul_(beta).add_(1 - beta, param.data)\n",
        "\n",
        "def sigmoid_rampup(current, rampup_length):\n",
        "    \"\"\"Exponential rampup from https://arxiv.org/abs/1610.02242\"\"\"\n",
        "    if rampup_length == 0:\n",
        "        return 1.0\n",
        "    else:\n",
        "        current = np.clip(current, 0.0, rampup_length)\n",
        "        phase = 1.0 - current / rampup_length\n",
        "        return float(np.exp(-5.0 * phase * phase))"
      ]
    },
    {
      "cell_type": "markdown",
      "source": [
        "#Mean Teacher"
      ],
      "metadata": {
        "id": "Uwf6jLhquYQg"
      }
    },
    {
      "cell_type": "code",
      "execution_count": null,
      "metadata": {
        "colab": {
          "base_uri": "https://localhost:8080/"
        },
        "outputId": "38e4801a-bb4f-49f1-aa2a-6a4228369835",
        "id": "aX_OvPhXuW0F"
      },
      "outputs": [
        {
          "output_type": "stream",
          "name": "stdout",
          "text": [
            "Epoch 0/14\n",
            "----------\n"
          ]
        },
        {
          "output_type": "stream",
          "name": "stderr",
          "text": [
            "<ipython-input-19-12acb56657cc>:118: UserWarning: This overload of add_ is deprecated:\n",
            "\tadd_(Number alpha, Tensor other)\n",
            "Consider using one of the following signatures instead:\n",
            "\tadd_(Tensor other, *, Number alpha) (Triggered internally at ../torch/csrc/utils/python_arg_parser.cpp:1485.)\n",
            "  ema_param.data.mul_(beta).add_(1 - beta, param.data)\n",
            "/usr/local/lib/python3.10/dist-packages/torch/optim/lr_scheduler.py:152: UserWarning: The epoch parameter in `scheduler.step()` was not necessary and is being deprecated where possible. Please use `scheduler.step()` to step the scheduler. During the deprecation, if epoch is different from None, the closed form is used instead of the new chainable form, where available. Please open an issue if you are unable to replicate your use case: https://github.com/pytorch/pytorch/issues/new/choose.\n",
            "  warnings.warn(EPOCH_DEPRECATION_WARNING, UserWarning)\n"
          ]
        },
        {
          "output_type": "stream",
          "name": "stdout",
          "text": [
            "train Loss: 0.3309 Acc: 0.3659\n",
            "lr1= 0.000984557632948972\n",
            "lr2= 0.001969115265897944\n",
            "val Loss: 0.1641 Acc: 0.7558\n",
            "lr1= 0.0009923398506815184\n",
            "lr2= 0.0019846797013630367\n",
            "\n",
            "Epoch 1/14\n",
            "----------\n"
          ]
        }
      ],
      "source": [
        "# Setup the loss fxn\n",
        "criterion = nn.CrossEntropyLoss()\n",
        "unlabel_proportion = 0.90\n",
        "\n",
        "# Train and evaluate\n",
        "model_ft, hist = train_model(model_ft, model_ema,unlabel_proportion, dataloaders_dict, criterion, optimizer_ft, num_epochs=num_epochs, is_inception=(model_name==\"inception\"))"
      ]
    },
    {
      "cell_type": "code",
      "source": [
        "# Saving the model and the evaluation accuracy:\n",
        "\n",
        "torch.save(model_ft.state_dict(), '/content/drive/MyDrive/weights/resnet50_noFT.pt')\n",
        "\n",
        "with open('/content/drive/MyDrive/resnet50_noFT_acc.txt', 'a', encoding='utf-8') as f:\n",
        "  f.write('Best Val: \\n')\n",
        "  f.write(f'{hist}\\n')"
      ],
      "metadata": {
        "id": "dJgCrs1yl1t3"
      },
      "execution_count": null,
      "outputs": []
    },
    {
      "cell_type": "code",
      "source": [
        "test_dataset = CustomImageDataset(\"/content/drive/MyDrive/PET/oxford-iiit-pet/annotations/test.txt\",\n",
        "                         \"/content/drive/MyDrive/PET/oxford-iiit-pet/images\",\n",
        "                         transform=val_transform)\n",
        "\n",
        "test_dataloader = DataLoader(test_dataset,batch_size=batch_size,shuffle=False)\n",
        "\n",
        "model_ft.load_state_dict(torch.load(\"/content/drive/MyDrive/weights/resnet50_noFT.pt\"))\n",
        "model_ft.eval()\n",
        "\n",
        "running_corrects = 0\n",
        "for inputs, breed, labels in test_dataloader:\n",
        "    inputs = inputs.to(device)\n",
        "    breed = breed.to(device)\n",
        "\n",
        "    outputs = model_ft(inputs)\n",
        "\n",
        "    _, preds = torch.max(outputs, 1)\n",
        "    running_corrects += torch.sum(preds == breed.data)\n",
        "\n",
        "  \n",
        "test_acc =  running_corrects.double() / len(test_dataloader.dataset)\n",
        "\n",
        "print(test_acc)\n"
      ],
      "metadata": {
        "colab": {
          "base_uri": "https://localhost:8080/",
          "height": 383
        },
        "id": "GPnPRHAiRgFp",
        "outputId": "06657509-48ec-4c91-da3b-fff90e41d70d"
      },
      "execution_count": null,
      "outputs": [
        {
          "output_type": "error",
          "ename": "FileNotFoundError",
          "evalue": "ignored",
          "traceback": [
            "\u001b[0;31m---------------------------------------------------------------------------\u001b[0m",
            "\u001b[0;31mFileNotFoundError\u001b[0m                         Traceback (most recent call last)",
            "\u001b[0;32m<ipython-input-21-3667a08f417e>\u001b[0m in \u001b[0;36m<cell line: 11>\u001b[0;34m()\u001b[0m\n\u001b[1;32m      9\u001b[0m \u001b[0;34m\u001b[0m\u001b[0m\n\u001b[1;32m     10\u001b[0m \u001b[0mrunning_corrects\u001b[0m \u001b[0;34m=\u001b[0m \u001b[0;36m0\u001b[0m\u001b[0;34m\u001b[0m\u001b[0;34m\u001b[0m\u001b[0m\n\u001b[0;32m---> 11\u001b[0;31m \u001b[0;32mfor\u001b[0m \u001b[0minputs\u001b[0m\u001b[0;34m,\u001b[0m \u001b[0mbreed\u001b[0m\u001b[0;34m,\u001b[0m \u001b[0mlabels\u001b[0m \u001b[0;32min\u001b[0m \u001b[0mtest_dataloader\u001b[0m\u001b[0;34m:\u001b[0m\u001b[0;34m\u001b[0m\u001b[0;34m\u001b[0m\u001b[0m\n\u001b[0m\u001b[1;32m     12\u001b[0m     \u001b[0minputs\u001b[0m \u001b[0;34m=\u001b[0m \u001b[0minputs\u001b[0m\u001b[0;34m.\u001b[0m\u001b[0mto\u001b[0m\u001b[0;34m(\u001b[0m\u001b[0mdevice\u001b[0m\u001b[0;34m)\u001b[0m\u001b[0;34m\u001b[0m\u001b[0;34m\u001b[0m\u001b[0m\n\u001b[1;32m     13\u001b[0m     \u001b[0mbreed\u001b[0m \u001b[0;34m=\u001b[0m \u001b[0mbreed\u001b[0m\u001b[0;34m.\u001b[0m\u001b[0mto\u001b[0m\u001b[0;34m(\u001b[0m\u001b[0mdevice\u001b[0m\u001b[0;34m)\u001b[0m\u001b[0;34m\u001b[0m\u001b[0;34m\u001b[0m\u001b[0m\n",
            "\u001b[0;32m/usr/local/lib/python3.10/dist-packages/torch/utils/data/dataloader.py\u001b[0m in \u001b[0;36m__next__\u001b[0;34m(self)\u001b[0m\n\u001b[1;32m    632\u001b[0m                 \u001b[0;31m# TODO(https://github.com/pytorch/pytorch/issues/76750)\u001b[0m\u001b[0;34m\u001b[0m\u001b[0;34m\u001b[0m\u001b[0m\n\u001b[1;32m    633\u001b[0m                 \u001b[0mself\u001b[0m\u001b[0;34m.\u001b[0m\u001b[0m_reset\u001b[0m\u001b[0;34m(\u001b[0m\u001b[0;34m)\u001b[0m  \u001b[0;31m# type: ignore[call-arg]\u001b[0m\u001b[0;34m\u001b[0m\u001b[0;34m\u001b[0m\u001b[0m\n\u001b[0;32m--> 634\u001b[0;31m             \u001b[0mdata\u001b[0m \u001b[0;34m=\u001b[0m \u001b[0mself\u001b[0m\u001b[0;34m.\u001b[0m\u001b[0m_next_data\u001b[0m\u001b[0;34m(\u001b[0m\u001b[0;34m)\u001b[0m\u001b[0;34m\u001b[0m\u001b[0;34m\u001b[0m\u001b[0m\n\u001b[0m\u001b[1;32m    635\u001b[0m             \u001b[0mself\u001b[0m\u001b[0;34m.\u001b[0m\u001b[0m_num_yielded\u001b[0m \u001b[0;34m+=\u001b[0m \u001b[0;36m1\u001b[0m\u001b[0;34m\u001b[0m\u001b[0;34m\u001b[0m\u001b[0m\n\u001b[1;32m    636\u001b[0m             \u001b[0;32mif\u001b[0m \u001b[0mself\u001b[0m\u001b[0;34m.\u001b[0m\u001b[0m_dataset_kind\u001b[0m \u001b[0;34m==\u001b[0m \u001b[0m_DatasetKind\u001b[0m\u001b[0;34m.\u001b[0m\u001b[0mIterable\u001b[0m \u001b[0;32mand\u001b[0m\u001b[0;31m \u001b[0m\u001b[0;31m\\\u001b[0m\u001b[0;34m\u001b[0m\u001b[0;34m\u001b[0m\u001b[0m\n",
            "\u001b[0;32m/usr/local/lib/python3.10/dist-packages/torch/utils/data/dataloader.py\u001b[0m in \u001b[0;36m_next_data\u001b[0;34m(self)\u001b[0m\n\u001b[1;32m    676\u001b[0m     \u001b[0;32mdef\u001b[0m \u001b[0m_next_data\u001b[0m\u001b[0;34m(\u001b[0m\u001b[0mself\u001b[0m\u001b[0;34m)\u001b[0m\u001b[0;34m:\u001b[0m\u001b[0;34m\u001b[0m\u001b[0;34m\u001b[0m\u001b[0m\n\u001b[1;32m    677\u001b[0m         \u001b[0mindex\u001b[0m \u001b[0;34m=\u001b[0m \u001b[0mself\u001b[0m\u001b[0;34m.\u001b[0m\u001b[0m_next_index\u001b[0m\u001b[0;34m(\u001b[0m\u001b[0;34m)\u001b[0m  \u001b[0;31m# may raise StopIteration\u001b[0m\u001b[0;34m\u001b[0m\u001b[0;34m\u001b[0m\u001b[0m\n\u001b[0;32m--> 678\u001b[0;31m         \u001b[0mdata\u001b[0m \u001b[0;34m=\u001b[0m \u001b[0mself\u001b[0m\u001b[0;34m.\u001b[0m\u001b[0m_dataset_fetcher\u001b[0m\u001b[0;34m.\u001b[0m\u001b[0mfetch\u001b[0m\u001b[0;34m(\u001b[0m\u001b[0mindex\u001b[0m\u001b[0;34m)\u001b[0m  \u001b[0;31m# may raise StopIteration\u001b[0m\u001b[0;34m\u001b[0m\u001b[0;34m\u001b[0m\u001b[0m\n\u001b[0m\u001b[1;32m    679\u001b[0m         \u001b[0;32mif\u001b[0m \u001b[0mself\u001b[0m\u001b[0;34m.\u001b[0m\u001b[0m_pin_memory\u001b[0m\u001b[0;34m:\u001b[0m\u001b[0;34m\u001b[0m\u001b[0;34m\u001b[0m\u001b[0m\n\u001b[1;32m    680\u001b[0m             \u001b[0mdata\u001b[0m \u001b[0;34m=\u001b[0m \u001b[0m_utils\u001b[0m\u001b[0;34m.\u001b[0m\u001b[0mpin_memory\u001b[0m\u001b[0;34m.\u001b[0m\u001b[0mpin_memory\u001b[0m\u001b[0;34m(\u001b[0m\u001b[0mdata\u001b[0m\u001b[0;34m,\u001b[0m \u001b[0mself\u001b[0m\u001b[0;34m.\u001b[0m\u001b[0m_pin_memory_device\u001b[0m\u001b[0;34m)\u001b[0m\u001b[0;34m\u001b[0m\u001b[0;34m\u001b[0m\u001b[0m\n",
            "\u001b[0;32m/usr/local/lib/python3.10/dist-packages/torch/utils/data/_utils/fetch.py\u001b[0m in \u001b[0;36mfetch\u001b[0;34m(self, possibly_batched_index)\u001b[0m\n\u001b[1;32m     49\u001b[0m                 \u001b[0mdata\u001b[0m \u001b[0;34m=\u001b[0m \u001b[0mself\u001b[0m\u001b[0;34m.\u001b[0m\u001b[0mdataset\u001b[0m\u001b[0;34m.\u001b[0m\u001b[0m__getitems__\u001b[0m\u001b[0;34m(\u001b[0m\u001b[0mpossibly_batched_index\u001b[0m\u001b[0;34m)\u001b[0m\u001b[0;34m\u001b[0m\u001b[0;34m\u001b[0m\u001b[0m\n\u001b[1;32m     50\u001b[0m             \u001b[0;32melse\u001b[0m\u001b[0;34m:\u001b[0m\u001b[0;34m\u001b[0m\u001b[0;34m\u001b[0m\u001b[0m\n\u001b[0;32m---> 51\u001b[0;31m                 \u001b[0mdata\u001b[0m \u001b[0;34m=\u001b[0m \u001b[0;34m[\u001b[0m\u001b[0mself\u001b[0m\u001b[0;34m.\u001b[0m\u001b[0mdataset\u001b[0m\u001b[0;34m[\u001b[0m\u001b[0midx\u001b[0m\u001b[0;34m]\u001b[0m \u001b[0;32mfor\u001b[0m \u001b[0midx\u001b[0m \u001b[0;32min\u001b[0m \u001b[0mpossibly_batched_index\u001b[0m\u001b[0;34m]\u001b[0m\u001b[0;34m\u001b[0m\u001b[0;34m\u001b[0m\u001b[0m\n\u001b[0m\u001b[1;32m     52\u001b[0m         \u001b[0;32melse\u001b[0m\u001b[0;34m:\u001b[0m\u001b[0;34m\u001b[0m\u001b[0;34m\u001b[0m\u001b[0m\n\u001b[1;32m     53\u001b[0m             \u001b[0mdata\u001b[0m \u001b[0;34m=\u001b[0m \u001b[0mself\u001b[0m\u001b[0;34m.\u001b[0m\u001b[0mdataset\u001b[0m\u001b[0;34m[\u001b[0m\u001b[0mpossibly_batched_index\u001b[0m\u001b[0;34m]\u001b[0m\u001b[0;34m\u001b[0m\u001b[0;34m\u001b[0m\u001b[0m\n",
            "\u001b[0;32m/usr/local/lib/python3.10/dist-packages/torch/utils/data/_utils/fetch.py\u001b[0m in \u001b[0;36m<listcomp>\u001b[0;34m(.0)\u001b[0m\n\u001b[1;32m     49\u001b[0m                 \u001b[0mdata\u001b[0m \u001b[0;34m=\u001b[0m \u001b[0mself\u001b[0m\u001b[0;34m.\u001b[0m\u001b[0mdataset\u001b[0m\u001b[0;34m.\u001b[0m\u001b[0m__getitems__\u001b[0m\u001b[0;34m(\u001b[0m\u001b[0mpossibly_batched_index\u001b[0m\u001b[0;34m)\u001b[0m\u001b[0;34m\u001b[0m\u001b[0;34m\u001b[0m\u001b[0m\n\u001b[1;32m     50\u001b[0m             \u001b[0;32melse\u001b[0m\u001b[0;34m:\u001b[0m\u001b[0;34m\u001b[0m\u001b[0;34m\u001b[0m\u001b[0m\n\u001b[0;32m---> 51\u001b[0;31m                 \u001b[0mdata\u001b[0m \u001b[0;34m=\u001b[0m \u001b[0;34m[\u001b[0m\u001b[0mself\u001b[0m\u001b[0;34m.\u001b[0m\u001b[0mdataset\u001b[0m\u001b[0;34m[\u001b[0m\u001b[0midx\u001b[0m\u001b[0;34m]\u001b[0m \u001b[0;32mfor\u001b[0m \u001b[0midx\u001b[0m \u001b[0;32min\u001b[0m \u001b[0mpossibly_batched_index\u001b[0m\u001b[0;34m]\u001b[0m\u001b[0;34m\u001b[0m\u001b[0;34m\u001b[0m\u001b[0m\n\u001b[0m\u001b[1;32m     52\u001b[0m         \u001b[0;32melse\u001b[0m\u001b[0;34m:\u001b[0m\u001b[0;34m\u001b[0m\u001b[0;34m\u001b[0m\u001b[0m\n\u001b[1;32m     53\u001b[0m             \u001b[0mdata\u001b[0m \u001b[0;34m=\u001b[0m \u001b[0mself\u001b[0m\u001b[0;34m.\u001b[0m\u001b[0mdataset\u001b[0m\u001b[0;34m[\u001b[0m\u001b[0mpossibly_batched_index\u001b[0m\u001b[0;34m]\u001b[0m\u001b[0;34m\u001b[0m\u001b[0;34m\u001b[0m\u001b[0m\n",
            "\u001b[0;32m<ipython-input-3-74e7d77202e8>\u001b[0m in \u001b[0;36m__getitem__\u001b[0;34m(self, idx)\u001b[0m\n\u001b[1;32m     14\u001b[0m     \u001b[0;32mdef\u001b[0m \u001b[0m__getitem__\u001b[0m\u001b[0;34m(\u001b[0m\u001b[0mself\u001b[0m\u001b[0;34m,\u001b[0m \u001b[0midx\u001b[0m\u001b[0;34m)\u001b[0m\u001b[0;34m:\u001b[0m\u001b[0;34m\u001b[0m\u001b[0;34m\u001b[0m\u001b[0m\n\u001b[1;32m     15\u001b[0m         \u001b[0mimg_path\u001b[0m \u001b[0;34m=\u001b[0m \u001b[0mos\u001b[0m\u001b[0;34m.\u001b[0m\u001b[0mpath\u001b[0m\u001b[0;34m.\u001b[0m\u001b[0mjoin\u001b[0m\u001b[0;34m(\u001b[0m\u001b[0mself\u001b[0m\u001b[0;34m.\u001b[0m\u001b[0mimg_dir\u001b[0m\u001b[0;34m,\u001b[0m \u001b[0mself\u001b[0m\u001b[0;34m.\u001b[0m\u001b[0mimg_labels\u001b[0m\u001b[0;34m.\u001b[0m\u001b[0miloc\u001b[0m\u001b[0;34m[\u001b[0m\u001b[0midx\u001b[0m\u001b[0;34m,\u001b[0m \u001b[0;36m0\u001b[0m\u001b[0;34m]\u001b[0m\u001b[0;34m+\u001b[0m\u001b[0;34m\".jpg\"\u001b[0m\u001b[0;34m)\u001b[0m\u001b[0;34m\u001b[0m\u001b[0;34m\u001b[0m\u001b[0m\n\u001b[0;32m---> 16\u001b[0;31m         \u001b[0mimage\u001b[0m \u001b[0;34m=\u001b[0m \u001b[0mImage\u001b[0m\u001b[0;34m.\u001b[0m\u001b[0mopen\u001b[0m\u001b[0;34m(\u001b[0m\u001b[0mimg_path\u001b[0m\u001b[0;34m)\u001b[0m\u001b[0;34m.\u001b[0m\u001b[0mconvert\u001b[0m\u001b[0;34m(\u001b[0m\u001b[0;34m'RGB'\u001b[0m\u001b[0;34m)\u001b[0m\u001b[0;34m\u001b[0m\u001b[0;34m\u001b[0m\u001b[0m\n\u001b[0m\u001b[1;32m     17\u001b[0m         \u001b[0mclass_label\u001b[0m \u001b[0;34m=\u001b[0m \u001b[0mself\u001b[0m\u001b[0;34m.\u001b[0m\u001b[0mimg_labels\u001b[0m\u001b[0;34m.\u001b[0m\u001b[0miloc\u001b[0m\u001b[0;34m[\u001b[0m\u001b[0midx\u001b[0m\u001b[0;34m,\u001b[0m \u001b[0;36m1\u001b[0m\u001b[0;34m]\u001b[0m \u001b[0;34m-\u001b[0m \u001b[0;36m1\u001b[0m\u001b[0;34m\u001b[0m\u001b[0;34m\u001b[0m\u001b[0m\n\u001b[1;32m     18\u001b[0m         \u001b[0mbinary_label\u001b[0m \u001b[0;34m=\u001b[0m \u001b[0mself\u001b[0m\u001b[0;34m.\u001b[0m\u001b[0mimg_labels\u001b[0m\u001b[0;34m.\u001b[0m\u001b[0miloc\u001b[0m\u001b[0;34m[\u001b[0m\u001b[0midx\u001b[0m\u001b[0;34m,\u001b[0m \u001b[0;36m2\u001b[0m\u001b[0;34m]\u001b[0m \u001b[0;34m-\u001b[0m \u001b[0;36m1\u001b[0m\u001b[0;34m\u001b[0m\u001b[0;34m\u001b[0m\u001b[0m\n",
            "\u001b[0;32m/usr/local/lib/python3.10/dist-packages/PIL/Image.py\u001b[0m in \u001b[0;36mopen\u001b[0;34m(fp, mode, formats)\u001b[0m\n\u001b[1;32m   2973\u001b[0m \u001b[0;34m\u001b[0m\u001b[0m\n\u001b[1;32m   2974\u001b[0m     \u001b[0;32mif\u001b[0m \u001b[0mfilename\u001b[0m\u001b[0;34m:\u001b[0m\u001b[0;34m\u001b[0m\u001b[0;34m\u001b[0m\u001b[0m\n\u001b[0;32m-> 2975\u001b[0;31m         \u001b[0mfp\u001b[0m \u001b[0;34m=\u001b[0m \u001b[0mbuiltins\u001b[0m\u001b[0;34m.\u001b[0m\u001b[0mopen\u001b[0m\u001b[0;34m(\u001b[0m\u001b[0mfilename\u001b[0m\u001b[0;34m,\u001b[0m \u001b[0;34m\"rb\"\u001b[0m\u001b[0;34m)\u001b[0m\u001b[0;34m\u001b[0m\u001b[0;34m\u001b[0m\u001b[0m\n\u001b[0m\u001b[1;32m   2976\u001b[0m         \u001b[0mexclusive_fp\u001b[0m \u001b[0;34m=\u001b[0m \u001b[0;32mTrue\u001b[0m\u001b[0;34m\u001b[0m\u001b[0;34m\u001b[0m\u001b[0m\n\u001b[1;32m   2977\u001b[0m \u001b[0;34m\u001b[0m\u001b[0m\n",
            "\u001b[0;31mFileNotFoundError\u001b[0m: [Errno 2] No such file or directory: '/content/drive/MyDrive/PET/oxford-iiit-pet/images/Birman_81.jpg'"
          ]
        }
      ]
    },
    {
      "cell_type": "markdown",
      "source": [
        "### Comparaison between fine-tunning the last layer and \n",
        "\n",
        "1.   Fine-tuning batch normalization\n",
        "2.   Data augmenting\n",
        "3.   Finetuning more layers\n",
        "\n"
      ],
      "metadata": {
        "id": "wllhXfKFA2Vx"
      }
    },
    {
      "cell_type": "code",
      "source": [
        "# Getting the accuracies for each epoch from the file val_accuracies.txt:\n",
        "\n",
        "hist_ft = [torch.tensor(0.7734, device='cuda:0', dtype=torch.float64), torch.tensor(0.8440, device='cuda:0', dtype=torch.float64), torch.tensor(0.8643, device='cuda:0', dtype=torch.float64), torch.tensor(0.8765, device='cuda:0', dtype=torch.float64), torch.tensor(0.8847, device='cuda:0', dtype=torch.float64), torch.tensor(0.8725, device='cuda:0', dtype=torch.float64), torch.tensor(0.8820, device='cuda:0', dtype=torch.float64), torch.tensor(0.8847, device='cuda:0', dtype=torch.float64), torch.tensor(0.8942, device='cuda:0', dtype=torch.float64), torch.tensor(0.9023, device='cuda:0', dtype=torch.float64), torch.tensor(0.8833, device='cuda:0', dtype=torch.float64), torch.tensor(0.8874, device='cuda:0', dtype=torch.float64), torch.tensor(0.9064, device='cuda:0', dtype=torch.float64), torch.tensor(0.8955, device='cuda:0', dtype=torch.float64), torch.tensor(0.8969, device='cuda:0', dtype=torch.float64)]\n",
        "\n",
        "hist_ft_bn = [torch.tensor(0.8195, device='cuda:0', dtype=torch.float64), torch.tensor(0.8887, device='cuda:0', dtype=torch.float64), torch.tensor(0.8765, device='cuda:0', dtype=torch.float64), torch.tensor(0.9037, device='cuda:0', dtype=torch.float64), torch.tensor(0.8969, device='cuda:0', dtype=torch.float64), torch.tensor(0.8969, device='cuda:0', dtype=torch.float64), torch.tensor(0.9009, device='cuda:0', dtype=torch.float64), torch.tensor(0.8996, device='cuda:0', dtype=torch.float64), torch.tensor(0.9023, device='cuda:0', dtype=torch.float64), torch.tensor(0.9077, device='cuda:0', dtype=torch.float64), torch.tensor(0.9050, device='cuda:0', dtype=torch.float64), torch.tensor(0.8969, device='cuda:0', dtype=torch.float64), torch.tensor(0.9037, device='cuda:0', dtype=torch.float64), torch.tensor(0.9104, device='cuda:0', dtype=torch.float64), torch.tensor(0.8996, device='cuda:0', dtype=torch.float64)]\n",
        "\n",
        "ohist = [h.cpu().numpy() for h in hist_ft]\n",
        "shist = [h.cpu().numpy() for h in hist_ft_bn]\n",
        "\n",
        "plt.title(\"Validation Accuracy vs. Number of Training Epochs\")\n",
        "plt.xlabel(\"Training Epochs\")\n",
        "plt.ylabel(\"Validation Accuracy\")\n",
        "plt.plot(range(1,num_epochs+1),ohist,label=\"Last layer finetuned\")\n",
        "plt.plot(range(1,num_epochs+1),shist,label=\"BN finetuned\")\n",
        "plt.ylim(0.7, 1)\n",
        "ohist_max = max(ohist)\n",
        "shist_max = max(shist)\n",
        "plt.annotate(f\"Max: {ohist_max:.4f}\", xy=(ohist.index(ohist_max)+1, ohist_max), xytext=(ohist.index(ohist_max)+1.5, ohist_max-0.05), color='blue')\n",
        "plt.annotate(f\"Max: {shist_max:.4f}\", xy=(shist.index(shist_max)+1, shist_max), xytext=(shist.index(shist_max)+1.5, shist_max+0.01), color='orange')\n",
        "plt.xticks(np.arange(1, num_epochs+1, 1.0))\n",
        "plt.legend()\n",
        "plt.show()\n",
        "\n"
      ],
      "metadata": {
        "colab": {
          "base_uri": "https://localhost:8080/",
          "height": 472
        },
        "id": "Y1zOOdqmBP1Y",
        "outputId": "f1090c9a-8b0e-43dc-bf8c-8a88b68e4c90"
      },
      "execution_count": null,
      "outputs": [
        {
          "output_type": "display_data",
          "data": {
            "text/plain": [
              "<Figure size 640x480 with 1 Axes>"
            ],
            "image/png": "[encoded data removed]"
          },
          "metadata": {}
        }
      ]
    },
    {
      "cell_type": "markdown",
      "metadata": {
        "id": "b53pLo0Tseb5"
      },
      "source": [
        "Comparison with Model Trained from Scratch\n",
        "------------------------------------------\n",
        "\n",
        "Just for fun, lets see how the model learns if we do not use transfer\n",
        "learning. The performance of finetuning vs. feature extracting depends\n",
        "largely on the dataset but in general both transfer learning methods\n",
        "produce favorable results in terms of training time and overall accuracy\n",
        "versus a model trained from scratch.\n",
        "\n",
        "\n"
      ]
    },
    {
      "cell_type": "code",
      "execution_count": null,
      "metadata": {
        "id": "ettfGUI0seb6",
        "colab": {
          "base_uri": "https://localhost:8080/"
        },
        "outputId": "b3a3deff-5c99-4267-b7bb-987aaad118f7"
      },
      "outputs": [
        {
          "output_type": "stream",
          "name": "stderr",
          "text": [
            "/usr/local/lib/python3.10/dist-packages/torchvision/models/_utils.py:208: UserWarning: The parameter 'pretrained' is deprecated since 0.13 and may be removed in the future, please use 'weights' instead.\n",
            "  warnings.warn(\n",
            "/usr/local/lib/python3.10/dist-packages/torchvision/models/_utils.py:223: UserWarning: Arguments other than a weight enum or `None` for 'weights' are deprecated since 0.13 and may be removed in the future. The current behavior is equivalent to passing `weights=None`.\n",
            "  warnings.warn(msg)\n"
          ]
        },
        {
          "output_type": "stream",
          "name": "stdout",
          "text": [
            "Epoch 0/14\n",
            "----------\n",
            "train Loss: 0.6842 Acc: 0.6354\n",
            "val Loss: 0.6145 Acc: 0.6771\n",
            "\n",
            "Epoch 1/14\n",
            "----------\n",
            "train Loss: 0.6886 Acc: 0.6357\n",
            "val Loss: 0.7270 Acc: 0.6771\n",
            "\n",
            "Epoch 2/14\n",
            "----------\n",
            "train Loss: 0.6550 Acc: 0.6381\n",
            "val Loss: 1.0460 Acc: 0.6771\n",
            "\n",
            "Epoch 3/14\n",
            "----------\n",
            "train Loss: 0.6488 Acc: 0.6504\n",
            "val Loss: 0.5952 Acc: 0.6771\n",
            "\n",
            "Epoch 4/14\n",
            "----------\n",
            "train Loss: 0.6402 Acc: 0.6524\n",
            "val Loss: 0.6026 Acc: 0.6784\n",
            "\n",
            "Epoch 5/14\n",
            "----------\n",
            "train Loss: 0.6288 Acc: 0.6670\n"
          ]
        }
      ],
      "source": [
        "# Initialize the non-pretrained version of the model used for this run\n",
        "scratch_model,_ = initialize_model(model_name, num_classes, feature_extract=False, use_pretrained=False)\n",
        "scratch_model = scratch_model.to(device)\n",
        "scratch_optimizer = optim.SGD(scratch_model.parameters(), lr=0.001, momentum=0.9)\n",
        "scratch_criterion = nn.CrossEntropyLoss()\n",
        "_,scratch_hist = train_model(scratch_model, dataloaders_dict, scratch_criterion, scratch_optimizer, num_epochs=num_epochs, is_inception=(model_name==\"inception\"))\n",
        "\n",
        "# Plot the training curves of validation accuracy vs. number \n",
        "#  of training epochs for the transfer learning method and\n",
        "#  the model trained from scratch\n",
        "ohist = []\n",
        "shist = []\n",
        "\n",
        "ohist = [h.cpu().numpy() for h in hist]\n",
        "shist = [h.cpu().numpy() for h in scratch_hist]\n",
        "\n",
        "plt.title(\"Validation Accuracy vs. Number of Training Epochs\")\n",
        "plt.xlabel(\"Training Epochs\")\n",
        "plt.ylabel(\"Validation Accuracy\")\n",
        "plt.plot(range(1,num_epochs+1),ohist,label=\"Pretrained\")\n",
        "plt.plot(range(1,num_epochs+1),shist,label=\"Scratch\")\n",
        "plt.ylim((0,1.))\n",
        "plt.xticks(np.arange(1, num_epochs+1, 1.0))\n",
        "plt.legend()\n",
        "plt.show()"
      ]
    },
    {
      "cell_type": "markdown",
      "metadata": {
        "id": "bmseSOgjseb6"
      },
      "source": [
        "Final Thoughts and Where to Go Next\n",
        "-----------------------------------\n",
        "\n",
        "Try running some of the other models and see how good the accuracy gets.\n",
        "Also, notice that feature extracting takes less time because in the\n",
        "backward pass we do not have to calculate most of the gradients. There\n",
        "are many places to go from here. You could:\n",
        "\n",
        "-  Run this code with a harder dataset and see some more benefits of\n",
        "   transfer learning\n",
        "-  Using the methods described here, use transfer learning to update a\n",
        "   different model, perhaps in a new domain (i.e. NLP, audio, etc.)\n",
        "-  Once you are happy with a model, you can export it as an ONNX model,\n",
        "   or trace it using the hybrid frontend for more speed and optimization\n",
        "   opportunities.\n",
        "\n",
        "\n"
      ]
    }
  ],
  "metadata": {
    "colab": {
      "provenance": [],
      "gpuType": "T4"
    },
    "kernelspec": {
      "display_name": "Python 3",
      "language": "python",
      "name": "python3"
    },
    "language_info": {
      "codemirror_mode": {
        "name": "ipython",
        "version": 3
      },
      "file_extension": ".py",
      "mimetype": "text/x-python",
      "name": "python",
      "nbconvert_exporter": "python",
      "pygments_lexer": "ipython3",
      "version": "3.6.8"
    },
    "accelerator": "GPU",
    "gpuClass": "standard"
  },
  "nbformat": 4,
  "nbformat_minor": 0
}